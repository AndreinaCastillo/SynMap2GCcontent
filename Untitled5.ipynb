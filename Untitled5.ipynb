{
 "cells": [
  {
   "cell_type": "code",
   "execution_count": 59,
   "metadata": {
    "collapsed": false
   },
   "outputs": [
    {
     "data": {
      "text/html": [
       "<script>requirejs.config({paths: { 'plotly': ['https://cdn.plot.ly/plotly-latest.min']},});if(!window.Plotly) {{require(['plotly'],function(plotly) {window.Plotly=plotly;});}}</script>"
      ],
      "text/plain": [
       "<IPython.core.display.HTML object>"
      ]
     },
     "metadata": {},
     "output_type": "display_data"
    }
   ],
   "source": [
    "####Import library\n",
    "import fileinput\n",
    "import os, sys\n",
    "import collections\n",
    "import itertools\n",
    "from operator import itemgetter\n",
    "from itertools import islice\n",
    "from itertools import groupby\n",
    "import numpy as np\n",
    "from plotly import __version__\n",
    "from plotly.offline import download_plotlyjs, init_notebook_mode, plot, iplot\n",
    "from plotly.graph_objs import Bar, Scatter, Figure, Layout\n",
    "init_notebook_mode(connected=True)"
   ]
  },
  {
   "cell_type": "code",
   "execution_count": 60,
   "metadata": {
    "collapsed": false
   },
   "outputs": [],
   "source": [
    "###File input/path\n",
    "\n",
    "#fasta_line_source = fileinput.FileInput(os.path.expanduser('Plasmodium_chabaudi_chabaudi_strain_AS.faa'))\n",
    "#fasta_line_source = fileinput.FileInput(os.path.expanduser('Plasmodium_chabaudi_chabaudi_TEST2.faa'))\n",
    "#fasta_line_source = fileinput.FileInput(os.path.expanduser('Plasmodium_falciparum_IT.faa'))\n",
    "#fasta_line_source = fileinput.FileInput(os.path.expanduser('contigSrtPlasmoDBreichenowiCDC'))\n",
    "#fasta_line_source = fileinput.FileInput(os.path.expanduser('contigSrtPlasmoDBberghei'))\n",
    "#fasta_line_source = fileinput.FileInput(os.path.expanduser('test'))\n",
    "fasta_line_source = fileinput.FileInput(os.path.expanduser('Plasmodium_inui_San_Antonio_test5.faa'))"
   ]
  },
  {
   "cell_type": "code",
   "execution_count": 61,
   "metadata": {
    "collapsed": true
   },
   "outputs": [],
   "source": [
    "####Global variable \n",
    "window_size = 3"
   ]
  },
  {
   "cell_type": "code",
   "execution_count": 62,
   "metadata": {
    "collapsed": false
   },
   "outputs": [],
   "source": [
    "def lines_to_contigs(lines):\n",
    "    contig_dictionary = None\n",
    "    current_contig_name = None    \n",
    "    current_contig_sequence = []\n",
    "    lines_with_eof_token = itertools.chain(lines, ['>EOF'])\n",
    "    for line in lines_with_eof_token:\n",
    "        if line.startswith(\">\"):\n",
    "            #print('line: {}'.format(line))\n",
    "            if current_contig_name:\n",
    "                #print(line)\n",
    "                #print('current_contig_name: {}'.format(current_contig_name))\n",
    "                contig_sequence_string = \"\".join(current_contig_sequence)\n",
    "                contig_sequence_string = contig_sequence_string.upper( )\n",
    "                contig_dictionary = {\"name\" : current_contig_name, \"sequence\" : contig_sequence_string}\n",
    "                yield contig_dictionary\n",
    "                current_contig_sequence = []\n",
    "            current_contig_name = line[1:].strip()\n",
    "        else:  \n",
    "            current_contig_sequence.append(line.strip())\n",
    "            \n",
    "# generator_lines_to_contigs = lines_to_contigs(fasta_line_source)\n",
    "# for i in generator_lines_to_contigs:\n",
    "#     print(i)"
   ]
  },
  {
   "cell_type": "code",
   "execution_count": 63,
   "metadata": {
    "collapsed": false
   },
   "outputs": [],
   "source": [
    "def sequence_split(contigs_iterator):\n",
    "    for contig in contigs_iterator:\n",
    "        yield {'name': contig['name'], 'sequence': tuple(contig['sequence'])}\n",
    "\n",
    "# nucleotides2 = sequence_split(lines_to_contigs(fasta_line_source))\n",
    "# for i in nucleotides2:\n",
    "#     print(i)"
   ]
  },
  {
   "cell_type": "code",
   "execution_count": 64,
   "metadata": {
    "collapsed": false
   },
   "outputs": [],
   "source": [
    "def group_nucleotides(nucleotide_seqs):\n",
    "    nucleotide_group_map = {'A': 'AT','T': 'AT','G': 'GC','C': 'GC','N': 'N','X': 'X'}\n",
    "    for nucleotide_seq in nucleotide_seqs:\n",
    "        nucleotide_groups = (nucleotide_group_map[base] for base in nucleotide_seq['sequence'])\n",
    "        yield {'name': nucleotide_seq['name'], 'sequence': nucleotide_groups}\n",
    "\n",
    "# nucleotides_seq = group_nucleotides(sequence_split(lines_to_contigs(fasta_line_source)))\n",
    "# for i in nucleotides_seq:\n",
    "#     print(list(islice(i['sequence'], 10)))"
   ]
  },
  {
   "cell_type": "code",
   "execution_count": 65,
   "metadata": {
    "collapsed": false
   },
   "outputs": [],
   "source": [
    "def sliding_percentages(nucleos, window_size, unique_nucleotides):\n",
    "    for nucleo in nucleos:\n",
    "        sliding_window = collections.deque(itertools.islice(nucleo['sequence'], window_size), maxlen=window_size)\n",
    "        counter = collections.Counter({nucleotides: 0 for nucleotides in unique_nucleotides})   \n",
    "        counter.update(sliding_window)\n",
    "        window_percentage = {nucleotides: (counter / window_size)*100 for nucleotides, counter in counter.items()}\n",
    "        \n",
    "        for base in nucleo['sequence']:\n",
    "            itertools.islice(nucleo['sequence'], window_size, None)\n",
    "            trailing_nucleotide = sliding_window.popleft()\n",
    "            counter.subtract([trailing_nucleotide])\n",
    "            sliding_window.append(base)\n",
    "            counter.update([base])\n",
    "            window_percentage = {nucleotides: (counter / window_size)*100 for nucleotides, counter in counter.items()}\n",
    "            yield {'name': nucleo['name'], 'sequence': window_percentage}\n",
    "        \n",
    "nucleotides4 = sliding_percentages(group_nucleotides(sequence_split(lines_to_contigs(fasta_line_source))),window_size,('AT', 'GC', 'N', 'X'))\n",
    "# for i in nucleotides4:\n",
    "#     print(i)"
   ]
  },
  {
   "cell_type": "code",
   "execution_count": 66,
   "metadata": {
    "collapsed": false
   },
   "outputs": [
    {
     "data": {
      "text/html": [
       "<div id=\"8733eaff-5c15-4fdf-bdb5-490aeb35a1bb\" style=\"height: 525px; width: 100%;\" class=\"plotly-graph-div\"></div><script type=\"text/javascript\">require([\"plotly\"], function(Plotly) { window.PLOTLYENV=window.PLOTLYENV || {};window.PLOTLYENV.BASE_URL=\"https://plot.ly\";Plotly.newPlot(\"8733eaff-5c15-4fdf-bdb5-490aeb35a1bb\", [{\"y\": [100.0, 100.0, 100.0, 66.66666666666666, 66.66666666666666, 66.66666666666666, 100.0, 100.0, 100.0, 100.0, 100.0, 66.66666666666666, 66.66666666666666, 66.66666666666666, 66.66666666666666, 66.66666666666666, 66.66666666666666, 100.0, 100.0, 66.66666666666666, 33.33333333333333, 33.33333333333333, 66.66666666666666, 66.66666666666666, 66.66666666666666, 66.66666666666666, 100.0, 100.0, 100.0, 100.0, 100.0, 66.66666666666666, 66.66666666666666, 66.66666666666666, 66.66666666666666, 33.33333333333333, 33.33333333333333, 33.33333333333333, 33.33333333333333, 33.33333333333333, 66.66666666666666, 66.66666666666666, 33.33333333333333, 33.33333333333333, 33.33333333333333, 33.33333333333333, 0.0, 33.33333333333333, 33.33333333333333, 33.33333333333333, 33.33333333333333, 33.33333333333333, 66.66666666666666, 66.66666666666666, 100.0, 100.0, 100.0, 66.66666666666666, 33.33333333333333, 0.0, 0.0, 33.33333333333333, 33.33333333333333, 33.33333333333333, 33.33333333333333, 33.33333333333333, 66.66666666666666, 33.33333333333333, 33.33333333333333, 33.33333333333333, 33.33333333333333, 33.33333333333333, 0.0, 0.0, 0.0, 0.0], \"line\": {\"color\": \"rgb(3,141,243)\"}, \"type\": \"scatter\", \"name\": \"AT content\"}, {\"y\": [0.0, 0.0, 0.0, 0.0, 0.0, 0.0, 0.0, 0.0, 0.0, 0.0, 0.0, 0.0, 0.0, 0.0, 0.0, 0.0, 0.0, 0.0, 0.0, 33.33333333333333, 66.66666666666666, 66.66666666666666, 33.33333333333333, 33.33333333333333, 33.33333333333333, 33.33333333333333, 0.0, 0.0, 0.0, 0.0, 0.0, 33.33333333333333, 33.33333333333333, 33.33333333333333, 33.33333333333333, 66.66666666666666, 66.66666666666666, 66.66666666666666, 66.66666666666666, 66.66666666666666, 33.33333333333333, 33.33333333333333, 66.66666666666666, 66.66666666666666, 66.66666666666666, 66.66666666666666, 100.0, 66.66666666666666, 66.66666666666666, 66.66666666666666, 66.66666666666666, 66.66666666666666, 33.33333333333333, 33.33333333333333, 0.0, 0.0, 0.0, 33.33333333333333, 66.66666666666666, 100.0, 100.0, 66.66666666666666, 66.66666666666666, 66.66666666666666, 66.66666666666666, 66.66666666666666, 33.33333333333333, 66.66666666666666, 66.66666666666666, 66.66666666666666, 66.66666666666666, 66.66666666666666, 100.0, 100.0, 100.0, 100.0], \"line\": {\"color\": \"rgb(64,182,77)\"}, \"type\": \"scatter\", \"name\": \"GC content\"}, {\"y\": [0.0, 0.0, 0.0, 33.33333333333333, 33.33333333333333, 33.33333333333333, 0.0, 0.0, 0.0, 0.0, 0.0, 0.0, 0.0, 0.0, 33.33333333333333, 33.33333333333333, 33.33333333333333, 0.0, 0.0, 0.0, 0.0, 0.0, 0.0, 0.0, 0.0, 0.0, 0.0, 0.0, 0.0, 0.0, 0.0, 0.0, 0.0, 0.0, 0.0, 0.0, 0.0, 0.0, 0.0, 0.0, 0.0, 0.0, 0.0, 0.0, 0.0, 0.0, 0.0, 0.0, 0.0, 0.0, 0.0, 0.0, 0.0, 0.0, 0.0, 0.0, 0.0, 0.0, 0.0, 0.0, 0.0, 0.0, 0.0, 0.0, 0.0, 0.0, 0.0, 0.0, 0.0, 0.0, 0.0, 0.0, 0.0, 0.0, 0.0, 0.0], \"line\": {\"color\": \"rgb(243,145,3)\"}, \"type\": \"scatter\", \"name\": \"N content\"}, {\"y\": [0.0, 0.0, 0.0, 0.0, 0.0, 0.0, 0.0, 0.0, 0.0, 0.0, 0.0, 33.33333333333333, 33.33333333333333, 33.33333333333333, 0.0, 0.0, 0.0, 0.0, 0.0, 0.0, 0.0, 0.0, 0.0, 0.0, 0.0, 0.0, 0.0, 0.0, 0.0, 0.0, 0.0, 0.0, 0.0, 0.0, 0.0, 0.0, 0.0, 0.0, 0.0, 0.0, 0.0, 0.0, 0.0, 0.0, 0.0, 0.0, 0.0, 0.0, 0.0, 0.0, 0.0, 0.0, 0.0, 0.0, 0.0, 0.0, 0.0, 0.0, 0.0, 0.0, 0.0, 0.0, 0.0, 0.0, 0.0, 0.0, 0.0, 0.0, 0.0, 0.0, 0.0, 0.0, 0.0, 0.0, 0.0, 0.0], \"line\": {\"color\": \"rgb(171,3,243)\"}, \"type\": \"scatter\", \"name\": \"X content\"}], {\"title\": \"Sliding window analysis for lcl|NW_008482041.1\", \"xaxis\": {\"title\": \"Iteration of sliding window (size=3) across length of sequence\", \"rangeslider\": {}}, \"yaxis\": {\"title\": \"Percentage (%)\"}}, {\"showLink\": true, \"linkText\": \"Export to plot.ly\"})});</script>"
      ],
      "text/plain": [
       "<IPython.core.display.HTML object>"
      ]
     },
     "metadata": {},
     "output_type": "display_data"
    },
    {
     "data": {
      "text/html": [
       "<div id=\"1410340a-2b6b-4730-98e1-91e7efb33d3b\" style=\"height: 525px; width: 100%;\" class=\"plotly-graph-div\"></div><script type=\"text/javascript\">require([\"plotly\"], function(Plotly) { window.PLOTLYENV=window.PLOTLYENV || {};window.PLOTLYENV.BASE_URL=\"https://plot.ly\";Plotly.newPlot(\"1410340a-2b6b-4730-98e1-91e7efb33d3b\", [{\"y\": [100.0, 100.0, 100.0, 66.66666666666666, 33.33333333333333, 0.0, 0.0, 33.33333333333333, 33.33333333333333, 66.66666666666666, 66.66666666666666, 100.0, 100.0, 66.66666666666666, 33.33333333333333, 0.0, 0.0, 33.33333333333333, 33.33333333333333, 66.66666666666666, 66.66666666666666, 100.0, 100.0, 66.66666666666666, 66.66666666666666, 66.66666666666666, 100.0, 100.0, 66.66666666666666, 66.66666666666666, 33.33333333333333, 66.66666666666666, 66.66666666666666, 100.0, 100.0, 100.0, 100.0, 66.66666666666666, 66.66666666666666, 33.33333333333333, 66.66666666666666, 33.33333333333333, 66.66666666666666, 66.66666666666666, 100.0, 100.0, 100.0, 100.0, 100.0, 66.66666666666666, 33.33333333333333, 33.33333333333333, 66.66666666666666, 100.0, 100.0, 66.66666666666666, 66.66666666666666, 33.33333333333333, 66.66666666666666, 33.33333333333333, 33.33333333333333, 0.0, 33.33333333333333, 66.66666666666666, 100.0, 100.0, 100.0, 66.66666666666666, 66.66666666666666, 66.66666666666666, 66.66666666666666, 33.33333333333333, 0.0, 0.0, 0.0, 0.0], \"line\": {\"color\": \"rgb(3,141,243)\"}, \"type\": \"scatter\", \"name\": \"AT content\"}, {\"y\": [0.0, 0.0, 0.0, 33.33333333333333, 66.66666666666666, 100.0, 100.0, 66.66666666666666, 66.66666666666666, 33.33333333333333, 33.33333333333333, 0.0, 0.0, 33.33333333333333, 66.66666666666666, 100.0, 100.0, 66.66666666666666, 66.66666666666666, 33.33333333333333, 33.33333333333333, 0.0, 0.0, 33.33333333333333, 33.33333333333333, 33.33333333333333, 0.0, 0.0, 33.33333333333333, 33.33333333333333, 66.66666666666666, 33.33333333333333, 33.33333333333333, 0.0, 0.0, 0.0, 0.0, 33.33333333333333, 33.33333333333333, 66.66666666666666, 33.33333333333333, 66.66666666666666, 33.33333333333333, 33.33333333333333, 0.0, 0.0, 0.0, 0.0, 0.0, 33.33333333333333, 66.66666666666666, 66.66666666666666, 33.33333333333333, 0.0, 0.0, 33.33333333333333, 33.33333333333333, 66.66666666666666, 33.33333333333333, 66.66666666666666, 66.66666666666666, 100.0, 66.66666666666666, 33.33333333333333, 0.0, 0.0, 0.0, 33.33333333333333, 33.33333333333333, 33.33333333333333, 33.33333333333333, 66.66666666666666, 100.0, 100.0, 100.0, 100.0], \"line\": {\"color\": \"rgb(64,182,77)\"}, \"type\": \"scatter\", \"name\": \"GC content\"}, {\"y\": [0.0, 0.0, 0.0, 0.0, 0.0, 0.0, 0.0, 0.0, 0.0, 0.0, 0.0, 0.0, 0.0, 0.0, 0.0, 0.0, 0.0, 0.0, 0.0, 0.0, 0.0, 0.0, 0.0, 0.0, 0.0, 0.0, 0.0, 0.0, 0.0, 0.0, 0.0, 0.0, 0.0, 0.0, 0.0, 0.0, 0.0, 0.0, 0.0, 0.0, 0.0, 0.0, 0.0, 0.0, 0.0, 0.0, 0.0, 0.0, 0.0, 0.0, 0.0, 0.0, 0.0, 0.0, 0.0, 0.0, 0.0, 0.0, 0.0, 0.0, 0.0, 0.0, 0.0, 0.0, 0.0, 0.0, 0.0, 0.0, 0.0, 0.0, 0.0, 0.0, 0.0, 0.0, 0.0, 0.0], \"line\": {\"color\": \"rgb(243,145,3)\"}, \"type\": \"scatter\", \"name\": \"N content\"}, {\"y\": [0.0, 0.0, 0.0, 0.0, 0.0, 0.0, 0.0, 0.0, 0.0, 0.0, 0.0, 0.0, 0.0, 0.0, 0.0, 0.0, 0.0, 0.0, 0.0, 0.0, 0.0, 0.0, 0.0, 0.0, 0.0, 0.0, 0.0, 0.0, 0.0, 0.0, 0.0, 0.0, 0.0, 0.0, 0.0, 0.0, 0.0, 0.0, 0.0, 0.0, 0.0, 0.0, 0.0, 0.0, 0.0, 0.0, 0.0, 0.0, 0.0, 0.0, 0.0, 0.0, 0.0, 0.0, 0.0, 0.0, 0.0, 0.0, 0.0, 0.0, 0.0, 0.0, 0.0, 0.0, 0.0, 0.0, 0.0, 0.0, 0.0, 0.0, 0.0, 0.0, 0.0, 0.0, 0.0, 0.0], \"line\": {\"color\": \"rgb(171,3,243)\"}, \"type\": \"scatter\", \"name\": \"X content\"}], {\"title\": \"Sliding window analysis for lcl|NW_008482042.1\", \"xaxis\": {\"title\": \"Iteration of sliding window (size=3) across length of sequence\", \"rangeslider\": {}}, \"yaxis\": {\"title\": \"Percentage (%)\"}}, {\"showLink\": true, \"linkText\": \"Export to plot.ly\"})});</script>"
      ],
      "text/plain": [
       "<IPython.core.display.HTML object>"
      ]
     },
     "metadata": {},
     "output_type": "display_data"
    },
    {
     "data": {
      "text/html": [
       "<div id=\"b008bb0e-5e0c-49c6-ad14-0bc39f7cc3ac\" style=\"height: 525px; width: 100%;\" class=\"plotly-graph-div\"></div><script type=\"text/javascript\">require([\"plotly\"], function(Plotly) { window.PLOTLYENV=window.PLOTLYENV || {};window.PLOTLYENV.BASE_URL=\"https://plot.ly\";Plotly.newPlot(\"b008bb0e-5e0c-49c6-ad14-0bc39f7cc3ac\", [{\"y\": [66.66666666666666, 33.33333333333333, 33.33333333333333, 33.33333333333333, 66.66666666666666, 66.66666666666666, 33.33333333333333, 0.0, 33.33333333333333, 33.33333333333333, 66.66666666666666, 66.66666666666666, 100.0, 66.66666666666666, 66.66666666666666, 66.66666666666666, 100.0, 66.66666666666666, 33.33333333333333, 33.33333333333333, 66.66666666666666, 100.0, 100.0, 100.0, 100.0, 100.0, 100.0, 100.0, 100.0], \"line\": {\"color\": \"rgb(3,141,243)\"}, \"type\": \"scatter\", \"name\": \"AT content\"}, {\"y\": [33.33333333333333, 66.66666666666666, 66.66666666666666, 66.66666666666666, 33.33333333333333, 33.33333333333333, 66.66666666666666, 100.0, 66.66666666666666, 66.66666666666666, 33.33333333333333, 33.33333333333333, 0.0, 33.33333333333333, 33.33333333333333, 33.33333333333333, 0.0, 33.33333333333333, 66.66666666666666, 66.66666666666666, 33.33333333333333, 0.0, 0.0, 0.0, 0.0, 0.0, 0.0, 0.0, 0.0], \"line\": {\"color\": \"rgb(64,182,77)\"}, \"type\": \"scatter\", \"name\": \"GC content\"}, {\"y\": [0.0, 0.0, 0.0, 0.0, 0.0, 0.0, 0.0, 0.0, 0.0, 0.0, 0.0, 0.0, 0.0, 0.0, 0.0, 0.0, 0.0, 0.0, 0.0, 0.0, 0.0, 0.0, 0.0, 0.0, 0.0, 0.0, 0.0, 0.0, 0.0], \"line\": {\"color\": \"rgb(243,145,3)\"}, \"type\": \"scatter\", \"name\": \"N content\"}, {\"y\": [0.0, 0.0, 0.0, 0.0, 0.0, 0.0, 0.0, 0.0, 0.0, 0.0, 0.0, 0.0, 0.0, 0.0, 0.0, 0.0, 0.0, 0.0, 0.0, 0.0, 0.0, 0.0, 0.0, 0.0, 0.0, 0.0, 0.0, 0.0, 0.0], \"line\": {\"color\": \"rgb(171,3,243)\"}, \"type\": \"scatter\", \"name\": \"X content\"}], {\"title\": \"Sliding window analysis for lcl|NW_008482049.1\", \"xaxis\": {\"title\": \"Iteration of sliding window (size=3) across length of sequence\", \"rangeslider\": {}}, \"yaxis\": {\"title\": \"Percentage (%)\"}}, {\"showLink\": true, \"linkText\": \"Export to plot.ly\"})});</script>"
      ],
      "text/plain": [
       "<IPython.core.display.HTML object>"
      ]
     },
     "metadata": {},
     "output_type": "display_data"
    },
    {
     "data": {
      "text/html": [
       "<div id=\"e8d03aa3-43fd-4e1b-b991-54459b98ff72\" style=\"height: 525px; width: 100%;\" class=\"plotly-graph-div\"></div><script type=\"text/javascript\">require([\"plotly\"], function(Plotly) { window.PLOTLYENV=window.PLOTLYENV || {};window.PLOTLYENV.BASE_URL=\"https://plot.ly\";Plotly.newPlot(\"e8d03aa3-43fd-4e1b-b991-54459b98ff72\", [{\"y\": [0.0, 0.0, 0.0, 0.0, 0.0, 0.0, 0.0, 0.0, 0.0, 0.0, 0.0, 0.0, 0.0, 0.0, 0.0, 0.0, 0.0, 0.0, 0.0, 0.0, 0.0, 0.0, 0.0, 0.0, 0.0, 0.0, 0.0, 0.0, 0.0, 0.0, 0.0, 0.0, 0.0, 0.0, 0.0, 0.0, 0.0, 0.0, 0.0, 0.0, 0.0, 0.0, 0.0, 0.0, 0.0, 0.0, 0.0, 0.0, 0.0, 0.0, 0.0, 0.0, 0.0, 0.0, 0.0, 0.0, 0.0, 0.0, 0.0, 0.0, 0.0, 0.0, 0.0, 0.0, 0.0, 0.0, 0.0, 0.0, 0.0, 0.0, 0.0, 0.0, 0.0, 0.0, 0.0, 0.0, 0.0, 0.0, 0.0, 0.0, 0.0, 0.0, 0.0, 0.0, 0.0, 0.0, 0.0, 0.0, 0.0, 0.0, 0.0, 0.0, 0.0, 0.0, 0.0, 0.0, 0.0, 0.0, 0.0, 0.0, 0.0, 0.0, 0.0, 0.0, 0.0, 0.0, 0.0, 0.0, 0.0, 0.0, 33.33333333333333, 33.33333333333333, 33.33333333333333, 0.0, 33.33333333333333, 33.33333333333333, 33.33333333333333, 33.33333333333333, 33.33333333333333, 66.66666666666666, 33.33333333333333, 66.66666666666666, 66.66666666666666, 100.0, 66.66666666666666, 33.33333333333333, 33.33333333333333, 66.66666666666666, 100.0, 100.0, 100.0, 66.66666666666666, 66.66666666666666, 66.66666666666666, 66.66666666666666, 66.66666666666666, 66.66666666666666, 66.66666666666666, 33.33333333333333, 33.33333333333333, 66.66666666666666, 100.0, 100.0, 66.66666666666666, 66.66666666666666, 33.33333333333333, 66.66666666666666, 33.33333333333333, 66.66666666666666, 33.33333333333333, 66.66666666666666, 66.66666666666666, 100.0, 100.0, 100.0, 66.66666666666666, 66.66666666666666], \"line\": {\"color\": \"rgb(3,141,243)\"}, \"type\": \"scatter\", \"name\": \"AT content\"}, {\"y\": [0.0, 0.0, 0.0, 0.0, 0.0, 0.0, 0.0, 0.0, 0.0, 0.0, 0.0, 0.0, 0.0, 0.0, 0.0, 0.0, 0.0, 0.0, 0.0, 0.0, 0.0, 0.0, 0.0, 0.0, 0.0, 0.0, 0.0, 0.0, 0.0, 0.0, 0.0, 0.0, 0.0, 0.0, 0.0, 0.0, 0.0, 0.0, 0.0, 0.0, 0.0, 0.0, 0.0, 0.0, 0.0, 0.0, 0.0, 0.0, 0.0, 0.0, 0.0, 0.0, 0.0, 0.0, 0.0, 0.0, 0.0, 0.0, 0.0, 0.0, 0.0, 0.0, 0.0, 0.0, 0.0, 0.0, 0.0, 0.0, 0.0, 0.0, 0.0, 0.0, 0.0, 0.0, 0.0, 0.0, 0.0, 0.0, 0.0, 0.0, 0.0, 0.0, 0.0, 0.0, 0.0, 0.0, 0.0, 0.0, 0.0, 0.0, 0.0, 0.0, 0.0, 0.0, 0.0, 0.0, 0.0, 0.0, 0.0, 0.0, 0.0, 0.0, 0.0, 0.0, 0.0, 0.0, 0.0, 0.0, 0.0, 0.0, 0.0, 33.33333333333333, 66.66666666666666, 100.0, 66.66666666666666, 66.66666666666666, 66.66666666666666, 66.66666666666666, 66.66666666666666, 33.33333333333333, 66.66666666666666, 33.33333333333333, 33.33333333333333, 0.0, 33.33333333333333, 66.66666666666666, 66.66666666666666, 33.33333333333333, 0.0, 0.0, 0.0, 33.33333333333333, 33.33333333333333, 33.33333333333333, 33.33333333333333, 33.33333333333333, 33.33333333333333, 33.33333333333333, 66.66666666666666, 66.66666666666666, 33.33333333333333, 0.0, 0.0, 33.33333333333333, 33.33333333333333, 66.66666666666666, 33.33333333333333, 66.66666666666666, 33.33333333333333, 66.66666666666666, 33.33333333333333, 33.33333333333333, 0.0, 0.0, 0.0, 33.33333333333333, 33.33333333333333], \"line\": {\"color\": \"rgb(64,182,77)\"}, \"type\": \"scatter\", \"name\": \"GC content\"}, {\"y\": [100.0, 100.0, 100.0, 100.0, 100.0, 100.0, 100.0, 100.0, 100.0, 100.0, 100.0, 100.0, 100.0, 100.0, 100.0, 100.0, 100.0, 100.0, 100.0, 100.0, 100.0, 100.0, 100.0, 100.0, 100.0, 100.0, 100.0, 100.0, 100.0, 100.0, 100.0, 100.0, 100.0, 100.0, 100.0, 100.0, 100.0, 100.0, 100.0, 100.0, 100.0, 100.0, 100.0, 100.0, 100.0, 100.0, 100.0, 100.0, 100.0, 100.0, 100.0, 100.0, 100.0, 100.0, 100.0, 100.0, 100.0, 100.0, 100.0, 100.0, 100.0, 100.0, 100.0, 100.0, 100.0, 100.0, 100.0, 100.0, 100.0, 100.0, 100.0, 100.0, 100.0, 100.0, 100.0, 100.0, 100.0, 100.0, 100.0, 100.0, 100.0, 100.0, 100.0, 100.0, 100.0, 100.0, 100.0, 100.0, 100.0, 100.0, 100.0, 100.0, 100.0, 100.0, 100.0, 100.0, 100.0, 100.0, 100.0, 100.0, 100.0, 100.0, 100.0, 100.0, 100.0, 100.0, 100.0, 100.0, 100.0, 100.0, 66.66666666666666, 33.33333333333333, 0.0, 0.0, 0.0, 0.0, 0.0, 0.0, 0.0, 0.0, 0.0, 0.0, 0.0, 0.0, 0.0, 0.0, 0.0, 0.0, 0.0, 0.0, 0.0, 0.0, 0.0, 0.0, 0.0, 0.0, 0.0, 0.0, 0.0, 0.0, 0.0, 0.0, 0.0, 0.0, 0.0, 0.0, 0.0, 0.0, 0.0, 0.0, 0.0, 0.0, 0.0, 0.0, 0.0, 0.0, 0.0], \"line\": {\"color\": \"rgb(243,145,3)\"}, \"type\": \"scatter\", \"name\": \"N content\"}, {\"y\": [0.0, 0.0, 0.0, 0.0, 0.0, 0.0, 0.0, 0.0, 0.0, 0.0, 0.0, 0.0, 0.0, 0.0, 0.0, 0.0, 0.0, 0.0, 0.0, 0.0, 0.0, 0.0, 0.0, 0.0, 0.0, 0.0, 0.0, 0.0, 0.0, 0.0, 0.0, 0.0, 0.0, 0.0, 0.0, 0.0, 0.0, 0.0, 0.0, 0.0, 0.0, 0.0, 0.0, 0.0, 0.0, 0.0, 0.0, 0.0, 0.0, 0.0, 0.0, 0.0, 0.0, 0.0, 0.0, 0.0, 0.0, 0.0, 0.0, 0.0, 0.0, 0.0, 0.0, 0.0, 0.0, 0.0, 0.0, 0.0, 0.0, 0.0, 0.0, 0.0, 0.0, 0.0, 0.0, 0.0, 0.0, 0.0, 0.0, 0.0, 0.0, 0.0, 0.0, 0.0, 0.0, 0.0, 0.0, 0.0, 0.0, 0.0, 0.0, 0.0, 0.0, 0.0, 0.0, 0.0, 0.0, 0.0, 0.0, 0.0, 0.0, 0.0, 0.0, 0.0, 0.0, 0.0, 0.0, 0.0, 0.0, 0.0, 0.0, 0.0, 0.0, 0.0, 0.0, 0.0, 0.0, 0.0, 0.0, 0.0, 0.0, 0.0, 0.0, 0.0, 0.0, 0.0, 0.0, 0.0, 0.0, 0.0, 0.0, 0.0, 0.0, 0.0, 0.0, 0.0, 0.0, 0.0, 0.0, 0.0, 0.0, 0.0, 0.0, 0.0, 0.0, 0.0, 0.0, 0.0, 0.0, 0.0, 0.0, 0.0, 0.0, 0.0, 0.0, 0.0, 0.0], \"line\": {\"color\": \"rgb(171,3,243)\"}, \"type\": \"scatter\", \"name\": \"X content\"}], {\"title\": \"Sliding window analysis for lcl|NW_008482055.1\", \"xaxis\": {\"title\": \"Iteration of sliding window (size=3) across length of sequence\", \"rangeslider\": {}}, \"yaxis\": {\"title\": \"Percentage (%)\"}}, {\"showLink\": true, \"linkText\": \"Export to plot.ly\"})});</script>"
      ],
      "text/plain": [
       "<IPython.core.display.HTML object>"
      ]
     },
     "metadata": {},
     "output_type": "display_data"
    },
    {
     "data": {
      "text/html": [
       "<div id=\"a790b315-4c52-44e8-974e-97cdc763ceb1\" style=\"height: 525px; width: 100%;\" class=\"plotly-graph-div\"></div><script type=\"text/javascript\">require([\"plotly\"], function(Plotly) { window.PLOTLYENV=window.PLOTLYENV || {};window.PLOTLYENV.BASE_URL=\"https://plot.ly\";Plotly.newPlot(\"a790b315-4c52-44e8-974e-97cdc763ceb1\", [{\"y\": [66.66666666666666, 66.66666666666666, 66.66666666666666, 100.0, 66.66666666666666, 33.33333333333333, 0.0, 0.0, 0.0, 0.0, 0.0, 33.33333333333333, 66.66666666666666, 100.0, 100.0, 66.66666666666666, 33.33333333333333, 33.33333333333333, 66.66666666666666, 100.0, 100.0, 66.66666666666666, 66.66666666666666, 66.66666666666666, 100.0, 66.66666666666666, 66.66666666666666, 66.66666666666666, 100.0, 100.0, 100.0, 100.0, 66.66666666666666, 66.66666666666666, 66.66666666666666, 100.0, 100.0, 100.0, 66.66666666666666, 66.66666666666666, 66.66666666666666, 100.0, 100.0, 100.0, 100.0, 100.0, 66.66666666666666, 66.66666666666666, 66.66666666666666, 100.0, 100.0, 100.0, 100.0, 66.66666666666666, 33.33333333333333, 33.33333333333333, 66.66666666666666, 100.0, 100.0, 100.0, 100.0, 66.66666666666666, 33.33333333333333, 33.33333333333333, 66.66666666666666, 66.66666666666666, 66.66666666666666, 66.66666666666666, 100.0, 100.0, 100.0, 100.0, 100.0, 100.0, 100.0, 100.0, 100.0], \"line\": {\"color\": \"rgb(3,141,243)\"}, \"type\": \"scatter\", \"name\": \"AT content\"}, {\"y\": [0.0, 0.0, 0.0, 0.0, 33.33333333333333, 33.33333333333333, 33.33333333333333, 0.0, 0.0, 0.0, 0.0, 0.0, 0.0, 0.0, 0.0, 0.0, 33.33333333333333, 33.33333333333333, 33.33333333333333, 0.0, 0.0, 33.33333333333333, 33.33333333333333, 33.33333333333333, 0.0, 33.33333333333333, 33.33333333333333, 33.33333333333333, 0.0, 0.0, 0.0, 0.0, 33.33333333333333, 33.33333333333333, 33.33333333333333, 0.0, 0.0, 0.0, 33.33333333333333, 33.33333333333333, 33.33333333333333, 0.0, 0.0, 0.0, 0.0, 0.0, 33.33333333333333, 33.33333333333333, 33.33333333333333, 0.0, 0.0, 0.0, 0.0, 33.33333333333333, 66.66666666666666, 66.66666666666666, 33.33333333333333, 0.0, 0.0, 0.0, 0.0, 33.33333333333333, 66.66666666666666, 66.66666666666666, 33.33333333333333, 33.33333333333333, 33.33333333333333, 33.33333333333333, 0.0, 0.0, 0.0, 0.0, 0.0, 0.0, 0.0, 0.0, 0.0], \"line\": {\"color\": \"rgb(64,182,77)\"}, \"type\": \"scatter\", \"name\": \"GC content\"}, {\"y\": [33.33333333333333, 33.33333333333333, 33.33333333333333, 0.0, 0.0, 33.33333333333333, 66.66666666666666, 100.0, 100.0, 100.0, 100.0, 66.66666666666666, 33.33333333333333, 0.0, 0.0, 33.33333333333333, 33.33333333333333, 33.33333333333333, 0.0, 0.0, 0.0, 0.0, 0.0, 0.0, 0.0, 0.0, 0.0, 0.0, 0.0, 0.0, 0.0, 0.0, 0.0, 0.0, 0.0, 0.0, 0.0, 0.0, 0.0, 0.0, 0.0, 0.0, 0.0, 0.0, 0.0, 0.0, 0.0, 0.0, 0.0, 0.0, 0.0, 0.0, 0.0, 0.0, 0.0, 0.0, 0.0, 0.0, 0.0, 0.0, 0.0, 0.0, 0.0, 0.0, 0.0, 0.0, 0.0, 0.0, 0.0, 0.0, 0.0, 0.0, 0.0, 0.0, 0.0, 0.0, 0.0], \"line\": {\"color\": \"rgb(243,145,3)\"}, \"type\": \"scatter\", \"name\": \"N content\"}, {\"y\": [0.0, 0.0, 0.0, 0.0, 0.0, 0.0, 0.0, 0.0, 0.0, 0.0, 0.0, 0.0, 0.0, 0.0, 0.0, 0.0, 0.0, 0.0, 0.0, 0.0, 0.0, 0.0, 0.0, 0.0, 0.0, 0.0, 0.0, 0.0, 0.0, 0.0, 0.0, 0.0, 0.0, 0.0, 0.0, 0.0, 0.0, 0.0, 0.0, 0.0, 0.0, 0.0, 0.0, 0.0, 0.0, 0.0, 0.0, 0.0, 0.0, 0.0, 0.0, 0.0, 0.0, 0.0, 0.0, 0.0, 0.0, 0.0, 0.0, 0.0, 0.0, 0.0, 0.0, 0.0, 0.0, 0.0, 0.0, 0.0, 0.0, 0.0, 0.0, 0.0, 0.0, 0.0, 0.0, 0.0, 0.0], \"line\": {\"color\": \"rgb(171,3,243)\"}, \"type\": \"scatter\", \"name\": \"X content\"}], {\"title\": \"Sliding window analysis for lcl|NW_008482092.1_sequencetesting_to make things super complicated %&^$%^.\", \"xaxis\": {\"title\": \"Iteration of sliding window (size=3) across length of sequence\", \"rangeslider\": {}}, \"yaxis\": {\"title\": \"Percentage (%)\"}}, {\"showLink\": true, \"linkText\": \"Export to plot.ly\"})});</script>"
      ],
      "text/plain": [
       "<IPython.core.display.HTML object>"
      ]
     },
     "metadata": {},
     "output_type": "display_data"
    },
    {
     "data": {
      "text/html": [
       "<div id=\"fadeb0c5-58b6-41ea-9e3e-7a591e16994b\" style=\"height: 525px; width: 100%;\" class=\"plotly-graph-div\"></div><script type=\"text/javascript\">require([\"plotly\"], function(Plotly) { window.PLOTLYENV=window.PLOTLYENV || {};window.PLOTLYENV.BASE_URL=\"https://plot.ly\";Plotly.newPlot(\"fadeb0c5-58b6-41ea-9e3e-7a591e16994b\", [{\"y\": [66.66666666666666, 66.66666666666666, 100.0, 100.0, 100.0, 66.66666666666666, 33.33333333333333, 0.0, 0.0, 0.0, 0.0, 0.0, 0.0, 0.0, 0.0, 0.0, 0.0, 0.0, 0.0, 0.0, 0.0, 0.0, 0.0, 0.0, 0.0, 0.0, 0.0, 0.0, 0.0, 0.0, 0.0, 0.0, 0.0, 0.0, 0.0, 33.33333333333333, 66.66666666666666, 66.66666666666666, 66.66666666666666, 66.66666666666666, 66.66666666666666, 66.66666666666666, 33.33333333333333, 33.33333333333333, 33.33333333333333, 66.66666666666666, 100.0, 100.0, 100.0, 100.0, 100.0, 100.0, 100.0, 100.0, 100.0, 66.66666666666666, 66.66666666666666, 66.66666666666666, 100.0, 100.0, 66.66666666666666, 33.33333333333333, 0.0, 0.0, 0.0, 0.0, 0.0, 0.0, 0.0], \"line\": {\"color\": \"rgb(3,141,243)\"}, \"type\": \"scatter\", \"name\": \"AT content\"}, {\"y\": [33.33333333333333, 33.33333333333333, 0.0, 0.0, 0.0, 0.0, 0.0, 0.0, 0.0, 0.0, 0.0, 0.0, 0.0, 0.0, 0.0, 0.0, 0.0, 0.0, 0.0, 0.0, 0.0, 0.0, 0.0, 0.0, 0.0, 0.0, 0.0, 33.33333333333333, 33.33333333333333, 33.33333333333333, 0.0, 0.0, 0.0, 0.0, 33.33333333333333, 33.33333333333333, 33.33333333333333, 33.33333333333333, 33.33333333333333, 33.33333333333333, 33.33333333333333, 33.33333333333333, 66.66666666666666, 66.66666666666666, 66.66666666666666, 33.33333333333333, 0.0, 0.0, 0.0, 0.0, 0.0, 0.0, 0.0, 0.0, 0.0, 33.33333333333333, 33.33333333333333, 33.33333333333333, 0.0, 0.0, 0.0, 0.0, 0.0, 0.0, 0.0, 0.0, 0.0, 0.0, 0.0], \"line\": {\"color\": \"rgb(64,182,77)\"}, \"type\": \"scatter\", \"name\": \"GC content\"}, {\"y\": [0.0, 0.0, 0.0, 0.0, 0.0, 0.0, 0.0, 0.0, 0.0, 0.0, 0.0, 0.0, 33.33333333333333, 66.66666666666666, 100.0, 66.66666666666666, 33.33333333333333, 0.0, 33.33333333333333, 66.66666666666666, 100.0, 66.66666666666666, 33.33333333333333, 0.0, 33.33333333333333, 66.66666666666666, 100.0, 66.66666666666666, 33.33333333333333, 0.0, 0.0, 33.33333333333333, 66.66666666666666, 100.0, 66.66666666666666, 33.33333333333333, 0.0, 0.0, 0.0, 0.0, 0.0, 0.0, 0.0, 0.0, 0.0, 0.0, 0.0, 0.0, 0.0, 0.0, 0.0, 0.0, 0.0, 0.0, 0.0, 0.0, 0.0, 0.0, 0.0, 0.0, 0.0, 0.0, 0.0, 33.33333333333333, 66.66666666666666, 100.0, 100.0, 100.0, 100.0], \"line\": {\"color\": \"rgb(243,145,3)\"}, \"type\": \"scatter\", \"name\": \"N content\"}, {\"y\": [0.0, 0.0, 0.0, 0.0, 0.0, 33.33333333333333, 66.66666666666666, 100.0, 100.0, 100.0, 100.0, 100.0, 66.66666666666666, 33.33333333333333, 0.0, 33.33333333333333, 66.66666666666666, 100.0, 66.66666666666666, 33.33333333333333, 0.0, 33.33333333333333, 66.66666666666666, 100.0, 66.66666666666666, 33.33333333333333, 0.0, 0.0, 33.33333333333333, 66.66666666666666, 100.0, 66.66666666666666, 33.33333333333333, 0.0, 0.0, 0.0, 0.0, 0.0, 0.0, 0.0, 0.0, 0.0, 0.0, 0.0, 0.0, 0.0, 0.0, 0.0, 0.0, 0.0, 0.0, 0.0, 0.0, 0.0, 0.0, 0.0, 0.0, 0.0, 0.0, 0.0, 33.33333333333333, 66.66666666666666, 100.0, 66.66666666666666, 33.33333333333333, 0.0, 0.0, 0.0, 0.0], \"line\": {\"color\": \"rgb(171,3,243)\"}, \"type\": \"scatter\", \"name\": \"X content\"}], {\"title\": \"Sliding window analysis for lcl|NW_008482157.1\", \"xaxis\": {\"title\": \"Iteration of sliding window (size=3) across length of sequence\", \"rangeslider\": {}}, \"yaxis\": {\"title\": \"Percentage (%)\"}}, {\"showLink\": true, \"linkText\": \"Export to plot.ly\"})});</script>"
      ],
      "text/plain": [
       "<IPython.core.display.HTML object>"
      ]
     },
     "metadata": {},
     "output_type": "display_data"
    }
   ],
   "source": [
    "def contig_list_creator(nucleos):    \n",
    "    iterator_list = []\n",
    "    for nucleo in nucleos:\n",
    "        dictio = {\"name\": nucleo[\"name\"],\"sequence\": nucleo[\"sequence\"]} \n",
    "        name = nucleo[\"name\"]\n",
    "\n",
    "        iterator_list.append(dictio.copy())\n",
    "    \n",
    "    sorted_iterator_list = sorted(iterator_list, key=itemgetter(\"name\"))\n",
    "    for key, group in itertools.groupby(sorted_iterator_list, key=lambda x:x[\"name\"]):\n",
    "        contig_iterator_list = list(group)\n",
    "        \n",
    "        new_AT = []\n",
    "        new_GC = []\n",
    "        new_N = []\n",
    "        new_X = []\n",
    "        name = key\n",
    "                \n",
    "        for contig in contig_iterator_list:\n",
    "            AT = contig[\"sequence\"][\"AT\"] \n",
    "            GC = contig[\"sequence\"][\"GC\"]\n",
    "            N = contig[\"sequence\"][\"N\"]\n",
    "            X = contig[\"sequence\"][\"X\"]\n",
    "                        \n",
    "            new_AT.append(AT)\n",
    "            new_GC.append(GC)\n",
    "            new_N.append(N)\n",
    "            new_X.append(X)\n",
    "            \n",
    "        position_new_AT = np.asarray(new_AT)\n",
    "        position_new_GC = np.asarray(new_GC)\n",
    "        position_new_N = np.asarray(new_N)\n",
    "        position_new_X = np.asarray(new_X)\n",
    "    \n",
    "        AT_trace = Scatter(\n",
    "            y = position_new_AT,\n",
    "            name='AT content',\n",
    "            line = dict(color = ('rgb(3,141,243)'))) #Blue\n",
    "\n",
    "        GC_trace = Scatter(\n",
    "            y = position_new_GC,\n",
    "            name='GC content',\n",
    "            line = dict(color = ('rgb(64,182,77)'))) #Green\n",
    "\n",
    "        N_trace = Scatter(\n",
    "            y = position_new_N,\n",
    "            name='N content',\n",
    "            line = dict(color = ('rgb(243,145,3)'))) #Orange\n",
    "\n",
    "        X_trace = Scatter(\n",
    "            y = position_new_X,\n",
    "            name='X content',\n",
    "            line = dict(color = ('rgb(171,3,243)'))) #Purple\n",
    "\n",
    "        data = [AT_trace, GC_trace, N_trace, X_trace]  \n",
    "        \n",
    "        layout = dict(title='Sliding window analysis for '+ name,xaxis=dict(title='Iteration of sliding window (size=' + str(window_size) +') across length of sequence',rangeslider=dict()),yaxis=dict(title='Percentage (%)'))\n",
    "        fig = dict(data=data, layout=layout)\n",
    "        iplot(fig)\n",
    "\n",
    "    return\n",
    "\n",
    "contig_list_creator(nucleotides4)\n"
   ]
  },
  {
   "cell_type": "code",
   "execution_count": 67,
   "metadata": {
    "collapsed": false
   },
   "outputs": [],
   "source": [
    "# def contig_list_creator(nucleos):    \n",
    "#     iterator_list = []\n",
    "#     for nucleo in nucleos:\n",
    "#         dictio = {\"name\": nucleo[\"name\"],\"sequence\": nucleo[\"sequence\"]} \n",
    "#         iterator_list.append(dictio.copy())\n",
    "#         name = nucleo[\"name\"]\n",
    "#         #print(name)\n",
    "    \n",
    "#     sorted_iterator_list = sorted(iterator_list, key=itemgetter(\"name\"))\n",
    "#     for key, group in itertools.groupby(sorted_iterator_list, key=lambda x:x[\"name\"]):\n",
    "#         contig_iterator_list = list(group)\n",
    "        \n",
    "#         new_AT = []\n",
    "#         new_GC = []\n",
    "#         new_N = []\n",
    "#         new_X = []\n",
    "        \n",
    "                \n",
    "#         for contig in contig_iterator_list:\n",
    "#             #print(contig)\n",
    "#             AT = contig[\"sequence\"][\"AT\"] \n",
    "#             GC = contig[\"sequence\"][\"GC\"]\n",
    "#             N = contig[\"sequence\"][\"N\"]\n",
    "#             X = contig[\"sequence\"][\"X\"]\n",
    "                        \n",
    "#             new_AT.append(AT)\n",
    "#             new_GC.append(GC)\n",
    "#             new_N.append(N)\n",
    "#             new_X.append(X)\n",
    "            \n",
    "#         position_new_AT = np.asarray(new_AT)\n",
    "#         position_new_GC = np.asarray(new_GC)\n",
    "#         position_new_N = np.asarray(new_N)\n",
    "#         position_new_X = np.asarray(new_X)\n",
    "        \n",
    "# #         print(position_new_AT)\n",
    "# #         print(position_new_GC)\n",
    "# #         print(position_new_N)\n",
    "# #         print(position_new_X)\n",
    "    \n",
    "#     return position_new_AT, position_new_GC, position_new_N, position_new_X, name\n",
    "\n",
    "# #contig_list_creator(nucleotides4)"
   ]
  },
  {
   "cell_type": "code",
   "execution_count": 10,
   "metadata": {
    "collapsed": false
   },
   "outputs": [],
   "source": [
    "# def plotly(nucleotides):\n",
    "    \n",
    "#     for nucleotide in nucleotides:\n",
    "                \n",
    "#         AT_cnt_arr, GC_cnt_arr, N_cnt_arr, X_cnt_arr, name = contig_list_creator(nucleotides)    \n",
    "\n",
    "#         AT_trace = Scatter(\n",
    "#         y = AT_cnt_arr,\n",
    "#         name='AT content',\n",
    "#         line = dict(color = ('rgb(3,141,243)'))) #Blue\n",
    "\n",
    "#         GC_trace = Scatter(\n",
    "#         y = GC_cnt_arr,\n",
    "#         name='GC content',\n",
    "#         line = dict(color = ('rgb(64,182,77)'))) #Green\n",
    "\n",
    "#         N_trace = Scatter(\n",
    "#         y = N_cnt_arr,\n",
    "#         name='N content',\n",
    "#         line = dict(color = ('rgb(243,145,3)'))) #Orange\n",
    "\n",
    "#         X_trace = Scatter(\n",
    "#         y = X_cnt_arr,\n",
    "#         name='X content',\n",
    "#         line = dict(color = ('rgb(171,3,243)'))) #Purple\n",
    "\n",
    "#         data = [AT_trace, GC_trace, N_trace, X_trace]  \n",
    "        \n",
    "#         layout = dict(title='Sliding window for '+ name,xaxis=dict(title='Sliding window iteration across sequence',rangeslider=dict()),yaxis=dict(title='Percentage (%)'))\n",
    "#         fig = dict(data=data, layout=layout)\n",
    "#         iplot(fig)\n",
    "\n",
    "#     return\n",
    "\n",
    "# plotly(nucleotides4)"
   ]
  }
 ],
 "metadata": {
  "anaconda-cloud": {},
  "kernelspec": {
   "display_name": "Python [conda env:py35]",
   "language": "python",
   "name": "conda-env-py35-py"
  },
  "language_info": {
   "codemirror_mode": {
    "name": "ipython",
    "version": 3
   },
   "file_extension": ".py",
   "mimetype": "text/x-python",
   "name": "python",
   "nbconvert_exporter": "python",
   "pygments_lexer": "ipython3",
   "version": "3.5.2"
  }
 },
 "nbformat": 4,
 "nbformat_minor": 1
}
