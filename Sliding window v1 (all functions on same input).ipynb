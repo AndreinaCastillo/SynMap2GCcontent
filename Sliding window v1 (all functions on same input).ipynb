{
 "cells": [
  {
   "cell_type": "code",
   "execution_count": 4,
   "metadata": {
    "collapsed": false
   },
   "outputs": [
    {
     "data": {
      "text/html": [
       "<script>requirejs.config({paths: { 'plotly': ['https://cdn.plot.ly/plotly-latest.min']},});if(!window.Plotly) {{require(['plotly'],function(plotly) {window.Plotly=plotly;});}}</script>"
      ],
      "text/plain": [
       "<IPython.core.display.HTML object>"
      ]
     },
     "metadata": {},
     "output_type": "display_data"
    },
    {
     "data": {
      "text/html": [
       "<div id=\"88643d70-6505-4760-8f6c-e575ea7118fb\" style=\"height: 525px; width: 100%;\" class=\"plotly-graph-div\"></div><script type=\"text/javascript\">require([\"plotly\"], function(Plotly) { window.PLOTLYENV=window.PLOTLYENV || {};window.PLOTLYENV.BASE_URL=\"https://plot.ly\";Plotly.newPlot(\"88643d70-6505-4760-8f6c-e575ea7118fb\", [{\"name\": \"AT content\", \"type\": \"scatter\", \"x\": [1, 2, 3, 4, 5, 6, 7, 8, 9, 10, 11, 12, 13, 14, 15, 16, 17, 18, 19, 20, 21, 22, 23, 24, 25, 26, 27, 28, 29, 30], \"line\": {\"color\": \"rgb(3,141,243)\"}, \"y\": null}, {\"name\": \"GC content\", \"type\": \"scatter\", \"x\": [1, 2, 3, 4, 5, 6, 7, 8, 9, 10, 11, 12, 13, 14, 15, 16, 17, 18, 19, 20, 21, 22, 23, 24, 25, 26, 27, 28, 29, 30], \"line\": {\"color\": \"rgb(64,182,77)\"}, \"y\": null}, {\"name\": \"N content\", \"type\": \"scatter\", \"x\": [1, 2, 3, 4, 5, 6, 7, 8, 9, 10, 11, 12, 13, 14, 15, 16, 17, 18, 19, 20, 21, 22, 23, 24, 25, 26, 27, 28, 29, 30], \"line\": {\"color\": \"rgb(243,145,3)\"}, \"y\": null}, {\"name\": \"X content\", \"type\": \"scatter\", \"x\": [1, 2, 3, 4, 5, 6, 7, 8, 9, 10, 11, 12, 13, 14, 15, 16, 17, 18, 19, 20, 21, 22, 23, 24, 25, 26, 27, 28, 29, 30], \"line\": {\"color\": \"rgb(171,3,243)\"}, \"y\": null}], {\"yaxis\": {\"title\": \"Percentage\"}, \"xaxis\": {\"rangeslider\": {}, \"title\": \"Window iteration\"}}, {\"linkText\": \"Export to plot.ly\", \"showLink\": true})});</script>"
      ],
      "text/plain": [
       "<IPython.core.display.HTML object>"
      ]
     },
     "metadata": {},
     "output_type": "display_data"
    },
    {
     "data": {
      "text/html": [
       "<div id=\"3cf6d7ee-b257-408a-96ff-e97c76e3fc0b\" style=\"height: 525px; width: 100%;\" class=\"plotly-graph-div\"></div><script type=\"text/javascript\">require([\"plotly\"], function(Plotly) { window.PLOTLYENV=window.PLOTLYENV || {};window.PLOTLYENV.BASE_URL=\"https://plot.ly\";Plotly.newPlot(\"3cf6d7ee-b257-408a-96ff-e97c76e3fc0b\", [{\"name\": \"AT content\", \"type\": \"scatter\", \"x\": [1, 2, 3, 4, 5, 6, 7, 8, 9, 10, 11, 12, 13, 14, 15, 16, 17, 18, 19], \"line\": {\"color\": \"rgb(3,141,243)\"}, \"y\": null}, {\"name\": \"GC content\", \"type\": \"scatter\", \"x\": [1, 2, 3, 4, 5, 6, 7, 8, 9, 10, 11, 12, 13, 14, 15, 16, 17, 18, 19], \"line\": {\"color\": \"rgb(64,182,77)\"}, \"y\": null}, {\"name\": \"N content\", \"type\": \"scatter\", \"x\": [1, 2, 3, 4, 5, 6, 7, 8, 9, 10, 11, 12, 13, 14, 15, 16, 17, 18, 19], \"line\": {\"color\": \"rgb(243,145,3)\"}, \"y\": null}, {\"name\": \"X content\", \"type\": \"scatter\", \"x\": [1, 2, 3, 4, 5, 6, 7, 8, 9, 10, 11, 12, 13, 14, 15, 16, 17, 18, 19], \"line\": {\"color\": \"rgb(171,3,243)\"}, \"y\": null}], {\"yaxis\": {\"title\": \"Percentage\"}, \"xaxis\": {\"rangeslider\": {}, \"title\": \"Window iteration\"}}, {\"linkText\": \"Export to plot.ly\", \"showLink\": true})});</script>"
      ],
      "text/plain": [
       "<IPython.core.display.HTML object>"
      ]
     },
     "metadata": {},
     "output_type": "display_data"
    },
    {
     "data": {
      "text/html": [
       "<div id=\"9957f9f8-e5b7-4295-8757-e1eaf14f63e9\" style=\"height: 525px; width: 100%;\" class=\"plotly-graph-div\"></div><script type=\"text/javascript\">require([\"plotly\"], function(Plotly) { window.PLOTLYENV=window.PLOTLYENV || {};window.PLOTLYENV.BASE_URL=\"https://plot.ly\";Plotly.newPlot(\"9957f9f8-e5b7-4295-8757-e1eaf14f63e9\", [{\"name\": \"AT content\", \"type\": \"scatter\", \"x\": [1, 2, 3, 4, 5, 6, 7, 8, 9, 10, 11, 12, 13, 14, 15, 16, 17, 18, 19, 20, 21, 22], \"line\": {\"color\": \"rgb(3,141,243)\"}, \"y\": null}, {\"name\": \"GC content\", \"type\": \"scatter\", \"x\": [1, 2, 3, 4, 5, 6, 7, 8, 9, 10, 11, 12, 13, 14, 15, 16, 17, 18, 19, 20, 21, 22], \"line\": {\"color\": \"rgb(64,182,77)\"}, \"y\": null}, {\"name\": \"N content\", \"type\": \"scatter\", \"x\": [1, 2, 3, 4, 5, 6, 7, 8, 9, 10, 11, 12, 13, 14, 15, 16, 17, 18, 19, 20, 21, 22], \"line\": {\"color\": \"rgb(243,145,3)\"}, \"y\": null}, {\"name\": \"X content\", \"type\": \"scatter\", \"x\": [1, 2, 3, 4, 5, 6, 7, 8, 9, 10, 11, 12, 13, 14, 15, 16, 17, 18, 19, 20, 21, 22], \"line\": {\"color\": \"rgb(171,3,243)\"}, \"y\": null}], {\"yaxis\": {\"title\": \"Percentage\"}, \"xaxis\": {\"rangeslider\": {}, \"title\": \"Window iteration\"}}, {\"linkText\": \"Export to plot.ly\", \"showLink\": true})});</script>"
      ],
      "text/plain": [
       "<IPython.core.display.HTML object>"
      ]
     },
     "metadata": {},
     "output_type": "display_data"
    },
    {
     "data": {
      "text/html": [
       "<div id=\"7160443b-b13f-475a-8bb9-f52d7beaefca\" style=\"height: 525px; width: 100%;\" class=\"plotly-graph-div\"></div><script type=\"text/javascript\">require([\"plotly\"], function(Plotly) { window.PLOTLYENV=window.PLOTLYENV || {};window.PLOTLYENV.BASE_URL=\"https://plot.ly\";Plotly.newPlot(\"7160443b-b13f-475a-8bb9-f52d7beaefca\", [{\"name\": \"AT content\", \"type\": \"scatter\", \"x\": [1, 2, 3, 4, 5, 6, 7, 8, 9, 10, 11, 12, 13, 14, 15, 16, 17], \"line\": {\"color\": \"rgb(3,141,243)\"}, \"y\": null}, {\"name\": \"GC content\", \"type\": \"scatter\", \"x\": [1, 2, 3, 4, 5, 6, 7, 8, 9, 10, 11, 12, 13, 14, 15, 16, 17], \"line\": {\"color\": \"rgb(64,182,77)\"}, \"y\": null}, {\"name\": \"N content\", \"type\": \"scatter\", \"x\": [1, 2, 3, 4, 5, 6, 7, 8, 9, 10, 11, 12, 13, 14, 15, 16, 17], \"line\": {\"color\": \"rgb(243,145,3)\"}, \"y\": null}, {\"name\": \"X content\", \"type\": \"scatter\", \"x\": [1, 2, 3, 4, 5, 6, 7, 8, 9, 10, 11, 12, 13, 14, 15, 16, 17], \"line\": {\"color\": \"rgb(171,3,243)\"}, \"y\": null}], {\"yaxis\": {\"title\": \"Percentage\"}, \"xaxis\": {\"rangeslider\": {}, \"title\": \"Window iteration\"}}, {\"linkText\": \"Export to plot.ly\", \"showLink\": true})});</script>"
      ],
      "text/plain": [
       "<IPython.core.display.HTML object>"
      ]
     },
     "metadata": {},
     "output_type": "display_data"
    },
    {
     "data": {
      "text/html": [
       "<div id=\"622342ab-372c-4ec9-a070-f2159913b5b9\" style=\"height: 525px; width: 100%;\" class=\"plotly-graph-div\"></div><script type=\"text/javascript\">require([\"plotly\"], function(Plotly) { window.PLOTLYENV=window.PLOTLYENV || {};window.PLOTLYENV.BASE_URL=\"https://plot.ly\";Plotly.newPlot(\"622342ab-372c-4ec9-a070-f2159913b5b9\", [{\"name\": \"AT content\", \"type\": \"scatter\", \"x\": [1, 2, 3, 4, 5, 6, 7, 8, 9, 10, 11, 12, 13, 14, 15, 16, 17, 18, 19], \"line\": {\"color\": \"rgb(3,141,243)\"}, \"y\": null}, {\"name\": \"GC content\", \"type\": \"scatter\", \"x\": [1, 2, 3, 4, 5, 6, 7, 8, 9, 10, 11, 12, 13, 14, 15, 16, 17, 18, 19], \"line\": {\"color\": \"rgb(64,182,77)\"}, \"y\": null}, {\"name\": \"N content\", \"type\": \"scatter\", \"x\": [1, 2, 3, 4, 5, 6, 7, 8, 9, 10, 11, 12, 13, 14, 15, 16, 17, 18, 19], \"line\": {\"color\": \"rgb(243,145,3)\"}, \"y\": null}, {\"name\": \"X content\", \"type\": \"scatter\", \"x\": [1, 2, 3, 4, 5, 6, 7, 8, 9, 10, 11, 12, 13, 14, 15, 16, 17, 18, 19], \"line\": {\"color\": \"rgb(171,3,243)\"}, \"y\": null}], {\"yaxis\": {\"title\": \"Percentage\"}, \"xaxis\": {\"rangeslider\": {}, \"title\": \"Window iteration\"}}, {\"linkText\": \"Export to plot.ly\", \"showLink\": true})});</script>"
      ],
      "text/plain": [
       "<IPython.core.display.HTML object>"
      ]
     },
     "metadata": {},
     "output_type": "display_data"
    },
    {
     "data": {
      "text/html": [
       "<div id=\"8fb46f6f-c03d-4c90-be34-caeb80f39b21\" style=\"height: 525px; width: 100%;\" class=\"plotly-graph-div\"></div><script type=\"text/javascript\">require([\"plotly\"], function(Plotly) { window.PLOTLYENV=window.PLOTLYENV || {};window.PLOTLYENV.BASE_URL=\"https://plot.ly\";Plotly.newPlot(\"8fb46f6f-c03d-4c90-be34-caeb80f39b21\", [{\"name\": \"AT content\", \"type\": \"scatter\", \"x\": [1, 2, 3, 4, 5, 6, 7, 8, 9, 10, 11, 12, 13, 14, 15, 16, 17, 18, 19, 20, 21], \"line\": {\"color\": \"rgb(3,141,243)\"}, \"y\": null}, {\"name\": \"GC content\", \"type\": \"scatter\", \"x\": [1, 2, 3, 4, 5, 6, 7, 8, 9, 10, 11, 12, 13, 14, 15, 16, 17, 18, 19, 20, 21], \"line\": {\"color\": \"rgb(64,182,77)\"}, \"y\": null}, {\"name\": \"N content\", \"type\": \"scatter\", \"x\": [1, 2, 3, 4, 5, 6, 7, 8, 9, 10, 11, 12, 13, 14, 15, 16, 17, 18, 19, 20, 21], \"line\": {\"color\": \"rgb(243,145,3)\"}, \"y\": null}, {\"name\": \"X content\", \"type\": \"scatter\", \"x\": [1, 2, 3, 4, 5, 6, 7, 8, 9, 10, 11, 12, 13, 14, 15, 16, 17, 18, 19, 20, 21], \"line\": {\"color\": \"rgb(171,3,243)\"}, \"y\": null}], {\"yaxis\": {\"title\": \"Percentage\"}, \"xaxis\": {\"rangeslider\": {}, \"title\": \"Window iteration\"}}, {\"linkText\": \"Export to plot.ly\", \"showLink\": true})});</script>"
      ],
      "text/plain": [
       "<IPython.core.display.HTML object>"
      ]
     },
     "metadata": {},
     "output_type": "display_data"
    },
    {
     "data": {
      "text/html": [
       "<div id=\"a28ac10a-a6a9-4f43-bc07-914f74a86836\" style=\"height: 525px; width: 100%;\" class=\"plotly-graph-div\"></div><script type=\"text/javascript\">require([\"plotly\"], function(Plotly) { window.PLOTLYENV=window.PLOTLYENV || {};window.PLOTLYENV.BASE_URL=\"https://plot.ly\";Plotly.newPlot(\"a28ac10a-a6a9-4f43-bc07-914f74a86836\", [{\"name\": \"AT content\", \"type\": \"scatter\", \"x\": [1, 2, 3, 4, 5, 6, 7, 8, 9, 10, 11, 12, 13, 14, 15, 16, 17, 18, 19], \"line\": {\"color\": \"rgb(3,141,243)\"}, \"y\": null}, {\"name\": \"GC content\", \"type\": \"scatter\", \"x\": [1, 2, 3, 4, 5, 6, 7, 8, 9, 10, 11, 12, 13, 14, 15, 16, 17, 18, 19], \"line\": {\"color\": \"rgb(64,182,77)\"}, \"y\": null}, {\"name\": \"N content\", \"type\": \"scatter\", \"x\": [1, 2, 3, 4, 5, 6, 7, 8, 9, 10, 11, 12, 13, 14, 15, 16, 17, 18, 19], \"line\": {\"color\": \"rgb(243,145,3)\"}, \"y\": null}, {\"name\": \"X content\", \"type\": \"scatter\", \"x\": [1, 2, 3, 4, 5, 6, 7, 8, 9, 10, 11, 12, 13, 14, 15, 16, 17, 18, 19], \"line\": {\"color\": \"rgb(171,3,243)\"}, \"y\": null}], {\"yaxis\": {\"title\": \"Percentage\"}, \"xaxis\": {\"rangeslider\": {}, \"title\": \"Window iteration\"}}, {\"linkText\": \"Export to plot.ly\", \"showLink\": true})});</script>"
      ],
      "text/plain": [
       "<IPython.core.display.HTML object>"
      ]
     },
     "metadata": {},
     "output_type": "display_data"
    },
    {
     "data": {
      "text/html": [
       "<div id=\"1ce9352a-6bdc-42ea-9f52-998703bc4d1e\" style=\"height: 525px; width: 100%;\" class=\"plotly-graph-div\"></div><script type=\"text/javascript\">require([\"plotly\"], function(Plotly) { window.PLOTLYENV=window.PLOTLYENV || {};window.PLOTLYENV.BASE_URL=\"https://plot.ly\";Plotly.newPlot(\"1ce9352a-6bdc-42ea-9f52-998703bc4d1e\", [{\"name\": \"AT content\", \"type\": \"scatter\", \"x\": [1, 2, 3, 4, 5, 6, 7, 8, 9, 10, 11, 12, 13, 14, 15, 16, 17, 18, 19], \"line\": {\"color\": \"rgb(3,141,243)\"}, \"y\": null}, {\"name\": \"GC content\", \"type\": \"scatter\", \"x\": [1, 2, 3, 4, 5, 6, 7, 8, 9, 10, 11, 12, 13, 14, 15, 16, 17, 18, 19], \"line\": {\"color\": \"rgb(64,182,77)\"}, \"y\": null}, {\"name\": \"N content\", \"type\": \"scatter\", \"x\": [1, 2, 3, 4, 5, 6, 7, 8, 9, 10, 11, 12, 13, 14, 15, 16, 17, 18, 19], \"line\": {\"color\": \"rgb(243,145,3)\"}, \"y\": null}, {\"name\": \"X content\", \"type\": \"scatter\", \"x\": [1, 2, 3, 4, 5, 6, 7, 8, 9, 10, 11, 12, 13, 14, 15, 16, 17, 18, 19], \"line\": {\"color\": \"rgb(171,3,243)\"}, \"y\": null}], {\"yaxis\": {\"title\": \"Percentage\"}, \"xaxis\": {\"rangeslider\": {}, \"title\": \"Window iteration\"}}, {\"linkText\": \"Export to plot.ly\", \"showLink\": true})});</script>"
      ],
      "text/plain": [
       "<IPython.core.display.HTML object>"
      ]
     },
     "metadata": {},
     "output_type": "display_data"
    },
    {
     "data": {
      "text/html": [
       "<div id=\"7b16ce67-36b0-47df-b885-a0471da803d7\" style=\"height: 525px; width: 100%;\" class=\"plotly-graph-div\"></div><script type=\"text/javascript\">require([\"plotly\"], function(Plotly) { window.PLOTLYENV=window.PLOTLYENV || {};window.PLOTLYENV.BASE_URL=\"https://plot.ly\";Plotly.newPlot(\"7b16ce67-36b0-47df-b885-a0471da803d7\", [{\"name\": \"AT content\", \"type\": \"scatter\", \"x\": [1, 2, 3, 4, 5, 6, 7, 8, 9, 10, 11, 12, 13, 14, 15, 16, 17, 18, 19], \"line\": {\"color\": \"rgb(3,141,243)\"}, \"y\": null}, {\"name\": \"GC content\", \"type\": \"scatter\", \"x\": [1, 2, 3, 4, 5, 6, 7, 8, 9, 10, 11, 12, 13, 14, 15, 16, 17, 18, 19], \"line\": {\"color\": \"rgb(64,182,77)\"}, \"y\": null}, {\"name\": \"N content\", \"type\": \"scatter\", \"x\": [1, 2, 3, 4, 5, 6, 7, 8, 9, 10, 11, 12, 13, 14, 15, 16, 17, 18, 19], \"line\": {\"color\": \"rgb(243,145,3)\"}, \"y\": null}, {\"name\": \"X content\", \"type\": \"scatter\", \"x\": [1, 2, 3, 4, 5, 6, 7, 8, 9, 10, 11, 12, 13, 14, 15, 16, 17, 18, 19], \"line\": {\"color\": \"rgb(171,3,243)\"}, \"y\": null}], {\"yaxis\": {\"title\": \"Percentage\"}, \"xaxis\": {\"rangeslider\": {}, \"title\": \"Window iteration\"}}, {\"linkText\": \"Export to plot.ly\", \"showLink\": true})});</script>"
      ],
      "text/plain": [
       "<IPython.core.display.HTML object>"
      ]
     },
     "metadata": {},
     "output_type": "display_data"
    },
    {
     "data": {
      "text/html": [
       "<div id=\"6a6d947c-c9e9-4430-903a-672b3bc1fa74\" style=\"height: 525px; width: 100%;\" class=\"plotly-graph-div\"></div><script type=\"text/javascript\">require([\"plotly\"], function(Plotly) { window.PLOTLYENV=window.PLOTLYENV || {};window.PLOTLYENV.BASE_URL=\"https://plot.ly\";Plotly.newPlot(\"6a6d947c-c9e9-4430-903a-672b3bc1fa74\", [{\"name\": \"AT content\", \"type\": \"scatter\", \"x\": [1, 2, 3, 4, 5, 6, 7, 8, 9, 10, 11, 12, 13, 14, 15, 16, 17, 18, 19], \"line\": {\"color\": \"rgb(3,141,243)\"}, \"y\": null}, {\"name\": \"GC content\", \"type\": \"scatter\", \"x\": [1, 2, 3, 4, 5, 6, 7, 8, 9, 10, 11, 12, 13, 14, 15, 16, 17, 18, 19], \"line\": {\"color\": \"rgb(64,182,77)\"}, \"y\": null}, {\"name\": \"N content\", \"type\": \"scatter\", \"x\": [1, 2, 3, 4, 5, 6, 7, 8, 9, 10, 11, 12, 13, 14, 15, 16, 17, 18, 19], \"line\": {\"color\": \"rgb(243,145,3)\"}, \"y\": null}, {\"name\": \"X content\", \"type\": \"scatter\", \"x\": [1, 2, 3, 4, 5, 6, 7, 8, 9, 10, 11, 12, 13, 14, 15, 16, 17, 18, 19], \"line\": {\"color\": \"rgb(171,3,243)\"}, \"y\": null}], {\"yaxis\": {\"title\": \"Percentage\"}, \"xaxis\": {\"rangeslider\": {}, \"title\": \"Window iteration\"}}, {\"linkText\": \"Export to plot.ly\", \"showLink\": true})});</script>"
      ],
      "text/plain": [
       "<IPython.core.display.HTML object>"
      ]
     },
     "metadata": {},
     "output_type": "display_data"
    },
    {
     "data": {
      "text/html": [
       "<div id=\"2780fca8-08f9-482f-8464-6b5bba5787ed\" style=\"height: 525px; width: 100%;\" class=\"plotly-graph-div\"></div><script type=\"text/javascript\">require([\"plotly\"], function(Plotly) { window.PLOTLYENV=window.PLOTLYENV || {};window.PLOTLYENV.BASE_URL=\"https://plot.ly\";Plotly.newPlot(\"2780fca8-08f9-482f-8464-6b5bba5787ed\", [{\"name\": \"AT content\", \"type\": \"scatter\", \"x\": [1, 2, 3, 4, 5, 6, 7, 8, 9, 10, 11, 12, 13, 14, 15, 16, 17, 18, 19], \"line\": {\"color\": \"rgb(3,141,243)\"}, \"y\": null}, {\"name\": \"GC content\", \"type\": \"scatter\", \"x\": [1, 2, 3, 4, 5, 6, 7, 8, 9, 10, 11, 12, 13, 14, 15, 16, 17, 18, 19], \"line\": {\"color\": \"rgb(64,182,77)\"}, \"y\": null}, {\"name\": \"N content\", \"type\": \"scatter\", \"x\": [1, 2, 3, 4, 5, 6, 7, 8, 9, 10, 11, 12, 13, 14, 15, 16, 17, 18, 19], \"line\": {\"color\": \"rgb(243,145,3)\"}, \"y\": null}, {\"name\": \"X content\", \"type\": \"scatter\", \"x\": [1, 2, 3, 4, 5, 6, 7, 8, 9, 10, 11, 12, 13, 14, 15, 16, 17, 18, 19], \"line\": {\"color\": \"rgb(171,3,243)\"}, \"y\": null}], {\"yaxis\": {\"title\": \"Percentage\"}, \"xaxis\": {\"rangeslider\": {}, \"title\": \"Window iteration\"}}, {\"linkText\": \"Export to plot.ly\", \"showLink\": true})});</script>"
      ],
      "text/plain": [
       "<IPython.core.display.HTML object>"
      ]
     },
     "metadata": {},
     "output_type": "display_data"
    },
    {
     "data": {
      "text/html": [
       "<div id=\"657a0bfa-856f-4f98-9140-86c31728100a\" style=\"height: 525px; width: 100%;\" class=\"plotly-graph-div\"></div><script type=\"text/javascript\">require([\"plotly\"], function(Plotly) { window.PLOTLYENV=window.PLOTLYENV || {};window.PLOTLYENV.BASE_URL=\"https://plot.ly\";Plotly.newPlot(\"657a0bfa-856f-4f98-9140-86c31728100a\", [{\"name\": \"AT content\", \"type\": \"scatter\", \"x\": [1, 2, 3, 4, 5, 6, 7, 8, 9, 10, 11, 12, 13, 14, 15, 16, 17, 18, 19], \"line\": {\"color\": \"rgb(3,141,243)\"}, \"y\": null}, {\"name\": \"GC content\", \"type\": \"scatter\", \"x\": [1, 2, 3, 4, 5, 6, 7, 8, 9, 10, 11, 12, 13, 14, 15, 16, 17, 18, 19], \"line\": {\"color\": \"rgb(64,182,77)\"}, \"y\": null}, {\"name\": \"N content\", \"type\": \"scatter\", \"x\": [1, 2, 3, 4, 5, 6, 7, 8, 9, 10, 11, 12, 13, 14, 15, 16, 17, 18, 19], \"line\": {\"color\": \"rgb(243,145,3)\"}, \"y\": null}, {\"name\": \"X content\", \"type\": \"scatter\", \"x\": [1, 2, 3, 4, 5, 6, 7, 8, 9, 10, 11, 12, 13, 14, 15, 16, 17, 18, 19], \"line\": {\"color\": \"rgb(171,3,243)\"}, \"y\": null}], {\"yaxis\": {\"title\": \"Percentage\"}, \"xaxis\": {\"rangeslider\": {}, \"title\": \"Window iteration\"}}, {\"linkText\": \"Export to plot.ly\", \"showLink\": true})});</script>"
      ],
      "text/plain": [
       "<IPython.core.display.HTML object>"
      ]
     },
     "metadata": {},
     "output_type": "display_data"
    },
    {
     "data": {
      "text/html": [
       "<div id=\"e92bcd6b-12bd-40cb-bede-a4cbb2dd7533\" style=\"height: 525px; width: 100%;\" class=\"plotly-graph-div\"></div><script type=\"text/javascript\">require([\"plotly\"], function(Plotly) { window.PLOTLYENV=window.PLOTLYENV || {};window.PLOTLYENV.BASE_URL=\"https://plot.ly\";Plotly.newPlot(\"e92bcd6b-12bd-40cb-bede-a4cbb2dd7533\", [{\"name\": \"AT content\", \"type\": \"scatter\", \"x\": [1, 2, 3, 4, 5, 6, 7, 8, 9, 10, 11, 12, 13, 14, 15, 16, 17, 18, 19, 20, 21, 22, 23, 24, 25, 26, 27, 28, 29, 30, 31, 32, 33, 34], \"line\": {\"color\": \"rgb(3,141,243)\"}, \"y\": null}, {\"name\": \"GC content\", \"type\": \"scatter\", \"x\": [1, 2, 3, 4, 5, 6, 7, 8, 9, 10, 11, 12, 13, 14, 15, 16, 17, 18, 19, 20, 21, 22, 23, 24, 25, 26, 27, 28, 29, 30, 31, 32, 33, 34], \"line\": {\"color\": \"rgb(64,182,77)\"}, \"y\": null}, {\"name\": \"N content\", \"type\": \"scatter\", \"x\": [1, 2, 3, 4, 5, 6, 7, 8, 9, 10, 11, 12, 13, 14, 15, 16, 17, 18, 19, 20, 21, 22, 23, 24, 25, 26, 27, 28, 29, 30, 31, 32, 33, 34], \"line\": {\"color\": \"rgb(243,145,3)\"}, \"y\": null}, {\"name\": \"X content\", \"type\": \"scatter\", \"x\": [1, 2, 3, 4, 5, 6, 7, 8, 9, 10, 11, 12, 13, 14, 15, 16, 17, 18, 19, 20, 21, 22, 23, 24, 25, 26, 27, 28, 29, 30, 31, 32, 33, 34], \"line\": {\"color\": \"rgb(171,3,243)\"}, \"y\": null}], {\"yaxis\": {\"title\": \"Percentage\"}, \"xaxis\": {\"rangeslider\": {}, \"title\": \"Window iteration\"}}, {\"linkText\": \"Export to plot.ly\", \"showLink\": true})});</script>"
      ],
      "text/plain": [
       "<IPython.core.display.HTML object>"
      ]
     },
     "metadata": {},
     "output_type": "display_data"
    },
    {
     "data": {
      "text/html": [
       "<div id=\"96ac2139-a2c8-4c98-861c-292a2f5f04f1\" style=\"height: 525px; width: 100%;\" class=\"plotly-graph-div\"></div><script type=\"text/javascript\">require([\"plotly\"], function(Plotly) { window.PLOTLYENV=window.PLOTLYENV || {};window.PLOTLYENV.BASE_URL=\"https://plot.ly\";Plotly.newPlot(\"96ac2139-a2c8-4c98-861c-292a2f5f04f1\", [{\"name\": \"AT content\", \"type\": \"scatter\", \"x\": [1, 2, 3, 4, 5, 6, 7, 8, 9, 10, 11, 12, 13, 14, 15, 16, 17, 18, 19, 20, 21, 22, 23, 24, 25, 26, 27], \"line\": {\"color\": \"rgb(3,141,243)\"}, \"y\": null}, {\"name\": \"GC content\", \"type\": \"scatter\", \"x\": [1, 2, 3, 4, 5, 6, 7, 8, 9, 10, 11, 12, 13, 14, 15, 16, 17, 18, 19, 20, 21, 22, 23, 24, 25, 26, 27], \"line\": {\"color\": \"rgb(64,182,77)\"}, \"y\": null}, {\"name\": \"N content\", \"type\": \"scatter\", \"x\": [1, 2, 3, 4, 5, 6, 7, 8, 9, 10, 11, 12, 13, 14, 15, 16, 17, 18, 19, 20, 21, 22, 23, 24, 25, 26, 27], \"line\": {\"color\": \"rgb(243,145,3)\"}, \"y\": null}, {\"name\": \"X content\", \"type\": \"scatter\", \"x\": [1, 2, 3, 4, 5, 6, 7, 8, 9, 10, 11, 12, 13, 14, 15, 16, 17, 18, 19, 20, 21, 22, 23, 24, 25, 26, 27], \"line\": {\"color\": \"rgb(171,3,243)\"}, \"y\": null}], {\"yaxis\": {\"title\": \"Percentage\"}, \"xaxis\": {\"rangeslider\": {}, \"title\": \"Window iteration\"}}, {\"linkText\": \"Export to plot.ly\", \"showLink\": true})});</script>"
      ],
      "text/plain": [
       "<IPython.core.display.HTML object>"
      ]
     },
     "metadata": {},
     "output_type": "display_data"
    }
   ],
   "source": [
    "#SynMap2GCcontent\n",
    "##Step 1 Importing FASTA files\n",
    "\n",
    "####Import library\n",
    "import os\n",
    "#import itertools\n",
    "from itertools import islice\n",
    "from itertools import chain, repeat\n",
    "import numpy as np\n",
    "from plotly import __version__\n",
    "from plotly.offline import download_plotlyjs, init_notebook_mode, plot, iplot\n",
    "from plotly.graph_objs import Bar, Scatter, Figure, Layout\n",
    "init_notebook_mode(connected=True)\n",
    "\n",
    "\n",
    "####Global variables \n",
    "header = []\n",
    "nucleotides = []\n",
    "window_size = 30\n",
    "\n",
    "\n",
    "####File input/path\n",
    "#my_file = open(os.path.expanduser('Plasmodium_chabaudi_chabaudi_strain_AS.faa'))\n",
    "my_file = open(os.path.expanduser('Plasmodium__test.faa'))\n",
    "#my_file = open(os.path.expanduser('minitestdata.fasta'))\n",
    "#my_file = open(os.path.expanduser('Plasmodium_chabaudi_chabaudi_TEST2.faa'))\n",
    "file_contents = my_file.read()\n",
    "file_contents_lower = file_contents.lower()                                                    #Lowercases all strings in file\n",
    "file_contents_lower_split = file_contents_lower.split()                                        #Split the whole file string into words\n",
    "                                                                       \n",
    "\n",
    "##Step 2 Separating the file from a single string into two lists    \n",
    "for i in file_contents_lower_split:                                                            #Divides words into two lists: one with the simbol \">\" and the other one without it\n",
    "    if \">\" in i:\n",
    "        header.append(i)\n",
    "    else:\n",
    "        nucleotides.append(i)\n",
    "\n",
    "\n",
    "def window(seq, window_size):\n",
    "#Makes a sliding window in the sequence\n",
    "    foriter = []\n",
    "    for n in seq:\n",
    "        foriter.append(n)\n",
    "    #print(foriter)\n",
    "    lst = iter(foriter)\n",
    "    result = tuple(islice(lst, window_size))\n",
    "    if len(result) == window_size:\n",
    "        yield list(result)    \n",
    "    for elem in lst:\n",
    "        result = result[1:] + (elem,)\n",
    "        yield list(result)\n",
    "\n",
    "        \n",
    "seq_tuple = window(nucleotides, window_size)\n",
    "        \n",
    "        \n",
    "def AT_counter(seq):\n",
    "#Performs a rolling calculation of AT% for the sequence in the corresponding sequence segment\n",
    "    seq_tuple = window(seq, window_size)\n",
    "    frag_list_at = []\n",
    "    frag_lenghts = []\n",
    "    for n in seq_tuple:    \n",
    "        #print(n)\n",
    "        l = len(n)\n",
    "        frag_lenghts.append(l)\n",
    "        count_a = n.count('t')\n",
    "        count_t = n.count('a')\n",
    "        count_at = count_a+count_t\n",
    "        #print(count_at)\n",
    "        percent_at = (float(count_at/l))*100\n",
    "        #print(percent_at)\n",
    "        frag_list_at.append(percent_at)\n",
    "        percent_array_at = np.asarray(frag_list_at)\n",
    "    #print(percent_array_at)\n",
    "    return \n",
    "\n",
    "\n",
    "def GC_counter(seq):\n",
    "#Performs a rolling calculation of GC% for the sequence in the corresponding sequence segment\n",
    "    seq_tuple = window(seq, window_size)\n",
    "    frag_list_gc = []\n",
    "    frag_lenghts = []\n",
    "    for n in seq_tuple:    \n",
    "        #print(n)\n",
    "        l = len(n)\n",
    "        frag_lenghts.append(l)\n",
    "        count_g = n.count('g')\n",
    "        count_c = n.count('c')\n",
    "        count_gc = count_g+count_c\n",
    "        #print(count_gc)\n",
    "        percent_gc = (float(count_gc/l))*100\n",
    "        #print(percent_gc)\n",
    "        frag_list_gc.append(percent_gc)\n",
    "        percent_array_gc = np.asarray(frag_list_gc)\n",
    "    #print(percent_array_gc)\n",
    "    return \n",
    "\n",
    "\n",
    "def N_counter(seq):\n",
    "#Performs a rolling calculation of N% for the sequence in the corresponding sequence segment\n",
    "    seq_tuple = window(seq, window_size)\n",
    "    frag_list_n = []\n",
    "    frag_lenghts = []\n",
    "    for n in seq_tuple:    \n",
    "        #print(n)\n",
    "        l = len(n)\n",
    "        frag_lenghts.append(l)\n",
    "        count_n = n.count('n')\n",
    "        #print(count_n)\n",
    "        percent_n = (float(count_n/l))*100\n",
    "        #print(percent_n)\n",
    "        frag_list_n.append(percent_n)\n",
    "        percent_array_n = np.asarray(frag_list_n)\n",
    "    #print(percent_array_n)\n",
    "    return  \n",
    "\n",
    "\n",
    "def X_counter(seq):\n",
    "#Performs a rolling calculation of X% for the sequence in the corresponding sequence segment\n",
    "    seq_tuple = window(seq, window_size)\n",
    "    frag_list_x = []\n",
    "    frag_lenghts = []\n",
    "    for n in seq_tuple:    \n",
    "        #print(n)\n",
    "        l = len(n)\n",
    "        frag_lenghts.append(l)\n",
    "        count_x = n.count('x')\n",
    "        #print(count_x)\n",
    "        percent_x = (float(count_x/l))*100\n",
    "        #print(percent_x)\n",
    "        frag_list_x.append(percent_x)\n",
    "        percent_array_x = np.asarray(frag_list_x)\n",
    "    #print(percent_array_x)\n",
    "    return \n",
    "\n",
    "\n",
    "\n",
    "# def try_all(nucleo):\n",
    "#     for seq in nucleotides:\n",
    "#         AT_cnt_array = AT_counter(seq)\n",
    "#         print(AT_cnt_array)\n",
    "#     return \n",
    "\n",
    "# try_all(nucleotides)\n",
    "\n",
    "\n",
    "\n",
    "def positioner(seq):\n",
    "#Loops for every nucleotide per sequence, counts the number of positions and adds them to the position list\n",
    "    l = 0\n",
    "    position = []\n",
    "    for l in range(0,len(seq)):                                                              \n",
    "        l = l+1\n",
    "        position.append(l)\n",
    "        position_array = np.asarray(position)\n",
    "    return position_array\n",
    "\n",
    "\n",
    "def plotly(nucleo):\n",
    "    for seq in nucleotides:\n",
    "        AT_cnt_arr = AT_counter(seq)\n",
    "        GC_cnt_arr = GC_counter(seq)\n",
    "        N_cnt_arr = N_counter(seq)\n",
    "        X_cnt_arr = X_counter(seq)\n",
    "        pos_arr = positioner(seq)\n",
    "       \n",
    "        AT_trace = Scatter(\n",
    "        y = AT_cnt_arr,\n",
    "        x = pos_arr,\n",
    "        name='AT content',\n",
    "        line = dict(color = ('rgb(3,141,243)'))) #Blue\n",
    "        \n",
    "        GC_trace = Scatter(\n",
    "        y = GC_cnt_arr,\n",
    "        x = pos_arr,\n",
    "        name='GC content',\n",
    "        line = dict(color = ('rgb(64,182,77)'))) #Green\n",
    "        \n",
    "        N_trace = Scatter(\n",
    "        y = N_cnt_arr,\n",
    "        x = pos_arr,\n",
    "        name='N content',\n",
    "        line = dict(color = ('rgb(243,145,3)'))) #Orange\n",
    "        \n",
    "        X_trace = Scatter(\n",
    "        y = X_cnt_arr,\n",
    "        x = pos_arr,\n",
    "        name='X content',\n",
    "        line = dict(color = ('rgb(171,3,243)'))) #Purple\n",
    "        \n",
    "        \n",
    "        data = [AT_trace, GC_trace, N_trace, X_trace]  \n",
    "\n",
    "        layout = dict(xaxis=dict(title='Window iteration',rangeslider=dict()),yaxis=dict(title='Percentage'))\n",
    "        fig = dict(data=data, layout=layout)\n",
    "        iplot(fig)              \n",
    "    return\n",
    "\n",
    "\n",
    "plotly(nucleotides)"
   ]
  },
  {
   "cell_type": "code",
   "execution_count": null,
   "metadata": {
    "collapsed": true
   },
   "outputs": [],
   "source": []
  }
 ],
 "metadata": {
  "anaconda-cloud": {},
  "kernelspec": {
   "display_name": "Python [conda env:py35]",
   "language": "python",
   "name": "conda-env-py35-py"
  },
  "language_info": {
   "codemirror_mode": {
    "name": "ipython",
    "version": 3
   },
   "file_extension": ".py",
   "mimetype": "text/x-python",
   "name": "python",
   "nbconvert_exporter": "python",
   "pygments_lexer": "ipython3",
   "version": "3.5.2"
  }
 },
 "nbformat": 4,
 "nbformat_minor": 1
}
