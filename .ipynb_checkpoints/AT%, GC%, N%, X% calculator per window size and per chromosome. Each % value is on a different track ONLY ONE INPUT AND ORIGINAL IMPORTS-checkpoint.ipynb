{
 "cells": [
  {
   "cell_type": "code",
   "execution_count": 226,
   "metadata": {
    "collapsed": false
   },
   "outputs": [
    {
     "data": {
      "text/html": [
       "<script>requirejs.config({paths: { 'plotly': ['https://cdn.plot.ly/plotly-latest.min']},});if(!window.Plotly) {{require(['plotly'],function(plotly) {window.Plotly=plotly;});}}</script>"
      ],
      "text/plain": [
       "<IPython.core.display.HTML object>"
      ]
     },
     "metadata": {},
     "output_type": "display_data"
    },
    {
     "data": {
      "text/html": [
       "<div id=\"b4f93294-2969-4565-bdf6-6b8528024f67\" style=\"height: 525px; width: 100%;\" class=\"plotly-graph-div\"></div><script type=\"text/javascript\">require([\"plotly\"], function(Plotly) { window.PLOTLYENV=window.PLOTLYENV || {};window.PLOTLYENV.BASE_URL=\"https://plot.ly\";Plotly.newPlot(\"b4f93294-2969-4565-bdf6-6b8528024f67\", [{\"type\": \"scatter\", \"name\": \"AT content\", \"x\": [1, 2, 3, 4, 5, 6, 7, 8, 9, 10, 11, 12, 13, 14, 15, 16, 17, 18, 19, 20, 21, 22, 23, 24, 25, 26, 27, 28, 29, 30], \"line\": {\"color\": \"rgb(3,141,243)\"}, \"y\": [0.0, 100.0, 0.0, 100.0, 100.0, 0.0, 0.0, 0.0, 100.0, 100.0, 100.0, 100.0, 0.0, 0.0, 0.0, 0.0, 0.0, 100.0, 0.0, 100.0, 100.0, 0.0, 0.0, 0.0, 0.0, 0.0, 100.0, 100.0, 0.0, 100.0]}, {\"type\": \"scatter\", \"name\": \"GC content\", \"x\": [1, 2, 3, 4, 5, 6, 7, 8, 9, 10, 11, 12, 13, 14, 15, 16, 17, 18, 19, 20, 21, 22, 23, 24, 25, 26, 27, 28, 29, 30], \"line\": {\"color\": \"rgb(64,182,77)\"}, \"y\": [100.0, 0.0, 100.0, 0.0, 0.0, 100.0, 100.0, 100.0, 0.0, 0.0, 0.0, 0.0, 0.0, 0.0, 100.0, 100.0, 100.0, 0.0, 100.0, 0.0, 0.0, 100.0, 100.0, 100.0, 100.0, 100.0, 0.0, 0.0, 100.0, 0.0]}, {\"type\": \"scatter\", \"name\": \"N content\", \"x\": [1, 2, 3, 4, 5, 6, 7, 8, 9, 10, 11, 12, 13, 14, 15, 16, 17, 18, 19, 20, 21, 22, 23, 24, 25, 26, 27, 28, 29, 30], \"line\": {\"color\": \"rgb(243,145,3)\"}, \"y\": [0.0, 0.0, 0.0, 0.0, 0.0, 0.0, 0.0, 0.0, 0.0, 0.0, 0.0, 0.0, 100.0, 100.0, 0.0, 0.0, 0.0, 0.0, 0.0, 0.0, 0.0, 0.0, 0.0, 0.0, 0.0, 0.0, 0.0, 0.0, 0.0, 0.0]}, {\"type\": \"scatter\", \"name\": \"X content\", \"x\": [1, 2, 3, 4, 5, 6, 7, 8, 9, 10, 11, 12, 13, 14, 15, 16, 17, 18, 19, 20, 21, 22, 23, 24, 25, 26, 27, 28, 29, 30], \"line\": {\"color\": \"rgb(171,3,243)\"}, \"y\": [0.0, 0.0, 0.0, 0.0, 0.0, 0.0, 0.0, 0.0, 0.0, 0.0, 0.0, 0.0, 100.0, 100.0, 0.0, 0.0, 0.0, 0.0, 0.0, 0.0, 0.0, 0.0, 0.0, 0.0, 0.0, 0.0, 0.0, 0.0, 0.0, 0.0]}], {\"xaxis\": {\"rangeslider\": {}}}, {\"linkText\": \"Export to plot.ly\", \"showLink\": true})});</script>"
      ],
      "text/plain": [
       "<IPython.core.display.HTML object>"
      ]
     },
     "metadata": {},
     "output_type": "display_data"
    },
    {
     "data": {
      "text/html": [
       "<div id=\"6e603e63-85e2-493f-bc79-3c2facc12aee\" style=\"height: 525px; width: 100%;\" class=\"plotly-graph-div\"></div><script type=\"text/javascript\">require([\"plotly\"], function(Plotly) { window.PLOTLYENV=window.PLOTLYENV || {};window.PLOTLYENV.BASE_URL=\"https://plot.ly\";Plotly.newPlot(\"6e603e63-85e2-493f-bc79-3c2facc12aee\", [{\"type\": \"scatter\", \"name\": \"AT content\", \"x\": [1, 2, 3, 4, 5, 6, 7, 8, 9, 10, 11, 12, 13, 14, 15, 16, 17, 18, 19], \"line\": {\"color\": \"rgb(3,141,243)\"}, \"y\": [100.0, 100.0, 100.0, 100.0, 100.0, 100.0, 100.0, 100.0, 100.0, 100.0, 100.0, 100.0, 100.0, 100.0, 100.0, 100.0, 100.0, 100.0, 100.0]}, {\"type\": \"scatter\", \"name\": \"GC content\", \"x\": [1, 2, 3, 4, 5, 6, 7, 8, 9, 10, 11, 12, 13, 14, 15, 16, 17, 18, 19], \"line\": {\"color\": \"rgb(64,182,77)\"}, \"y\": [0.0, 0.0, 0.0, 0.0, 0.0, 0.0, 0.0, 0.0, 0.0, 0.0, 0.0, 0.0, 0.0, 0.0, 0.0, 0.0, 0.0, 0.0, 0.0]}, {\"type\": \"scatter\", \"name\": \"N content\", \"x\": [1, 2, 3, 4, 5, 6, 7, 8, 9, 10, 11, 12, 13, 14, 15, 16, 17, 18, 19], \"line\": {\"color\": \"rgb(243,145,3)\"}, \"y\": [0.0, 0.0, 0.0, 0.0, 0.0, 0.0, 0.0, 0.0, 0.0, 0.0, 0.0, 0.0, 0.0, 0.0, 0.0, 0.0, 0.0, 0.0, 0.0]}, {\"type\": \"scatter\", \"name\": \"X content\", \"x\": [1, 2, 3, 4, 5, 6, 7, 8, 9, 10, 11, 12, 13, 14, 15, 16, 17, 18, 19], \"line\": {\"color\": \"rgb(171,3,243)\"}, \"y\": [0.0, 0.0, 0.0, 0.0, 0.0, 0.0, 0.0, 0.0, 0.0, 0.0, 0.0, 0.0, 0.0, 0.0, 0.0, 0.0, 0.0, 0.0, 0.0]}], {\"xaxis\": {\"rangeslider\": {}}}, {\"linkText\": \"Export to plot.ly\", \"showLink\": true})});</script>"
      ],
      "text/plain": [
       "<IPython.core.display.HTML object>"
      ]
     },
     "metadata": {},
     "output_type": "display_data"
    },
    {
     "data": {
      "text/html": [
       "<div id=\"9da3c76e-1f00-4d1f-8272-aefea91e5277\" style=\"height: 525px; width: 100%;\" class=\"plotly-graph-div\"></div><script type=\"text/javascript\">require([\"plotly\"], function(Plotly) { window.PLOTLYENV=window.PLOTLYENV || {};window.PLOTLYENV.BASE_URL=\"https://plot.ly\";Plotly.newPlot(\"9da3c76e-1f00-4d1f-8272-aefea91e5277\", [{\"type\": \"scatter\", \"name\": \"AT content\", \"x\": [1, 2, 3, 4, 5, 6, 7, 8, 9, 10, 11, 12, 13, 14, 15, 16, 17, 18, 19, 20, 21, 22], \"line\": {\"color\": \"rgb(3,141,243)\"}, \"y\": [100.0, 100.0, 0.0, 0.0, 0.0, 100.0, 100.0, 100.0, 100.0, 0.0, 0.0, 0.0, 100.0, 100.0, 100.0, 100.0, 0.0, 0.0, 0.0, 0.0, 0.0, 0.0]}, {\"type\": \"scatter\", \"name\": \"GC content\", \"x\": [1, 2, 3, 4, 5, 6, 7, 8, 9, 10, 11, 12, 13, 14, 15, 16, 17, 18, 19, 20, 21, 22], \"line\": {\"color\": \"rgb(64,182,77)\"}, \"y\": [0.0, 0.0, 100.0, 100.0, 100.0, 0.0, 0.0, 0.0, 0.0, 100.0, 100.0, 100.0, 0.0, 0.0, 0.0, 0.0, 100.0, 100.0, 100.0, 100.0, 100.0, 100.0]}, {\"type\": \"scatter\", \"name\": \"N content\", \"x\": [1, 2, 3, 4, 5, 6, 7, 8, 9, 10, 11, 12, 13, 14, 15, 16, 17, 18, 19, 20, 21, 22], \"line\": {\"color\": \"rgb(243,145,3)\"}, \"y\": [0.0, 0.0, 0.0, 0.0, 0.0, 0.0, 0.0, 0.0, 0.0, 0.0, 0.0, 0.0, 0.0, 0.0, 0.0, 0.0, 0.0, 0.0, 0.0, 0.0, 0.0, 0.0]}, {\"type\": \"scatter\", \"name\": \"X content\", \"x\": [1, 2, 3, 4, 5, 6, 7, 8, 9, 10, 11, 12, 13, 14, 15, 16, 17, 18, 19, 20, 21, 22], \"line\": {\"color\": \"rgb(171,3,243)\"}, \"y\": [0.0, 0.0, 0.0, 0.0, 0.0, 0.0, 0.0, 0.0, 0.0, 0.0, 0.0, 0.0, 0.0, 0.0, 0.0, 0.0, 0.0, 0.0, 0.0, 0.0, 0.0, 0.0]}], {\"xaxis\": {\"rangeslider\": {}}}, {\"linkText\": \"Export to plot.ly\", \"showLink\": true})});</script>"
      ],
      "text/plain": [
       "<IPython.core.display.HTML object>"
      ]
     },
     "metadata": {},
     "output_type": "display_data"
    },
    {
     "data": {
      "text/html": [
       "<div id=\"5674a5e8-77f5-4c55-920e-07e08f563fd3\" style=\"height: 525px; width: 100%;\" class=\"plotly-graph-div\"></div><script type=\"text/javascript\">require([\"plotly\"], function(Plotly) { window.PLOTLYENV=window.PLOTLYENV || {};window.PLOTLYENV.BASE_URL=\"https://plot.ly\";Plotly.newPlot(\"5674a5e8-77f5-4c55-920e-07e08f563fd3\", [{\"type\": \"scatter\", \"name\": \"AT content\", \"x\": [1, 2, 3, 4, 5, 6, 7, 8, 9, 10, 11, 12, 13, 14, 15, 16, 17], \"line\": {\"color\": \"rgb(3,141,243)\"}, \"y\": [100.0, 100.0, 100.0, 100.0, 100.0, 100.0, 100.0, 100.0, 100.0, 100.0, 100.0, 100.0, 100.0, 100.0, 100.0, 0.0, 100.0]}, {\"type\": \"scatter\", \"name\": \"GC content\", \"x\": [1, 2, 3, 4, 5, 6, 7, 8, 9, 10, 11, 12, 13, 14, 15, 16, 17], \"line\": {\"color\": \"rgb(64,182,77)\"}, \"y\": [0.0, 0.0, 0.0, 0.0, 0.0, 0.0, 0.0, 0.0, 0.0, 0.0, 0.0, 0.0, 0.0, 0.0, 0.0, 100.0, 0.0]}, {\"type\": \"scatter\", \"name\": \"N content\", \"x\": [1, 2, 3, 4, 5, 6, 7, 8, 9, 10, 11, 12, 13, 14, 15, 16, 17], \"line\": {\"color\": \"rgb(243,145,3)\"}, \"y\": [0.0, 0.0, 0.0, 0.0, 0.0, 0.0, 0.0, 0.0, 0.0, 0.0, 0.0, 0.0, 0.0, 0.0, 0.0, 0.0, 0.0]}, {\"type\": \"scatter\", \"name\": \"X content\", \"x\": [1, 2, 3, 4, 5, 6, 7, 8, 9, 10, 11, 12, 13, 14, 15, 16, 17], \"line\": {\"color\": \"rgb(171,3,243)\"}, \"y\": [0.0, 0.0, 0.0, 0.0, 0.0, 0.0, 0.0, 0.0, 0.0, 0.0, 0.0, 0.0, 0.0, 0.0, 0.0, 0.0, 0.0]}], {\"xaxis\": {\"rangeslider\": {}}}, {\"linkText\": \"Export to plot.ly\", \"showLink\": true})});</script>"
      ],
      "text/plain": [
       "<IPython.core.display.HTML object>"
      ]
     },
     "metadata": {},
     "output_type": "display_data"
    },
    {
     "data": {
      "text/html": [
       "<div id=\"88496be2-b682-4af5-bc23-6f4f90bbd798\" style=\"height: 525px; width: 100%;\" class=\"plotly-graph-div\"></div><script type=\"text/javascript\">require([\"plotly\"], function(Plotly) { window.PLOTLYENV=window.PLOTLYENV || {};window.PLOTLYENV.BASE_URL=\"https://plot.ly\";Plotly.newPlot(\"88496be2-b682-4af5-bc23-6f4f90bbd798\", [{\"type\": \"scatter\", \"name\": \"AT content\", \"x\": [1, 2, 3, 4, 5, 6, 7, 8, 9, 10, 11, 12, 13, 14, 15, 16, 17, 18, 19], \"line\": {\"color\": \"rgb(3,141,243)\"}, \"y\": [100.0, 100.0, 100.0, 0.0, 0.0, 0.0, 100.0, 100.0, 100.0, 100.0, 0.0, 0.0, 0.0, 100.0, 0.0, 100.0, 100.0, 0.0, 0.0]}, {\"type\": \"scatter\", \"name\": \"GC content\", \"x\": [1, 2, 3, 4, 5, 6, 7, 8, 9, 10, 11, 12, 13, 14, 15, 16, 17, 18, 19], \"line\": {\"color\": \"rgb(64,182,77)\"}, \"y\": [0.0, 0.0, 0.0, 100.0, 100.0, 100.0, 0.0, 0.0, 0.0, 0.0, 100.0, 100.0, 100.0, 0.0, 100.0, 0.0, 0.0, 100.0, 100.0]}, {\"type\": \"scatter\", \"name\": \"N content\", \"x\": [1, 2, 3, 4, 5, 6, 7, 8, 9, 10, 11, 12, 13, 14, 15, 16, 17, 18, 19], \"line\": {\"color\": \"rgb(243,145,3)\"}, \"y\": [0.0, 0.0, 0.0, 0.0, 0.0, 0.0, 0.0, 0.0, 0.0, 0.0, 0.0, 0.0, 0.0, 0.0, 0.0, 0.0, 0.0, 0.0, 0.0]}, {\"type\": \"scatter\", \"name\": \"X content\", \"x\": [1, 2, 3, 4, 5, 6, 7, 8, 9, 10, 11, 12, 13, 14, 15, 16, 17, 18, 19], \"line\": {\"color\": \"rgb(171,3,243)\"}, \"y\": [0.0, 0.0, 0.0, 0.0, 0.0, 0.0, 0.0, 0.0, 0.0, 0.0, 0.0, 0.0, 0.0, 0.0, 0.0, 0.0, 0.0, 0.0, 0.0]}], {\"xaxis\": {\"rangeslider\": {}}}, {\"linkText\": \"Export to plot.ly\", \"showLink\": true})});</script>"
      ],
      "text/plain": [
       "<IPython.core.display.HTML object>"
      ]
     },
     "metadata": {},
     "output_type": "display_data"
    },
    {
     "data": {
      "text/html": [
       "<div id=\"9e0992ef-6ee8-42d3-a14f-1a70eb815b51\" style=\"height: 525px; width: 100%;\" class=\"plotly-graph-div\"></div><script type=\"text/javascript\">require([\"plotly\"], function(Plotly) { window.PLOTLYENV=window.PLOTLYENV || {};window.PLOTLYENV.BASE_URL=\"https://plot.ly\";Plotly.newPlot(\"9e0992ef-6ee8-42d3-a14f-1a70eb815b51\", [{\"type\": \"scatter\", \"name\": \"AT content\", \"x\": [1, 2, 3, 4, 5, 6, 7, 8, 9, 10, 11, 12, 13, 14, 15, 16, 17, 18, 19, 20, 21], \"line\": {\"color\": \"rgb(3,141,243)\"}, \"y\": [0.0, 0.0, 100.0, 0.0, 100.0, 100.0, 0.0, 0.0, 0.0, 0.0, 0.0, 100.0, 100.0, 100.0, 100.0, 0.0, 0.0, 0.0, 100.0, 100.0, 100.0]}, {\"type\": \"scatter\", \"name\": \"GC content\", \"x\": [1, 2, 3, 4, 5, 6, 7, 8, 9, 10, 11, 12, 13, 14, 15, 16, 17, 18, 19, 20, 21], \"line\": {\"color\": \"rgb(64,182,77)\"}, \"y\": [100.0, 100.0, 0.0, 100.0, 0.0, 0.0, 0.0, 0.0, 100.0, 100.0, 100.0, 0.0, 0.0, 0.0, 0.0, 100.0, 100.0, 100.0, 0.0, 0.0, 0.0]}, {\"type\": \"scatter\", \"name\": \"N content\", \"x\": [1, 2, 3, 4, 5, 6, 7, 8, 9, 10, 11, 12, 13, 14, 15, 16, 17, 18, 19, 20, 21], \"line\": {\"color\": \"rgb(243,145,3)\"}, \"y\": [0.0, 0.0, 0.0, 0.0, 0.0, 0.0, 0.0, 0.0, 0.0, 0.0, 0.0, 0.0, 0.0, 0.0, 0.0, 0.0, 0.0, 0.0, 0.0, 0.0, 0.0]}, {\"type\": \"scatter\", \"name\": \"X content\", \"x\": [1, 2, 3, 4, 5, 6, 7, 8, 9, 10, 11, 12, 13, 14, 15, 16, 17, 18, 19, 20, 21], \"line\": {\"color\": \"rgb(171,3,243)\"}, \"y\": [0.0, 0.0, 0.0, 0.0, 0.0, 0.0, 0.0, 0.0, 0.0, 0.0, 0.0, 0.0, 0.0, 0.0, 0.0, 0.0, 0.0, 0.0, 0.0, 0.0, 0.0]}], {\"xaxis\": {\"rangeslider\": {}}}, {\"linkText\": \"Export to plot.ly\", \"showLink\": true})});</script>"
      ],
      "text/plain": [
       "<IPython.core.display.HTML object>"
      ]
     },
     "metadata": {},
     "output_type": "display_data"
    },
    {
     "data": {
      "text/html": [
       "<div id=\"1250ec94-3bf4-4af1-8434-6ef38ef09e90\" style=\"height: 525px; width: 100%;\" class=\"plotly-graph-div\"></div><script type=\"text/javascript\">require([\"plotly\"], function(Plotly) { window.PLOTLYENV=window.PLOTLYENV || {};window.PLOTLYENV.BASE_URL=\"https://plot.ly\";Plotly.newPlot(\"1250ec94-3bf4-4af1-8434-6ef38ef09e90\", [{\"type\": \"scatter\", \"name\": \"AT content\", \"x\": [1, 2, 3, 4, 5, 6, 7, 8, 9, 10, 11, 12, 13, 14, 15, 16, 17, 18, 19], \"line\": {\"color\": \"rgb(3,141,243)\"}, \"y\": [100.0, 0.0, 0.0, 0.0, 100.0, 100.0, 100.0, 100.0, 0.0, 0.0, 0.0, 100.0, 100.0, 100.0, 100.0, 0.0, 0.0, 0.0, 100.0]}, {\"type\": \"scatter\", \"name\": \"GC content\", \"x\": [1, 2, 3, 4, 5, 6, 7, 8, 9, 10, 11, 12, 13, 14, 15, 16, 17, 18, 19], \"line\": {\"color\": \"rgb(64,182,77)\"}, \"y\": [0.0, 100.0, 100.0, 100.0, 0.0, 0.0, 0.0, 0.0, 100.0, 100.0, 100.0, 0.0, 0.0, 0.0, 0.0, 100.0, 100.0, 100.0, 0.0]}, {\"type\": \"scatter\", \"name\": \"N content\", \"x\": [1, 2, 3, 4, 5, 6, 7, 8, 9, 10, 11, 12, 13, 14, 15, 16, 17, 18, 19], \"line\": {\"color\": \"rgb(243,145,3)\"}, \"y\": [0.0, 0.0, 0.0, 0.0, 0.0, 0.0, 0.0, 0.0, 0.0, 0.0, 0.0, 0.0, 0.0, 0.0, 0.0, 0.0, 0.0, 0.0, 0.0]}, {\"type\": \"scatter\", \"name\": \"X content\", \"x\": [1, 2, 3, 4, 5, 6, 7, 8, 9, 10, 11, 12, 13, 14, 15, 16, 17, 18, 19], \"line\": {\"color\": \"rgb(171,3,243)\"}, \"y\": [0.0, 0.0, 0.0, 0.0, 0.0, 0.0, 0.0, 0.0, 0.0, 0.0, 0.0, 0.0, 0.0, 0.0, 0.0, 0.0, 0.0, 0.0, 0.0]}], {\"xaxis\": {\"rangeslider\": {}}}, {\"linkText\": \"Export to plot.ly\", \"showLink\": true})});</script>"
      ],
      "text/plain": [
       "<IPython.core.display.HTML object>"
      ]
     },
     "metadata": {},
     "output_type": "display_data"
    },
    {
     "data": {
      "text/html": [
       "<div id=\"86ea1c6f-2229-467c-9040-daca6be676c3\" style=\"height: 525px; width: 100%;\" class=\"plotly-graph-div\"></div><script type=\"text/javascript\">require([\"plotly\"], function(Plotly) { window.PLOTLYENV=window.PLOTLYENV || {};window.PLOTLYENV.BASE_URL=\"https://plot.ly\";Plotly.newPlot(\"86ea1c6f-2229-467c-9040-daca6be676c3\", [{\"type\": \"scatter\", \"name\": \"AT content\", \"x\": [1, 2, 3, 4, 5, 6, 7, 8, 9, 10, 11, 12, 13, 14, 15, 16, 17, 18, 19], \"line\": {\"color\": \"rgb(3,141,243)\"}, \"y\": [0.0, 100.0, 100.0, 100.0, 100.0, 0.0, 100.0, 0.0, 100.0, 100.0, 100.0, 100.0, 100.0, 100.0, 0.0, 100.0, 0.0, 100.0, 0.0]}, {\"type\": \"scatter\", \"name\": \"GC content\", \"x\": [1, 2, 3, 4, 5, 6, 7, 8, 9, 10, 11, 12, 13, 14, 15, 16, 17, 18, 19], \"line\": {\"color\": \"rgb(64,182,77)\"}, \"y\": [100.0, 0.0, 0.0, 0.0, 0.0, 100.0, 0.0, 100.0, 0.0, 0.0, 0.0, 0.0, 0.0, 0.0, 100.0, 0.0, 100.0, 0.0, 100.0]}, {\"type\": \"scatter\", \"name\": \"N content\", \"x\": [1, 2, 3, 4, 5, 6, 7, 8, 9, 10, 11, 12, 13, 14, 15, 16, 17, 18, 19], \"line\": {\"color\": \"rgb(243,145,3)\"}, \"y\": [0.0, 0.0, 0.0, 0.0, 0.0, 0.0, 0.0, 0.0, 0.0, 0.0, 0.0, 0.0, 0.0, 0.0, 0.0, 0.0, 0.0, 0.0, 0.0]}, {\"type\": \"scatter\", \"name\": \"X content\", \"x\": [1, 2, 3, 4, 5, 6, 7, 8, 9, 10, 11, 12, 13, 14, 15, 16, 17, 18, 19], \"line\": {\"color\": \"rgb(171,3,243)\"}, \"y\": [0.0, 0.0, 0.0, 0.0, 0.0, 0.0, 0.0, 0.0, 0.0, 0.0, 0.0, 0.0, 0.0, 0.0, 0.0, 0.0, 0.0, 0.0, 0.0]}], {\"xaxis\": {\"rangeslider\": {}}}, {\"linkText\": \"Export to plot.ly\", \"showLink\": true})});</script>"
      ],
      "text/plain": [
       "<IPython.core.display.HTML object>"
      ]
     },
     "metadata": {},
     "output_type": "display_data"
    },
    {
     "data": {
      "text/html": [
       "<div id=\"9ff4320b-be3f-4a84-85b5-a7f45636aab2\" style=\"height: 525px; width: 100%;\" class=\"plotly-graph-div\"></div><script type=\"text/javascript\">require([\"plotly\"], function(Plotly) { window.PLOTLYENV=window.PLOTLYENV || {};window.PLOTLYENV.BASE_URL=\"https://plot.ly\";Plotly.newPlot(\"9ff4320b-be3f-4a84-85b5-a7f45636aab2\", [{\"type\": \"scatter\", \"name\": \"AT content\", \"x\": [1, 2, 3, 4, 5, 6, 7, 8, 9, 10, 11, 12, 13, 14, 15, 16, 17, 18, 19], \"line\": {\"color\": \"rgb(3,141,243)\"}, \"y\": [100.0, 0.0, 100.0, 100.0, 0.0, 100.0, 100.0, 100.0, 0.0, 100.0, 0.0, 100.0, 100.0, 100.0, 100.0, 100.0, 100.0, 100.0, 0.0]}, {\"type\": \"scatter\", \"name\": \"GC content\", \"x\": [1, 2, 3, 4, 5, 6, 7, 8, 9, 10, 11, 12, 13, 14, 15, 16, 17, 18, 19], \"line\": {\"color\": \"rgb(64,182,77)\"}, \"y\": [0.0, 100.0, 0.0, 0.0, 100.0, 0.0, 0.0, 0.0, 100.0, 0.0, 100.0, 0.0, 0.0, 0.0, 0.0, 0.0, 0.0, 0.0, 100.0]}, {\"type\": \"scatter\", \"name\": \"N content\", \"x\": [1, 2, 3, 4, 5, 6, 7, 8, 9, 10, 11, 12, 13, 14, 15, 16, 17, 18, 19], \"line\": {\"color\": \"rgb(243,145,3)\"}, \"y\": [0.0, 0.0, 0.0, 0.0, 0.0, 0.0, 0.0, 0.0, 0.0, 0.0, 0.0, 0.0, 0.0, 0.0, 0.0, 0.0, 0.0, 0.0, 0.0]}, {\"type\": \"scatter\", \"name\": \"X content\", \"x\": [1, 2, 3, 4, 5, 6, 7, 8, 9, 10, 11, 12, 13, 14, 15, 16, 17, 18, 19], \"line\": {\"color\": \"rgb(171,3,243)\"}, \"y\": [0.0, 0.0, 0.0, 0.0, 0.0, 0.0, 0.0, 0.0, 0.0, 0.0, 0.0, 0.0, 0.0, 0.0, 0.0, 0.0, 0.0, 0.0, 0.0]}], {\"xaxis\": {\"rangeslider\": {}}}, {\"linkText\": \"Export to plot.ly\", \"showLink\": true})});</script>"
      ],
      "text/plain": [
       "<IPython.core.display.HTML object>"
      ]
     },
     "metadata": {},
     "output_type": "display_data"
    },
    {
     "data": {
      "text/html": [
       "<div id=\"0380cb39-f9f5-4246-be51-e4edad607d59\" style=\"height: 525px; width: 100%;\" class=\"plotly-graph-div\"></div><script type=\"text/javascript\">require([\"plotly\"], function(Plotly) { window.PLOTLYENV=window.PLOTLYENV || {};window.PLOTLYENV.BASE_URL=\"https://plot.ly\";Plotly.newPlot(\"0380cb39-f9f5-4246-be51-e4edad607d59\", [{\"type\": \"scatter\", \"name\": \"AT content\", \"x\": [1, 2, 3, 4, 5, 6, 7, 8, 9, 10, 11, 12, 13, 14, 15, 16, 17, 18, 19], \"line\": {\"color\": \"rgb(3,141,243)\"}, \"y\": [100.0, 100.0, 0.0, 0.0, 0.0, 100.0, 100.0, 100.0, 100.0, 0.0, 0.0, 0.0, 100.0, 0.0, 100.0, 100.0, 100.0, 0.0, 0.0]}, {\"type\": \"scatter\", \"name\": \"GC content\", \"x\": [1, 2, 3, 4, 5, 6, 7, 8, 9, 10, 11, 12, 13, 14, 15, 16, 17, 18, 19], \"line\": {\"color\": \"rgb(64,182,77)\"}, \"y\": [0.0, 0.0, 100.0, 100.0, 100.0, 0.0, 0.0, 0.0, 0.0, 100.0, 100.0, 100.0, 0.0, 100.0, 0.0, 0.0, 0.0, 100.0, 100.0]}, {\"type\": \"scatter\", \"name\": \"N content\", \"x\": [1, 2, 3, 4, 5, 6, 7, 8, 9, 10, 11, 12, 13, 14, 15, 16, 17, 18, 19], \"line\": {\"color\": \"rgb(243,145,3)\"}, \"y\": [0.0, 0.0, 0.0, 0.0, 0.0, 0.0, 0.0, 0.0, 0.0, 0.0, 0.0, 0.0, 0.0, 0.0, 0.0, 0.0, 0.0, 0.0, 0.0]}, {\"type\": \"scatter\", \"name\": \"X content\", \"x\": [1, 2, 3, 4, 5, 6, 7, 8, 9, 10, 11, 12, 13, 14, 15, 16, 17, 18, 19], \"line\": {\"color\": \"rgb(171,3,243)\"}, \"y\": [0.0, 0.0, 0.0, 0.0, 0.0, 0.0, 0.0, 0.0, 0.0, 0.0, 0.0, 0.0, 0.0, 0.0, 0.0, 0.0, 0.0, 0.0, 0.0]}], {\"xaxis\": {\"rangeslider\": {}}}, {\"linkText\": \"Export to plot.ly\", \"showLink\": true})});</script>"
      ],
      "text/plain": [
       "<IPython.core.display.HTML object>"
      ]
     },
     "metadata": {},
     "output_type": "display_data"
    },
    {
     "data": {
      "text/html": [
       "<div id=\"4956170a-5990-4de9-8d5a-d92092cb7941\" style=\"height: 525px; width: 100%;\" class=\"plotly-graph-div\"></div><script type=\"text/javascript\">require([\"plotly\"], function(Plotly) { window.PLOTLYENV=window.PLOTLYENV || {};window.PLOTLYENV.BASE_URL=\"https://plot.ly\";Plotly.newPlot(\"4956170a-5990-4de9-8d5a-d92092cb7941\", [{\"type\": \"scatter\", \"name\": \"AT content\", \"x\": [1, 2, 3, 4, 5, 6, 7, 8, 9, 10, 11, 12, 13, 14, 15, 16, 17, 18, 19], \"line\": {\"color\": \"rgb(3,141,243)\"}, \"y\": [100.0, 0.0, 0.0, 0.0, 100.0, 100.0, 100.0, 100.0, 0.0, 0.0, 0.0, 100.0, 100.0, 100.0, 100.0, 0.0, 0.0, 0.0, 100.0]}, {\"type\": \"scatter\", \"name\": \"GC content\", \"x\": [1, 2, 3, 4, 5, 6, 7, 8, 9, 10, 11, 12, 13, 14, 15, 16, 17, 18, 19], \"line\": {\"color\": \"rgb(64,182,77)\"}, \"y\": [0.0, 100.0, 100.0, 100.0, 0.0, 0.0, 0.0, 0.0, 100.0, 100.0, 100.0, 0.0, 0.0, 0.0, 0.0, 100.0, 100.0, 100.0, 0.0]}, {\"type\": \"scatter\", \"name\": \"N content\", \"x\": [1, 2, 3, 4, 5, 6, 7, 8, 9, 10, 11, 12, 13, 14, 15, 16, 17, 18, 19], \"line\": {\"color\": \"rgb(243,145,3)\"}, \"y\": [0.0, 0.0, 0.0, 0.0, 0.0, 0.0, 0.0, 0.0, 0.0, 0.0, 0.0, 0.0, 0.0, 0.0, 0.0, 0.0, 0.0, 0.0, 0.0]}, {\"type\": \"scatter\", \"name\": \"X content\", \"x\": [1, 2, 3, 4, 5, 6, 7, 8, 9, 10, 11, 12, 13, 14, 15, 16, 17, 18, 19], \"line\": {\"color\": \"rgb(171,3,243)\"}, \"y\": [0.0, 0.0, 0.0, 0.0, 0.0, 0.0, 0.0, 0.0, 0.0, 0.0, 0.0, 0.0, 0.0, 0.0, 0.0, 0.0, 0.0, 0.0, 0.0]}], {\"xaxis\": {\"rangeslider\": {}}}, {\"linkText\": \"Export to plot.ly\", \"showLink\": true})});</script>"
      ],
      "text/plain": [
       "<IPython.core.display.HTML object>"
      ]
     },
     "metadata": {},
     "output_type": "display_data"
    },
    {
     "data": {
      "text/html": [
       "<div id=\"6bbd3ab9-bfc9-45f5-a2b0-a0f1a897f2ea\" style=\"height: 525px; width: 100%;\" class=\"plotly-graph-div\"></div><script type=\"text/javascript\">require([\"plotly\"], function(Plotly) { window.PLOTLYENV=window.PLOTLYENV || {};window.PLOTLYENV.BASE_URL=\"https://plot.ly\";Plotly.newPlot(\"6bbd3ab9-bfc9-45f5-a2b0-a0f1a897f2ea\", [{\"type\": \"scatter\", \"name\": \"AT content\", \"x\": [1, 2, 3, 4, 5, 6, 7, 8, 9, 10, 11, 12, 13, 14, 15, 16, 17, 18, 19], \"line\": {\"color\": \"rgb(3,141,243)\"}, \"y\": [100.0, 0.0, 100.0, 100.0, 0.0, 0.0, 0.0, 100.0, 100.0, 100.0, 100.0, 0.0, 0.0, 0.0, 100.0, 100.0, 100.0, 100.0, 0.0]}, {\"type\": \"scatter\", \"name\": \"GC content\", \"x\": [1, 2, 3, 4, 5, 6, 7, 8, 9, 10, 11, 12, 13, 14, 15, 16, 17, 18, 19], \"line\": {\"color\": \"rgb(64,182,77)\"}, \"y\": [0.0, 100.0, 0.0, 0.0, 100.0, 100.0, 100.0, 0.0, 0.0, 0.0, 0.0, 100.0, 100.0, 100.0, 0.0, 0.0, 0.0, 0.0, 100.0]}, {\"type\": \"scatter\", \"name\": \"N content\", \"x\": [1, 2, 3, 4, 5, 6, 7, 8, 9, 10, 11, 12, 13, 14, 15, 16, 17, 18, 19], \"line\": {\"color\": \"rgb(243,145,3)\"}, \"y\": [0.0, 0.0, 0.0, 0.0, 0.0, 0.0, 0.0, 0.0, 0.0, 0.0, 0.0, 0.0, 0.0, 0.0, 0.0, 0.0, 0.0, 0.0, 0.0]}, {\"type\": \"scatter\", \"name\": \"X content\", \"x\": [1, 2, 3, 4, 5, 6, 7, 8, 9, 10, 11, 12, 13, 14, 15, 16, 17, 18, 19], \"line\": {\"color\": \"rgb(171,3,243)\"}, \"y\": [0.0, 0.0, 0.0, 0.0, 0.0, 0.0, 0.0, 0.0, 0.0, 0.0, 0.0, 0.0, 0.0, 0.0, 0.0, 0.0, 0.0, 0.0, 0.0]}], {\"xaxis\": {\"rangeslider\": {}}}, {\"linkText\": \"Export to plot.ly\", \"showLink\": true})});</script>"
      ],
      "text/plain": [
       "<IPython.core.display.HTML object>"
      ]
     },
     "metadata": {},
     "output_type": "display_data"
    },
    {
     "data": {
      "text/html": [
       "<div id=\"06fe9cdb-fade-450b-b65a-615214befe76\" style=\"height: 525px; width: 100%;\" class=\"plotly-graph-div\"></div><script type=\"text/javascript\">require([\"plotly\"], function(Plotly) { window.PLOTLYENV=window.PLOTLYENV || {};window.PLOTLYENV.BASE_URL=\"https://plot.ly\";Plotly.newPlot(\"06fe9cdb-fade-450b-b65a-615214befe76\", [{\"type\": \"scatter\", \"name\": \"AT content\", \"x\": [1, 2, 3, 4, 5, 6, 7, 8, 9, 10, 11, 12, 13, 14, 15, 16, 17, 18, 19, 20, 21, 22, 23, 24, 25, 26, 27, 28, 29, 30, 31, 32, 33, 34], \"line\": {\"color\": \"rgb(3,141,243)\"}, \"y\": [0.0, 0.0, 50.0, 50.0, 50.0, 50.0, 50.0, 50.0, 0.0, 0.0, 0.0, 0.0, 0.0, 0.0, 0.0, 0.0, 0.0, 0.0, 0.0, 0.0, 0.0, 0.0, 0.0, 0.0, 100.0, 100.0, 100.0, 100.0, 0.0, 0.0, 50.0, 50.0, 50.0, 50.0]}, {\"type\": \"scatter\", \"name\": \"GC content\", \"x\": [1, 2, 3, 4, 5, 6, 7, 8, 9, 10, 11, 12, 13, 14, 15, 16, 17, 18, 19, 20, 21, 22, 23, 24, 25, 26, 27, 28, 29, 30, 31, 32, 33, 34], \"line\": {\"color\": \"rgb(64,182,77)\"}, \"y\": [100.0, 100.0, 50.0, 50.0, 50.0, 50.0, 50.0, 50.0, 100.0, 100.0, 0.0, 0.0, 0.0, 0.0, 0.0, 0.0, 0.0, 0.0, 0.0, 0.0, 0.0, 0.0, 0.0, 0.0, 0.0, 0.0, 0.0, 0.0, 100.0, 100.0, 50.0, 50.0, 0.0, 0.0]}, {\"type\": \"scatter\", \"name\": \"N content\", \"x\": [1, 2, 3, 4, 5, 6, 7, 8, 9, 10, 11, 12, 13, 14, 15, 16, 17, 18, 19, 20, 21, 22, 23, 24, 25, 26, 27, 28, 29, 30, 31, 32, 33, 34], \"line\": {\"color\": \"rgb(243,145,3)\"}, \"y\": [0.0, 0.0, 0.0, 0.0, 0.0, 0.0, 0.0, 0.0, 0.0, 0.0, 100.0, 100.0, 100.0, 100.0, 100.0, 100.0, 100.0, 100.0, 100.0, 100.0, 100.0, 100.0, 100.0, 100.0, 0.0, 0.0, 0.0, 0.0, 0.0, 0.0, 0.0, 0.0, 50.0, 50.0]}, {\"type\": \"scatter\", \"name\": \"X content\", \"x\": [1, 2, 3, 4, 5, 6, 7, 8, 9, 10, 11, 12, 13, 14, 15, 16, 17, 18, 19, 20, 21, 22, 23, 24, 25, 26, 27, 28, 29, 30, 31, 32, 33, 34], \"line\": {\"color\": \"rgb(171,3,243)\"}, \"y\": [0.0, 0.0, 0.0, 0.0, 0.0, 0.0, 0.0, 0.0, 0.0, 0.0, 100.0, 100.0, 100.0, 100.0, 100.0, 100.0, 100.0, 100.0, 100.0, 100.0, 100.0, 100.0, 100.0, 100.0, 0.0, 0.0, 0.0, 0.0, 0.0, 0.0, 0.0, 0.0, 50.0, 50.0]}], {\"xaxis\": {\"rangeslider\": {}}}, {\"linkText\": \"Export to plot.ly\", \"showLink\": true})});</script>"
      ],
      "text/plain": [
       "<IPython.core.display.HTML object>"
      ]
     },
     "metadata": {},
     "output_type": "display_data"
    },
    {
     "data": {
      "text/html": [
       "<div id=\"08d60b60-97fc-483e-813b-38adfac47570\" style=\"height: 525px; width: 100%;\" class=\"plotly-graph-div\"></div><script type=\"text/javascript\">require([\"plotly\"], function(Plotly) { window.PLOTLYENV=window.PLOTLYENV || {};window.PLOTLYENV.BASE_URL=\"https://plot.ly\";Plotly.newPlot(\"08d60b60-97fc-483e-813b-38adfac47570\", [{\"type\": \"scatter\", \"name\": \"AT content\", \"x\": [1, 2, 3, 4, 5, 6, 7, 8, 9, 10, 11, 12, 13, 14, 15, 16, 17, 18, 19, 20, 21, 22, 23, 24, 25, 26, 27], \"line\": {\"color\": \"rgb(3,141,243)\"}, \"y\": [100.0, 100.0, 0.0, 0.0, 0.0, 100.0, 0.0, 100.0, 100.0, 0.0, 0.0, 0.0, 0.0, 0.0, 0.0, 0.0, 0.0, 0.0, 0.0, 0.0, 100.0, 100.0, 100.0, 100.0, 0.0, 0.0, 0.0]}, {\"type\": \"scatter\", \"name\": \"GC content\", \"x\": [1, 2, 3, 4, 5, 6, 7, 8, 9, 10, 11, 12, 13, 14, 15, 16, 17, 18, 19, 20, 21, 22, 23, 24, 25, 26, 27], \"line\": {\"color\": \"rgb(64,182,77)\"}, \"y\": [0.0, 0.0, 100.0, 100.0, 100.0, 0.0, 100.0, 0.0, 0.0, 100.0, 100.0, 100.0, 0.0, 0.0, 0.0, 0.0, 0.0, 0.0, 0.0, 0.0, 0.0, 0.0, 0.0, 0.0, 100.0, 100.0, 100.0]}, {\"type\": \"scatter\", \"name\": \"N content\", \"x\": [1, 2, 3, 4, 5, 6, 7, 8, 9, 10, 11, 12, 13, 14, 15, 16, 17, 18, 19, 20, 21, 22, 23, 24, 25, 26, 27], \"line\": {\"color\": \"rgb(243,145,3)\"}, \"y\": [0.0, 0.0, 0.0, 0.0, 0.0, 0.0, 0.0, 0.0, 0.0, 0.0, 0.0, 0.0, 0.0, 0.0, 0.0, 100.0, 100.0, 100.0, 100.0, 100.0, 0.0, 0.0, 0.0, 0.0, 0.0, 0.0, 0.0]}, {\"type\": \"scatter\", \"name\": \"X content\", \"x\": [1, 2, 3, 4, 5, 6, 7, 8, 9, 10, 11, 12, 13, 14, 15, 16, 17, 18, 19, 20, 21, 22, 23, 24, 25, 26, 27], \"line\": {\"color\": \"rgb(171,3,243)\"}, \"y\": [0.0, 0.0, 0.0, 0.0, 0.0, 0.0, 0.0, 0.0, 0.0, 0.0, 0.0, 0.0, 0.0, 0.0, 0.0, 100.0, 100.0, 100.0, 100.0, 100.0, 0.0, 0.0, 0.0, 0.0, 0.0, 0.0, 0.0]}], {\"xaxis\": {\"rangeslider\": {}}}, {\"linkText\": \"Export to plot.ly\", \"showLink\": true})});</script>"
      ],
      "text/plain": [
       "<IPython.core.display.HTML object>"
      ]
     },
     "metadata": {},
     "output_type": "display_data"
    }
   ],
   "source": [
    "#SynMap2GCcontent\n",
    "##Step 1 Importing FASTA files\n",
    "\n",
    "####Import library\n",
    "import os\n",
    "# import plotly.plotly as py\n",
    "# import plotly.graph_objs as go\n",
    "from itertools import chain, repeat\n",
    "import numpy as np\n",
    "from plotly import __version__\n",
    "from plotly.offline import download_plotlyjs, init_notebook_mode, plot, iplot\n",
    "from plotly.graph_objs import Bar, Scatter, Figure, Layout\n",
    "init_notebook_mode(connected=True)\n",
    "import pandas.io.data as web\n",
    "\n",
    "####Global variables \n",
    "header = []\n",
    "nucleotides = []\n",
    "divide_seq_in = 16\n",
    "\n",
    "#File input/path\n",
    "\n",
    "#my_file = open(os.path.expanduser('Plasmodium_chabaudi_chabaudi_strain_AS.faa'))\n",
    "my_file = open(os.path.expanduser('Plasmodium__test.faa'))\n",
    "#my_file = open(os.path.expanduser('Plasmodium_chabaudi_chabaudi_TEST2.faa'))\n",
    "file_contents = my_file.read()\n",
    "file_contents_lower = file_contents.lower()                                                    #Lowercases all strings in file\n",
    "file_contents_lower_split = file_contents_lower.split()                                        #Split the whole file string into words\n",
    "                                                                       \n",
    "\n",
    "##Step 2 Separating the file from a single string into two lists    \n",
    "for i in file_contents_lower_split:                                                            #Divides words into two lists: one with the simbol \">\" and the other one without it\n",
    "    if \">\" in i:\n",
    "        header.append(i)\n",
    "    else:\n",
    "        nucleotides.append(i)\n",
    "\n",
    "def window_size(seq):\n",
    "##Defines a window_size which can be modified in divide_seq_in in global variables\n",
    "    #win_size = int((len(seq)))\n",
    "    win_size = int((len(seq))/divide_seq_in)\n",
    "    #print (win_size)\n",
    "    return win_size\n",
    "\n",
    "\n",
    "def seq_split(seq):\n",
    "##This function divides each sequence into fragments of length determined by the window size\n",
    "    sub_seq_list = []\n",
    "    win_size = window_size(seq)\n",
    "    sub_seq = [seq[nuc:nuc+win_size] for nuc in range(0,len(seq), win_size)]\n",
    "    sub_seq_list.append(sub_seq)\n",
    "    #print(sub_seq_list)\n",
    "    return sub_seq_list \n",
    "\n",
    "#seq_split(nucleotides)\n",
    "\n",
    "\n",
    "\n",
    "def positioner(seq):\n",
    "#Loops for every nucleotide per sequence, counts the number of positions and adds them to the position list\n",
    "    l = 0\n",
    "    position = []\n",
    "    for l in range(0,len(seq)):                                                              \n",
    "        l = l+1\n",
    "        position.append(l)\n",
    "        position_array = np.asarray(position)\n",
    "    #print (position)\n",
    "    return position_array\n",
    "\n",
    "#positioner(nucleotides)\n",
    "        \n",
    "\n",
    "\n",
    "def AT_counter(seq):\n",
    "#Count AT% for the sequence and sequence length in the corresponding windows size\n",
    "    sub_seq = seq_split(seq)\n",
    "    for frag in sub_seq:\n",
    "        frag_list_at = []\n",
    "        frag_lenghts = []\n",
    "        for n in frag:\n",
    "            l = len(n)\n",
    "            frag_lenghts.append(l)\n",
    "            count_a = n.count('t')\n",
    "            count_t = n.count('a')\n",
    "            count_at = count_a+count_t\n",
    "            percent_at = (float(count_at/l))*100\n",
    "            frag_list_at.append(percent_at)\n",
    "            n_at = list(chain.from_iterable([i] * int(round(j * 1)) for i, j in zip(frag_list_at, frag_lenghts)))\n",
    "            percent_array_at = np.asarray(n_at)\n",
    "    return percent_array_at\n",
    "\n",
    "#AT_counter(nucleotides)\n",
    "\n",
    "\n",
    "\n",
    "def GC_counter(seq):\n",
    "#Count GC% for the sequence and sequence length in the corresponding windows size\n",
    "    sub_seq = seq_split(seq)\n",
    "    for frag in sub_seq:\n",
    "        frag_list_gc = []\n",
    "        frag_lenghts = []\n",
    "        for n in frag:\n",
    "            l = len(n)\n",
    "            frag_lenghts.append(l)\n",
    "            count_g = n.count('g')\n",
    "            count_c = n.count('c')\n",
    "            count_gc = count_g+count_c\n",
    "            percent_gc = (float(count_gc/l))*100\n",
    "            frag_list_gc.append(percent_gc)\n",
    "            n_gc = list(chain.from_iterable([i] * int(round(j * 1)) for i, j in zip(frag_list_gc, frag_lenghts)))\n",
    "            percent_array_gc = np.asarray(n_gc)\n",
    "    return percent_array_gc\n",
    "\n",
    "#GC_counter(nucleotides)\n",
    "\n",
    "\n",
    "\n",
    "def N_counter(seq):\n",
    "#Count N% for the sequence and sequence length in the corresponding windows size\n",
    "    sub_seq = seq_split(seq)\n",
    "    for frag in sub_seq:\n",
    "        frag_list_n = []\n",
    "        frag_lenghts = []\n",
    "        for n in frag:\n",
    "            l = len(n)\n",
    "            frag_lenghts.append(l)\n",
    "            count_n = n.count('n')\n",
    "            percent_n = (float(count_n/l))*100\n",
    "            frag_list_n.append(percent_n)\n",
    "            n_n = list(chain.from_iterable([i] * int(round(j * 1)) for i, j in zip(frag_list_n, frag_lenghts)))\n",
    "            percent_array_n = np.asarray(n_n)\n",
    "    return percent_array_n\n",
    "\n",
    "#N_counter(nucleotides)\n",
    "\n",
    "\n",
    "\n",
    "def X_counter(seq):\n",
    "#Count X% for the sequence and sequence length in the corresponding windows size\n",
    "    sub_seq = seq_split(seq)\n",
    "    for frag in sub_seq:\n",
    "        frag_list_x = []\n",
    "        frag_lenghts = []\n",
    "        for n in frag:\n",
    "            l = len(n)\n",
    "            frag_lenghts.append(l)\n",
    "            count_x = n.count('n')\n",
    "            percent_x = (float(count_x/l))*100\n",
    "            frag_list_x.append(percent_x)\n",
    "            n_x = list(chain.from_iterable([i] * int(round(j * 1)) for i, j in zip(frag_list_x, frag_lenghts)))\n",
    "            percent_array_x = np.asarray(n_x)\n",
    "    return percent_array_x\n",
    "\n",
    "#X_counter(nucleotides)\n",
    "\n",
    "\n",
    "\n",
    "def plotly(nucleo):\n",
    "#This function builds a plot using the calculated% for the corresponding window position, \n",
    "#creates different tracks for each %,\n",
    "#and allows to focus on a given position range\n",
    "    for seq in nucleotides:\n",
    "        #print(seq)\n",
    "        AT_cnt_arr = AT_counter(seq)\n",
    "        GC_cnt_arr = GC_counter(seq)\n",
    "        N_cnt_arr = N_counter(seq)\n",
    "        X_cnt_arr = X_counter(seq)\n",
    "        pos_arr = positioner(seq)\n",
    "        \n",
    "        AT_trace = Scatter(\n",
    "        y = AT_cnt_arr,\n",
    "        x = pos_arr,\n",
    "        name='AT content',    \n",
    "        line = dict(color = ('rgb(3,141,243)'))) #Blue\n",
    "        \n",
    "        GC_trace = Scatter(\n",
    "        y = GC_cnt_arr,\n",
    "        x = pos_arr,\n",
    "        name='GC content',\n",
    "        line = dict(color = ('rgb(64,182,77)'))) #Green\n",
    "        \n",
    "        N_trace = Scatter(\n",
    "        y = N_cnt_arr,\n",
    "        x = pos_arr,\n",
    "        name='N content',\n",
    "        line = dict(color = ('rgb(243,145,3)'))) #Orange\n",
    "        \n",
    "        X_trace = Scatter(\n",
    "        y = X_cnt_arr,\n",
    "        x = pos_arr,\n",
    "        name='X content',\n",
    "        line = dict(color = ('rgb(171,3,243)'))) #Purple\n",
    "        \n",
    "        data = [AT_trace, GC_trace, N_trace, X_trace]   \n",
    "\n",
    "        layout = dict(xaxis=dict(rangeslider=dict()))\n",
    "        fig = dict(data=data, layout=layout)\n",
    "        iplot(fig)\n",
    "\n",
    "    return\n",
    "\n",
    "#counter(nucleotides)\n",
    "#positioner(nucleotides)\n",
    "plotly(nucleotides)\n",
    "\n",
    "\n",
    "    "
   ]
  },
  {
   "cell_type": "code",
   "execution_count": null,
   "metadata": {
    "collapsed": true
   },
   "outputs": [],
   "source": []
  }
 ],
 "metadata": {
  "anaconda-cloud": {},
  "kernelspec": {
   "display_name": "Python [conda env:py35]",
   "language": "python",
   "name": "conda-env-py35-py"
  },
  "language_info": {
   "codemirror_mode": {
    "name": "ipython",
    "version": 3
   },
   "file_extension": ".py",
   "mimetype": "text/x-python",
   "name": "python",
   "nbconvert_exporter": "python",
   "pygments_lexer": "ipython3",
   "version": "3.5.2"
  }
 },
 "nbformat": 4,
 "nbformat_minor": 1
}
