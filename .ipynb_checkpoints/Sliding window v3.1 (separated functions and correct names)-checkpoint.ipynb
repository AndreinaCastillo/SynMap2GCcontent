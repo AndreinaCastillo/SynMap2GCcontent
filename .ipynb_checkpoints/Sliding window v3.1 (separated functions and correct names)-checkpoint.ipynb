{
 "cells": [
  {
   "cell_type": "code",
   "execution_count": 51,
   "metadata": {
    "collapsed": false
   },
   "outputs": [
    {
     "data": {
      "text/html": [
       "<script>requirejs.config({paths: { 'plotly': ['https://cdn.plot.ly/plotly-latest.min']},});if(!window.Plotly) {{require(['plotly'],function(plotly) {window.Plotly=plotly;});}}</script>"
      ],
      "text/plain": [
       "<IPython.core.display.HTML object>"
      ]
     },
     "metadata": {},
     "output_type": "display_data"
    }
   ],
   "source": [
    "#SynMap2GCcontent\n",
    "##Step 1 Importing FASTA files\n",
    "\n",
    "####Import library\n",
    "import fileinput\n",
    "import os, sys\n",
    "from itertools import islice\n",
    "from itertools import chain, repeat\n",
    "import numpy as np\n",
    "from plotly import __version__\n",
    "from plotly.offline import download_plotlyjs, init_notebook_mode, plot, iplot\n",
    "from plotly.graph_objs import Bar, Scatter, Figure, Layout\n",
    "init_notebook_mode(connected=True)"
   ]
  },
  {
   "cell_type": "code",
   "execution_count": 52,
   "metadata": {
    "collapsed": true
   },
   "outputs": [],
   "source": [
    "####Global variable \n",
    "window_size = 300"
   ]
  },
  {
   "cell_type": "code",
   "execution_count": 53,
   "metadata": {
    "collapsed": false
   },
   "outputs": [],
   "source": [
    "def lines_to_contigs(lines):\n",
    "    current_contig_name = None\n",
    "    current_contig_sequence = []    \n",
    "    for line in lines: \n",
    "        if line.startswith(\">\"):\n",
    "            if current_contig_name:\n",
    "                contig_sequence_string = \"\".join(current_contig_sequence)\n",
    "                #contig_sequence_string = contig_sequence_string.lower()\n",
    "                contig_dictionary = {\"name\" : current_contig_name, \"sequence\" : contig_sequence_string}\n",
    "                yield contig_dictionary\n",
    "                current_contig_sequence = []\n",
    "            current_contig_name = line[1:].strip() \n",
    "        else:  \n",
    "            current_contig_sequence.append(line.strip())"
   ]
  },
  {
   "cell_type": "code",
   "execution_count": 54,
   "metadata": {
    "collapsed": true
   },
   "outputs": [],
   "source": [
    "def sequence_lower_filter(contigs_iterator):\n",
    "    for contig in contigs_iterator:\n",
    "        yield {\n",
    "            'name': contig['name'], \n",
    "            'sequence': contig['sequence'].lower()\n",
    "        }"
   ]
  },
  {
   "cell_type": "code",
   "execution_count": 55,
   "metadata": {
    "collapsed": false
   },
   "outputs": [],
   "source": [
    "def ego_trip_filter(contigs_iterator):\n",
    "    for contig in contigs_iterator:\n",
    "        yield {\n",
    "            'name': 'ANDREINA!!!' + contig['name'],\n",
    "            'sequence': contig['sequence']\n",
    "        }"
   ]
  },
  {
   "cell_type": "code",
   "execution_count": 56,
   "metadata": {
    "collapsed": false
   },
   "outputs": [],
   "source": [
    "def window(seq, window_size):\n",
    "#Creates a sliding window rolling on the sequence\n",
    "    print('w')\n",
    "    result = tuple(islice(seq, window_size))\n",
    "    if len(result) == window_size:\n",
    "        yield list(result)    \n",
    "    for elem in seq:\n",
    "        result = result[1:] + (elem,)\n",
    "        yield list(result)\n",
    "    "
   ]
  },
  {
   "cell_type": "code",
   "execution_count": 57,
   "metadata": {
    "collapsed": false
   },
   "outputs": [],
   "source": [
    "def AT_counter(seq_window):\n",
    "#Performs a rolling calculation of AT% for the sequence in the corresponding sequence segment\n",
    "    print('a')\n",
    "    frag_list_at = []\n",
    "    frag_lenghts = []\n",
    "    for n in seq_window:    \n",
    "        l = len(n)\n",
    "        frag_lenghts.append(l)\n",
    "        count_a = n.count('a')\n",
    "        count_t = n.count('t')\n",
    "        count_at = count_a+count_t\n",
    "        percent_at = (float(count_at/l))*100\n",
    "        frag_list_at.append(percent_at)\n",
    "        percent_array_at = np.asarray(frag_list_at)\n",
    "    return percent_array_at"
   ]
  },
  {
   "cell_type": "code",
   "execution_count": 58,
   "metadata": {
    "collapsed": true
   },
   "outputs": [],
   "source": [
    "def GC_counter(seq_window):\n",
    "#Performs a rolling calculation of GC% for the sequence in the corresponding sequence segment\n",
    "    print('g')\n",
    "    frag_list_gc = []\n",
    "    frag_lenghts = []\n",
    "    for n in seq_window:\n",
    "        l = len(n)\n",
    "        frag_lenghts.append(l)\n",
    "        count_g = n.count('g')\n",
    "        count_c = n.count('c')\n",
    "        count_gc = count_g+count_c\n",
    "        percent_gc = (float(count_gc/l))*100\n",
    "        frag_list_gc.append(percent_gc)\n",
    "        percent_array_gc = np.asarray(frag_list_gc)\n",
    "    return percent_array_gc"
   ]
  },
  {
   "cell_type": "code",
   "execution_count": 59,
   "metadata": {
    "collapsed": true
   },
   "outputs": [],
   "source": [
    "def X_counter(seq_window):\n",
    "#Performs a rolling calculation of X% for the sequence in the corresponding sequence segment\n",
    "    print('x')\n",
    "    frag_list_x = []\n",
    "    frag_lenghts = []\n",
    "    for n in seq_window:\n",
    "        l = len(n)\n",
    "        frag_lenghts.append(l)\n",
    "        count_x = n.count('x')\n",
    "        percent_x = (float(count_x/l))*100\n",
    "        frag_list_x.append(percent_x)\n",
    "        percent_array_x = np.asarray(frag_list_x)\n",
    "    return percent_array_x"
   ]
  },
  {
   "cell_type": "code",
   "execution_count": 60,
   "metadata": {
    "collapsed": true
   },
   "outputs": [],
   "source": [
    "def N_counter(seq_window):\n",
    "#Performs a rolling calculation of N% for the sequence in the corresponding sequence segment\n",
    "    print('n')\n",
    "    frag_list_n = []\n",
    "    frag_lenghts = []\n",
    "    for n in seq_window:\n",
    "        l = len(n)\n",
    "        frag_lenghts.append(l)\n",
    "        count_n = n.count('n')\n",
    "        percent_n = (float(count_n/l))*100\n",
    "        frag_list_n.append(percent_n)\n",
    "        percent_array_n = np.asarray(frag_list_n)\n",
    "    return percent_array_n"
   ]
  },
  {
   "cell_type": "code",
   "execution_count": 61,
   "metadata": {
    "collapsed": true
   },
   "outputs": [],
   "source": [
    "def positioner(seq):\n",
    "#Loops for every nucleotide per sequence, counts the number of positions and adds them to the position list\n",
    "    print('p')\n",
    "    l = 0\n",
    "    position = []\n",
    "    for l in range(0,len(seq)):                                                              \n",
    "        l = l+1\n",
    "        position.append(l)\n",
    "        position_array = np.asarray(position)\n",
    "    return position_array"
   ]
  },
  {
   "cell_type": "code",
   "execution_count": 62,
   "metadata": {
    "collapsed": true
   },
   "outputs": [],
   "source": [
    "####File input/path\n",
    "#my_file = open(os.path.expanduser('Plasmodium_chabaudi_chabaudi_strain_AS.faa'))\n",
    "#my_file = open(os.path.expanduser('Plasmodium__test.faa'))\n",
    "#my_file = open(os.path.expanduser('Plasmodium_chabaudi_chabaudi_TEST2.faa'))\n",
    "fasta_line_source = fileinput.FileInput(os.path.expanduser('Plasmodium_falciparum_IT.faa'))\n",
    "#fasta_line_source = fileinput.FileInput(os.path.expanduser('Plasmodium_inui_San_Antonio_test4.faa'))"
   ]
  },
  {
   "cell_type": "code",
   "execution_count": 63,
   "metadata": {
    "collapsed": false
   },
   "outputs": [],
   "source": [
    "USER_EGO_BIG = False\n",
    "\n",
    "nucleotides = fasta_line_source\n",
    "nucleotides = lines_to_contigs(nucleotides)\n",
    "if USER_EGO_BIG:\n",
    "    nucleotides = ego_trip_filter(nucleotides)\n",
    "nucleotides = sequence_lower_filter(nucleotides)"
   ]
  },
  {
   "cell_type": "code",
   "execution_count": null,
   "metadata": {
    "collapsed": false
   },
   "outputs": [
    {
     "name": "stdout",
     "output_type": "stream",
     "text": [
      ".\n",
      "w\n"
     ]
    }
   ],
   "source": [
    "def plotly(nucleos):\n",
    "    counter = 0\n",
    "    for contig in nucleos:\n",
    "        print('.')\n",
    "        \n",
    "        name = contig[\"name\"]\n",
    "        seq = contig[\"sequence\"]\n",
    "        \n",
    "        AT_cnt_arr = AT_counter(window(seq, window_size))        \n",
    "        GC_cnt_arr = GC_counter(window(seq, window_size))\n",
    "        N_cnt_arr = N_counter(window(seq, window_size))\n",
    "        X_cnt_arr = X_counter(window(seq, window_size))\n",
    "        pos_arr = positioner(seq)\n",
    "               \n",
    "        AT_trace = Scatter(\n",
    "        y = AT_cnt_arr,\n",
    "        x = pos_arr,\n",
    "        name='AT content',\n",
    "        line = dict(color = ('rgb(3,141,243)'))) #Blue\n",
    "        \n",
    "        GC_trace = Scatter(\n",
    "        y = GC_cnt_arr,\n",
    "        x = pos_arr,\n",
    "        name='GC content',\n",
    "        line = dict(color = ('rgb(64,182,77)'))) #Green\n",
    "               \n",
    "        N_trace = Scatter(\n",
    "        y = N_cnt_arr,\n",
    "        x = pos_arr,\n",
    "        name='N content',\n",
    "        line = dict(color = ('rgb(243,145,3)'))) #Orange\n",
    "        \n",
    "        X_trace = Scatter(\n",
    "        y = X_cnt_arr,\n",
    "        x = pos_arr,\n",
    "        name='X content',\n",
    "        line = dict(color = ('rgb(171,3,243)'))) #Purple\n",
    "        \n",
    "        data = [AT_trace, GC_trace, N_trace, X_trace]  \n",
    "        \n",
    "        layout = dict(title='Sliding window for '+ name,xaxis=dict(title='Window iteration',rangeslider=dict()),yaxis=dict(title='Percentage (%)'))\n",
    "        fig = dict(data=data, layout=layout)\n",
    "        iplot(fig)\n",
    "    \n",
    "    return\n",
    "\n",
    "    \n",
    "plotly(nucleotides)"
   ]
  },
  {
   "cell_type": "code",
   "execution_count": null,
   "metadata": {
    "collapsed": true
   },
   "outputs": [],
   "source": []
  },
  {
   "cell_type": "code",
   "execution_count": null,
   "metadata": {
    "collapsed": true
   },
   "outputs": [],
   "source": []
  }
 ],
 "metadata": {
  "anaconda-cloud": {},
  "kernelspec": {
   "display_name": "Python [conda env:py35]",
   "language": "python",
   "name": "conda-env-py35-py"
  },
  "language_info": {
   "codemirror_mode": {
    "name": "ipython",
    "version": 3
   },
   "file_extension": ".py",
   "mimetype": "text/x-python",
   "name": "python",
   "nbconvert_exporter": "python",
   "pygments_lexer": "ipython3",
   "version": "3.5.2"
  }
 },
 "nbformat": 4,
 "nbformat_minor": 1
}
