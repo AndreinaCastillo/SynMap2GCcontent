{
 "cells": [
  {
   "cell_type": "code",
   "execution_count": 142,
   "metadata": {
    "collapsed": false
   },
   "outputs": [
    {
     "data": {
      "text/html": [
       "<script>requirejs.config({paths: { 'plotly': ['https://cdn.plot.ly/plotly-latest.min']},});if(!window.Plotly) {{require(['plotly'],function(plotly) {window.Plotly=plotly;});}}</script>"
      ],
      "text/plain": [
       "<IPython.core.display.HTML object>"
      ]
     },
     "metadata": {},
     "output_type": "display_data"
    }
   ],
   "source": [
    "#SynMap2GCcontent\n",
    "##Step 1 Importing FASTA files\n",
    "\n",
    "####Import library\n",
    "import fileinput\n",
    "import os, sys\n",
    "import collections\n",
    "import itertools\n",
    "from itertools import islice\n",
    "#from itertools import chain, repeat\n",
    "import pprint\n",
    "import numpy as np\n",
    "from plotly import __version__\n",
    "from plotly.offline import download_plotlyjs, init_notebook_mode, plot, iplot\n",
    "from plotly.graph_objs import Bar, Scatter, Figure, Layout\n",
    "init_notebook_mode(connected=True)"
   ]
  },
  {
   "cell_type": "code",
   "execution_count": 143,
   "metadata": {
    "collapsed": false
   },
   "outputs": [],
   "source": [
    "###File input/path\n",
    "#my_file = open(os.path.expanduser('Plasmodium_chabaudi_chabaudi_strain_AS.faa'))\n",
    "#my_file = open(os.path.expanduser('Plasmodium__test.faa'))\n",
    "#my_file = open(os.path.expanduser('Plasmodium_chabaudi_chabaudi_TEST2.faa'))\n",
    "#fasta_line_source = fileinput.FileInput(os.path.expanduser('Plasmodium_falciparum_IT.faa'))\n",
    "fasta_line_source = fileinput.FileInput(os.path.expanduser('Plasmodium_inui_San_Antonio_test5.faa'))"
   ]
  },
  {
   "cell_type": "code",
   "execution_count": 144,
   "metadata": {
    "collapsed": true
   },
   "outputs": [],
   "source": [
    "####Global variable \n",
    "window_size = 4"
   ]
  },
  {
   "cell_type": "code",
   "execution_count": 145,
   "metadata": {
    "collapsed": false
   },
   "outputs": [],
   "source": [
    "def lines_to_contigs(lines):\n",
    "    current_contig_name = None\n",
    "    current_contig_sequence = []    \n",
    "    for line in lines:\n",
    "        if line.startswith(\">\"):\n",
    "            if current_contig_name:\n",
    "                contig_sequence_string = \"\".join(current_contig_sequence)\n",
    "                contig_sequence_string = contig_sequence_string.upper( )\n",
    "                ##print(contig_sequence_string)\n",
    "                #print(current_contig_name)\n",
    "                contig_dictionary = {\"name\" : current_contig_name, \"sequence\" : contig_sequence_string}\n",
    "                yield contig_dictionary\n",
    "                current_contig_sequence = []\n",
    "            current_contig_name = line[1:].strip() \n",
    "            #print(current_contig_name)\n",
    "        else:  \n",
    "            current_contig_sequence.append(line.strip())\n",
    "\n",
    "        \n",
    "# generator_lines_to_contigs = lines_to_contigs(fasta_line_source)\n",
    "# for i in generator_lines_to_contigs:\n",
    "#     print(i)"
   ]
  },
  {
   "cell_type": "code",
   "execution_count": 146,
   "metadata": {
    "collapsed": true
   },
   "outputs": [],
   "source": [
    "def sequence_split(contigs_iterator):\n",
    "    for contig in contigs_iterator:\n",
    "        yield {'name': contig['name'], 'sequence': tuple(contig['sequence'])}\n",
    "\n",
    "# nucleotides2 = sequence_split(lines_to_contigs(fasta_line_source))\n",
    "# for i in nucleotides2:\n",
    "#     print(i)"
   ]
  },
  {
   "cell_type": "code",
   "execution_count": 147,
   "metadata": {
    "collapsed": true
   },
   "outputs": [],
   "source": [
    "def group_nucleotides(nucleotide_seqs):\n",
    "    nucleotide_group_map = {'A': 'AT','T': 'AT','G': 'GC','C': 'GC','N': 'N','X': 'X'}\n",
    "    for nucleotide_seq in nucleotide_seqs:\n",
    "        nucleotide_groups = (nucleotide_group_map[base] for base in nucleotide_seq['sequence'])\n",
    "        yield {'name': nucleotide_seq['name'], 'sequence': nucleotide_groups}\n",
    "\n",
    "# nucleotides_seq = group_nucleotides(sequence_split(lines_to_contigs(fasta_line_source)))\n",
    "# for i in nucleotides_seq:\n",
    "#     print(list(islice(i['sequence'], 10)))"
   ]
  },
  {
   "cell_type": "code",
   "execution_count": 148,
   "metadata": {
    "collapsed": false
   },
   "outputs": [],
   "source": [
    "def sliding_percentages(nucleos, window_size, unique_nucleotides):\n",
    "     for nucleo in nucleos:\n",
    "        #yield {'name': nucleo['name'],'sequence': nucleo['sequence']}\n",
    "        sliding_window = collections.deque(itertools.islice(nucleo['sequence'], window_size), maxlen=window_size)\n",
    "        #print(sliding_window)\n",
    "        counter = collections.Counter({nucleotides: 0 for nucleotides in unique_nucleotides})   \n",
    "        #print(counter)\n",
    "        counter.update(sliding_window)\n",
    "        #print(counter)\n",
    "        window_percentage = {nucleotides: counter / window_size for nucleotides, counter in counter.items()}\n",
    "        #print(window_percentage)\n",
    "        yield window_percentage\n",
    "    \n",
    "        #for base in itertools.islice(nucleo['sequence'], window_size, None):\n",
    "        for base in nucleo['sequence']:\n",
    "            #print(base)\n",
    "            itertools.islice(nucleo['sequence'], window_size, None)\n",
    "            trailing_nucleotide = sliding_window.popleft()\n",
    "            #print(trailing_nucleotide)\n",
    "            counter.subtract([trailing_nucleotide])\n",
    "            #print(counter)\n",
    "            sliding_window.append(base)\n",
    "            #print(sliding_window)\n",
    "            counter.update([base])\n",
    "            #print(counter)\n",
    "            window_percentage = {nucleotides: counter / window_size for nucleotides, counter in counter.items()}\n",
    "            #print(window_percentage)\n",
    "            yield window_percentage\n",
    "    \n",
    "nucleotides3 = sliding_percentages(group_nucleotides(sequence_split(lines_to_contigs(fasta_line_source))),window_size,('AT', 'GC', 'N', 'X'))\n",
    "\n",
    "\n",
    "AT = np.asarray([window_percentage['AT'] for window_percentage in nucleotides3])\n",
    "#print(AT)\n",
    "GC = np.asarray([window_percentage['GC'] for window_percentage in nucleotides3])\n",
    "N = np.asarray([window_percentage['N'] for window_percentage in nucleotides3])\n",
    "X = np.asarray([window_percentage['X'] for window_percentage in nucleotides3])\n",
    "\n"
   ]
  },
  {
   "cell_type": "code",
   "execution_count": 149,
   "metadata": {
    "collapsed": true
   },
   "outputs": [],
   "source": [
    "def positioner(seq):\n",
    "#Loops for every nucleotide per sequence, counts the number of positions and adds them to the position list\n",
    "    l = 0\n",
    "    position = []\n",
    "    for l in range(0,len(seq)):                                                              \n",
    "        l = l+1\n",
    "        position.append(l)\n",
    "        position_array = np.asarray(position)\n",
    "    return position_array"
   ]
  },
  {
   "cell_type": "code",
   "execution_count": 150,
   "metadata": {
    "collapsed": false
   },
   "outputs": [
    {
     "name": "stdout",
     "output_type": "stream",
     "text": [
      "<generator object sliding_percentages at 0x11a8acb48>\n"
     ]
    }
   ],
   "source": [
    "def plotly(nucleos):\n",
    "    AT_cnt_arr = sliding_percentages(nucleos, window_size, ('AT', 'GC', 'N', 'X'))\n",
    "    print(AT_cnt_arr)\n",
    "    for contig in nucleos:\n",
    "        name = contig[\"name\"]\n",
    "        seq = contig[\"sequence\"]\n",
    "        \n",
    "        AT_cnt_arr = sliding_percentages(nucleos, window_size, unique_nucleotides)\n",
    "        print(AT_cnt_arr)\n",
    "        \n",
    "        \n",
    "        pos_arr = positioner(seq)\n",
    "               \n",
    "        AT_trace = Scatter(\n",
    "        y = AT_cnt_arr,\n",
    "        x = pos_arr,\n",
    "        name='AT content',\n",
    "        line = dict(color = ('rgb(3,141,243)'))) #Blue\n",
    "               \n",
    "        data = [AT_trace]  \n",
    "\n",
    "#         layout = dict(title='Sliding window for '+ name,xaxis=dict(title='Window iteration',rangeslider=dict()),yaxis=dict(title='Percentage (%)'))\n",
    "#         fig = dict(data=data, layout=layout)\n",
    "#         iplot(fig)\n",
    "    \n",
    "    return\n",
    "\n",
    "plotly(nucleotides3)"
   ]
  },
  {
   "cell_type": "code",
   "execution_count": null,
   "metadata": {
    "collapsed": true
   },
   "outputs": [],
   "source": []
  },
  {
   "cell_type": "code",
   "execution_count": null,
   "metadata": {
    "collapsed": true
   },
   "outputs": [],
   "source": []
  }
 ],
 "metadata": {
  "anaconda-cloud": {},
  "kernelspec": {
   "display_name": "Python [conda env:py35]",
   "language": "python",
   "name": "conda-env-py35-py"
  },
  "language_info": {
   "codemirror_mode": {
    "name": "ipython",
    "version": 3
   },
   "file_extension": ".py",
   "mimetype": "text/x-python",
   "name": "python",
   "nbconvert_exporter": "python",
   "pygments_lexer": "ipython3",
   "version": "3.5.2"
  }
 },
 "nbformat": 4,
 "nbformat_minor": 1
}
