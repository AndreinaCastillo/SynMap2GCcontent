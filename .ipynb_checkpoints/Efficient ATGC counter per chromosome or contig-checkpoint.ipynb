{
 "cells": [
  {
   "cell_type": "code",
   "execution_count": 1,
   "metadata": {
    "collapsed": false
   },
   "outputs": [
    {
     "data": {
      "text/html": [
       "<script>requirejs.config({paths: { 'plotly': ['https://cdn.plot.ly/plotly-latest.min']},});if(!window.Plotly) {{require(['plotly'],function(plotly) {window.Plotly=plotly;});}}</script>"
      ],
      "text/plain": [
       "<IPython.core.display.HTML object>"
      ]
     },
     "metadata": {},
     "output_type": "display_data"
    }
   ],
   "source": [
    "####Import library\n",
    "import fileinput\n",
    "import os, sys\n",
    "import collections\n",
    "import itertools\n",
    "from operator import itemgetter\n",
    "from itertools import islice\n",
    "from itertools import groupby\n",
    "import numpy as np\n",
    "from plotly import __version__\n",
    "from plotly.offline import download_plotlyjs, init_notebook_mode, plot, iplot\n",
    "from plotly.graph_objs import Bar, Scatter, Figure, Layout\n",
    "init_notebook_mode(connected=True)"
   ]
  },
  {
   "cell_type": "code",
   "execution_count": 2,
   "metadata": {
    "collapsed": true
   },
   "outputs": [],
   "source": [
    "###File input/path\n",
    "\n",
    "#fasta_line_source = fileinput.FileInput(os.path.expanduser('Plasmodium_chabaudi_chabaudi_strain_AS.faa'))\n",
    "#fasta_line_source = fileinput.FileInput(os.path.expanduser('Plasmodium_chabaudi_chabaudi_TEST2.faa'))\n",
    "fasta_line_source = fileinput.FileInput(os.path.expanduser('Plasmodium_falciparum_IT.faa'))\n",
    "#fasta_line_source = fileinput.FileInput(os.path.expanduser('contigSrtPlasmoDBreichenowiCDC'))\n",
    "#fasta_line_source = fileinput.FileInput(os.path.expanduser('contigSrtPlasmoDBberghei'))\n",
    "#fasta_line_source = fileinput.FileInput(os.path.expanduser('test'))\n",
    "#fasta_line_source = fileinput.FileInput(os.path.expanduser('Plasmodium_inui_San_Antonio_test5.faa'))"
   ]
  },
  {
   "cell_type": "code",
   "execution_count": 3,
   "metadata": {
    "collapsed": true
   },
   "outputs": [],
   "source": [
    "####Global variable \n",
    "window_size = 3000"
   ]
  },
  {
   "cell_type": "code",
   "execution_count": 4,
   "metadata": {
    "collapsed": true
   },
   "outputs": [],
   "source": [
    "def lines_to_contigs(lines):\n",
    "    contig_dictionary = None\n",
    "    current_contig_name = None    \n",
    "    current_contig_sequence = []\n",
    "    lines_with_eof_token = itertools.chain(lines, ['>EOF'])\n",
    "    for line in lines_with_eof_token:\n",
    "        if line.startswith(\">\"):\n",
    "            #print('line: {}'.format(line))\n",
    "            if current_contig_name:\n",
    "                #print(line)\n",
    "                #print('current_contig_name: {}'.format(current_contig_name))\n",
    "                contig_sequence_string = \"\".join(current_contig_sequence)\n",
    "                contig_sequence_string = contig_sequence_string.upper( )\n",
    "                contig_dictionary = {\"name\" : current_contig_name, \"sequence\" : contig_sequence_string}\n",
    "                yield contig_dictionary\n",
    "                current_contig_sequence = []\n",
    "            current_contig_name = line[1:].strip()\n",
    "        else:  \n",
    "            current_contig_sequence.append(line.strip())\n",
    "            \n",
    "# generator_lines_to_contigs = lines_to_contigs(fasta_line_source)\n",
    "# for i in generator_lines_to_contigs:\n",
    "#     print(i)"
   ]
  },
  {
   "cell_type": "code",
   "execution_count": 5,
   "metadata": {
    "collapsed": true
   },
   "outputs": [],
   "source": [
    "def sequence_split(contigs_iterator):\n",
    "    for contig in contigs_iterator:\n",
    "        yield {'name': contig['name'], 'sequence': tuple(contig['sequence'])}\n",
    "\n",
    "# nucleotides2 = sequence_split(lines_to_contigs(fasta_line_source))\n",
    "# for i in nucleotides2:\n",
    "#     print(i)"
   ]
  },
  {
   "cell_type": "code",
   "execution_count": 6,
   "metadata": {
    "collapsed": true
   },
   "outputs": [],
   "source": [
    "def group_nucleotides(nucleotide_seqs):\n",
    "    nucleotide_group_map = {'A': 'AT','T': 'AT','G': 'GC','C': 'GC','N': 'N','X': 'X'}\n",
    "    for nucleotide_seq in nucleotide_seqs:\n",
    "        nucleotide_groups = (nucleotide_group_map[base] for base in nucleotide_seq['sequence'])\n",
    "        yield {'name': nucleotide_seq['name'], 'sequence': nucleotide_groups}\n",
    "\n",
    "# nucleotides_seq = group_nucleotides(sequence_split(lines_to_contigs(fasta_line_source)))\n",
    "# for i in nucleotides_seq:\n",
    "#     print(list(islice(i['sequence'], 10)))"
   ]
  },
  {
   "cell_type": "code",
   "execution_count": 7,
   "metadata": {
    "collapsed": true
   },
   "outputs": [],
   "source": [
    "def sliding_percentages(nucleos, window_size, unique_nucleotides):\n",
    "    for nucleo in nucleos:\n",
    "        sliding_window = collections.deque(itertools.islice(nucleo['sequence'], window_size), maxlen=window_size)\n",
    "        counter = collections.Counter({nucleotides: 0 for nucleotides in unique_nucleotides})   \n",
    "        counter.update(sliding_window)\n",
    "        window_percentage = {nucleotides: (counter / window_size)*100 for nucleotides, counter in counter.items()}\n",
    "        \n",
    "        for base in nucleo['sequence']:\n",
    "            itertools.islice(nucleo['sequence'], window_size, None)\n",
    "            trailing_nucleotide = sliding_window.popleft()\n",
    "            counter.subtract([trailing_nucleotide])\n",
    "            sliding_window.append(base)\n",
    "            counter.update([base])\n",
    "            window_percentage = {nucleotides: (counter / window_size)*100 for nucleotides, counter in counter.items()}\n",
    "            yield {'name': nucleo['name'], 'sequence': window_percentage}\n",
    "        \n",
    "nucleotides4 = sliding_percentages(group_nucleotides(sequence_split(lines_to_contigs(fasta_line_source))),window_size,('AT', 'GC', 'N', 'X'))\n",
    "# for i in nucleotides4:\n",
    "#     print(i)"
   ]
  },
  {
   "cell_type": "code",
   "execution_count": null,
   "metadata": {
    "collapsed": false
   },
   "outputs": [],
   "source": [
    "def contig_list_creator(nucleos):    \n",
    "    iterator_list = []\n",
    "    for nucleo in nucleos:\n",
    "        dictio = {\"name\": nucleo[\"name\"],\"sequence\": nucleo[\"sequence\"]} \n",
    "        name = nucleo[\"name\"]\n",
    "\n",
    "        iterator_list.append(dictio.copy())\n",
    "    \n",
    "    sorted_iterator_list = sorted(iterator_list, key=itemgetter(\"name\"))\n",
    "    for key, group in itertools.groupby(sorted_iterator_list, key=lambda x:x[\"name\"]):\n",
    "        contig_iterator_list = list(group)\n",
    "        \n",
    "        new_AT = []\n",
    "        new_GC = []\n",
    "        new_N = []\n",
    "        new_X = []\n",
    "        name = key\n",
    "                \n",
    "        for contig in contig_iterator_list:\n",
    "            AT = contig[\"sequence\"][\"AT\"] \n",
    "            GC = contig[\"sequence\"][\"GC\"]\n",
    "            N = contig[\"sequence\"][\"N\"]\n",
    "            X = contig[\"sequence\"][\"X\"]\n",
    "                        \n",
    "            new_AT.append(AT)\n",
    "            new_GC.append(GC)\n",
    "            new_N.append(N)\n",
    "            new_X.append(X)\n",
    "            \n",
    "        position_new_AT = np.asarray(new_AT)\n",
    "        position_new_GC = np.asarray(new_GC)\n",
    "        position_new_N = np.asarray(new_N)\n",
    "        position_new_X = np.asarray(new_X)\n",
    "    \n",
    "        AT_trace = Scatter(\n",
    "            y = position_new_AT,\n",
    "            name='AT content',\n",
    "            line = dict(color = ('rgb(3,141,243)'))) #Blue\n",
    "\n",
    "        GC_trace = Scatter(\n",
    "            y = position_new_GC,\n",
    "            name='GC content',\n",
    "            line = dict(color = ('rgb(64,182,77)'))) #Green\n",
    "\n",
    "        N_trace = Scatter(\n",
    "            y = position_new_N,\n",
    "            name='N content',\n",
    "            line = dict(color = ('rgb(243,145,3)'))) #Orange\n",
    "\n",
    "        X_trace = Scatter(\n",
    "            y = position_new_X,\n",
    "            name='X content',\n",
    "            line = dict(color = ('rgb(171,3,243)'))) #Purple\n",
    "\n",
    "        data = [AT_trace, GC_trace, N_trace, X_trace]  \n",
    "        \n",
    "        layout = dict(title='Sliding window analysis for '+ name,xaxis=dict(title='Iteration of sliding window (size=' + str(window_size) +') across length of sequence',rangeslider=dict()),yaxis=dict(title='Percentage (%)'))\n",
    "        fig = dict(data=data, layout=layout)\n",
    "        iplot(fig)\n",
    "\n",
    "    return\n",
    "\n",
    "contig_list_creator(nucleotides4)"
   ]
  },
  {
   "cell_type": "code",
   "execution_count": null,
   "metadata": {
    "collapsed": true
   },
   "outputs": [],
   "source": []
  }
 ],
 "metadata": {
  "anaconda-cloud": {},
  "kernelspec": {
   "display_name": "Python [conda env:py35]",
   "language": "python",
   "name": "conda-env-py35-py"
  },
  "language_info": {
   "codemirror_mode": {
    "name": "ipython",
    "version": 3
   },
   "file_extension": ".py",
   "mimetype": "text/x-python",
   "name": "python",
   "nbconvert_exporter": "python",
   "pygments_lexer": "ipython3",
   "version": "3.5.2"
  }
 },
 "nbformat": 4,
 "nbformat_minor": 1
}
