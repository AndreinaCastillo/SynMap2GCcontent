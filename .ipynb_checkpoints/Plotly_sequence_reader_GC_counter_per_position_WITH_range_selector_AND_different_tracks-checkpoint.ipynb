{
 "cells": [
  {
   "cell_type": "code",
   "execution_count": 2,
   "metadata": {
    "collapsed": false
   },
   "outputs": [
    {
     "data": {
      "text/html": [
       "<script>requirejs.config({paths: { 'plotly': ['https://cdn.plot.ly/plotly-latest.min']},});if(!window.Plotly) {{require(['plotly'],function(plotly) {window.Plotly=plotly;});}}</script>"
      ],
      "text/plain": [
       "<IPython.core.display.HTML object>"
      ]
     },
     "metadata": {},
     "output_type": "display_data"
    },
    {
     "data": {
      "text/html": [
       "<div id=\"7cfc94f3-78da-4487-bd1f-6456331a3786\" style=\"height: 525px; width: 100%;\" class=\"plotly-graph-div\"></div><script type=\"text/javascript\">require([\"plotly\"], function(Plotly) { window.PLOTLYENV=window.PLOTLYENV || {};window.PLOTLYENV.BASE_URL=\"https://plot.ly\";Plotly.newPlot(\"7cfc94f3-78da-4487-bd1f-6456331a3786\", [{\"x\": [1, 2, 3, 4, 5, 6, 7, 8, 9, 10, 11, 12, 13, 14, 15, 16, 17, 18, 19, 20, 21, 22, 23, 24, 25, 26, 27, 28, 29, 30], \"line\": {\"color\": \"rgb(3,141,243)\"}, \"type\": \"scatter\", \"y\": [0, 1, 0, 1, 1, 0, 0, 0, 1, 1, 1, 1, 0, 0, 0, 0, 0, 1, 0, 1, 1, 0, 0, 0, 0, 0, 1, 1, 0, 1]}, {\"x\": [1, 2, 3, 4, 5, 6, 7, 8, 9, 10, 11, 12, 13, 14, 15, 16, 17, 18, 19, 20, 21, 22, 23, 24, 25, 26, 27, 28, 29, 30], \"line\": {\"color\": \"rgb(64,182,77)\"}, \"type\": \"scatter\", \"y\": [1, 0, 1, 0, 0, 1, 1, 1, 0, 0, 0, 0, 0, 0, 1, 1, 1, 0, 1, 0, 0, 1, 1, 1, 1, 1, 0, 0, 1, 0]}, {\"x\": [1, 2, 3, 4, 5, 6, 7, 8, 9, 10, 11, 12, 13, 14, 15, 16, 17, 18, 19, 20, 21, 22, 23, 24, 25, 26, 27, 28, 29, 30], \"line\": {\"color\": \"rgb(243,145,3)\"}, \"type\": \"scatter\", \"y\": [0, 0, 0, 0, 0, 0, 0, 0, 0, 0, 0, 0, 1, 1, 0, 0, 0, 0, 0, 0, 0, 0, 0, 0, 0, 0, 0, 0, 0, 0]}, {\"x\": [1, 2, 3, 4, 5, 6, 7, 8, 9, 10, 11, 12, 13, 14, 15, 16, 17, 18, 19, 20, 21, 22, 23, 24, 25, 26, 27, 28, 29, 30], \"line\": {\"color\": \"rgb(171,3,243)\"}, \"type\": \"scatter\", \"y\": [0, 0, 0, 0, 0, 0, 0, 0, 0, 0, 0, 0, 0, 0, 0, 0, 0, 0, 0, 0, 0, 0, 0, 0, 0, 0, 0, 0, 0, 0]}], {\"xaxis\": {\"rangeslider\": {}}}, {\"linkText\": \"Export to plot.ly\", \"showLink\": true})});</script>"
      ],
      "text/plain": [
       "<IPython.core.display.HTML object>"
      ]
     },
     "metadata": {},
     "output_type": "display_data"
    },
    {
     "data": {
      "text/html": [
       "<div id=\"b6a44141-4df2-4992-995f-737172efcb99\" style=\"height: 525px; width: 100%;\" class=\"plotly-graph-div\"></div><script type=\"text/javascript\">require([\"plotly\"], function(Plotly) { window.PLOTLYENV=window.PLOTLYENV || {};window.PLOTLYENV.BASE_URL=\"https://plot.ly\";Plotly.newPlot(\"b6a44141-4df2-4992-995f-737172efcb99\", [{\"x\": [1, 2, 3, 4, 5, 6, 7, 8, 9, 10, 11, 12, 13, 14, 15, 16, 17, 18, 19], \"line\": {\"color\": \"rgb(3,141,243)\"}, \"type\": \"scatter\", \"y\": [1, 1, 1, 1, 1, 1, 1, 1, 1, 1, 1, 1, 1, 1, 1, 1, 1, 1, 1]}, {\"x\": [1, 2, 3, 4, 5, 6, 7, 8, 9, 10, 11, 12, 13, 14, 15, 16, 17, 18, 19], \"line\": {\"color\": \"rgb(64,182,77)\"}, \"type\": \"scatter\", \"y\": [0, 0, 0, 0, 0, 0, 0, 0, 0, 0, 0, 0, 0, 0, 0, 0, 0, 0, 0]}, {\"x\": [1, 2, 3, 4, 5, 6, 7, 8, 9, 10, 11, 12, 13, 14, 15, 16, 17, 18, 19], \"line\": {\"color\": \"rgb(243,145,3)\"}, \"type\": \"scatter\", \"y\": [0, 0, 0, 0, 0, 0, 0, 0, 0, 0, 0, 0, 0, 0, 0, 0, 0, 0, 0]}, {\"x\": [1, 2, 3, 4, 5, 6, 7, 8, 9, 10, 11, 12, 13, 14, 15, 16, 17, 18, 19], \"line\": {\"color\": \"rgb(171,3,243)\"}, \"type\": \"scatter\", \"y\": [0, 0, 0, 0, 0, 0, 0, 0, 0, 0, 0, 0, 0, 0, 0, 0, 0, 0, 0]}], {\"xaxis\": {\"rangeslider\": {}}}, {\"linkText\": \"Export to plot.ly\", \"showLink\": true})});</script>"
      ],
      "text/plain": [
       "<IPython.core.display.HTML object>"
      ]
     },
     "metadata": {},
     "output_type": "display_data"
    },
    {
     "data": {
      "text/html": [
       "<div id=\"41e14881-4138-4b5c-8fab-7467bba1935e\" style=\"height: 525px; width: 100%;\" class=\"plotly-graph-div\"></div><script type=\"text/javascript\">require([\"plotly\"], function(Plotly) { window.PLOTLYENV=window.PLOTLYENV || {};window.PLOTLYENV.BASE_URL=\"https://plot.ly\";Plotly.newPlot(\"41e14881-4138-4b5c-8fab-7467bba1935e\", [{\"x\": [1, 2, 3, 4, 5, 6, 7, 8, 9, 10, 11, 12, 13, 14, 15, 16, 17, 18, 19, 20, 21, 22], \"line\": {\"color\": \"rgb(3,141,243)\"}, \"type\": \"scatter\", \"y\": [1, 1, 0, 0, 0, 1, 1, 1, 1, 0, 0, 0, 1, 1, 1, 1, 0, 0, 0, 0, 0, 0]}, {\"x\": [1, 2, 3, 4, 5, 6, 7, 8, 9, 10, 11, 12, 13, 14, 15, 16, 17, 18, 19, 20, 21, 22], \"line\": {\"color\": \"rgb(64,182,77)\"}, \"type\": \"scatter\", \"y\": [0, 0, 1, 1, 1, 0, 0, 0, 0, 1, 1, 1, 0, 0, 0, 0, 1, 1, 1, 1, 1, 1]}, {\"x\": [1, 2, 3, 4, 5, 6, 7, 8, 9, 10, 11, 12, 13, 14, 15, 16, 17, 18, 19, 20, 21, 22], \"line\": {\"color\": \"rgb(243,145,3)\"}, \"type\": \"scatter\", \"y\": [0, 0, 0, 0, 0, 0, 0, 0, 0, 0, 0, 0, 0, 0, 0, 0, 0, 0, 0, 0, 0, 0]}, {\"x\": [1, 2, 3, 4, 5, 6, 7, 8, 9, 10, 11, 12, 13, 14, 15, 16, 17, 18, 19, 20, 21, 22], \"line\": {\"color\": \"rgb(171,3,243)\"}, \"type\": \"scatter\", \"y\": [0, 0, 0, 0, 0, 0, 0, 0, 0, 0, 0, 0, 0, 0, 0, 0, 0, 0, 0, 0, 0, 0]}], {\"xaxis\": {\"rangeslider\": {}}}, {\"linkText\": \"Export to plot.ly\", \"showLink\": true})});</script>"
      ],
      "text/plain": [
       "<IPython.core.display.HTML object>"
      ]
     },
     "metadata": {},
     "output_type": "display_data"
    },
    {
     "data": {
      "text/html": [
       "<div id=\"57c2933c-933a-4c96-8ed3-39c012342bc3\" style=\"height: 525px; width: 100%;\" class=\"plotly-graph-div\"></div><script type=\"text/javascript\">require([\"plotly\"], function(Plotly) { window.PLOTLYENV=window.PLOTLYENV || {};window.PLOTLYENV.BASE_URL=\"https://plot.ly\";Plotly.newPlot(\"57c2933c-933a-4c96-8ed3-39c012342bc3\", [{\"x\": [1, 2, 3, 4, 5, 6, 7, 8, 9, 10, 11, 12, 13, 14, 15, 16, 17], \"line\": {\"color\": \"rgb(3,141,243)\"}, \"type\": \"scatter\", \"y\": [1, 1, 1, 1, 1, 1, 1, 1, 1, 1, 1, 1, 1, 1, 1, 0, 1]}, {\"x\": [1, 2, 3, 4, 5, 6, 7, 8, 9, 10, 11, 12, 13, 14, 15, 16, 17], \"line\": {\"color\": \"rgb(64,182,77)\"}, \"type\": \"scatter\", \"y\": [0, 0, 0, 0, 0, 0, 0, 0, 0, 0, 0, 0, 0, 0, 0, 1, 0]}, {\"x\": [1, 2, 3, 4, 5, 6, 7, 8, 9, 10, 11, 12, 13, 14, 15, 16, 17], \"line\": {\"color\": \"rgb(243,145,3)\"}, \"type\": \"scatter\", \"y\": [0, 0, 0, 0, 0, 0, 0, 0, 0, 0, 0, 0, 0, 0, 0, 0, 0]}, {\"x\": [1, 2, 3, 4, 5, 6, 7, 8, 9, 10, 11, 12, 13, 14, 15, 16, 17], \"line\": {\"color\": \"rgb(171,3,243)\"}, \"type\": \"scatter\", \"y\": [0, 0, 0, 0, 0, 0, 0, 0, 0, 0, 0, 0, 0, 0, 0, 0, 0]}], {\"xaxis\": {\"rangeslider\": {}}}, {\"linkText\": \"Export to plot.ly\", \"showLink\": true})});</script>"
      ],
      "text/plain": [
       "<IPython.core.display.HTML object>"
      ]
     },
     "metadata": {},
     "output_type": "display_data"
    },
    {
     "data": {
      "text/html": [
       "<div id=\"27aa6532-cd82-4e83-bdbf-6fbd5231e12c\" style=\"height: 525px; width: 100%;\" class=\"plotly-graph-div\"></div><script type=\"text/javascript\">require([\"plotly\"], function(Plotly) { window.PLOTLYENV=window.PLOTLYENV || {};window.PLOTLYENV.BASE_URL=\"https://plot.ly\";Plotly.newPlot(\"27aa6532-cd82-4e83-bdbf-6fbd5231e12c\", [{\"x\": [1, 2, 3, 4, 5, 6, 7, 8, 9, 10, 11, 12, 13, 14, 15, 16, 17, 18, 19], \"line\": {\"color\": \"rgb(3,141,243)\"}, \"type\": \"scatter\", \"y\": [1, 1, 1, 0, 0, 0, 1, 1, 1, 1, 0, 0, 0, 1, 0, 1, 1, 0, 0]}, {\"x\": [1, 2, 3, 4, 5, 6, 7, 8, 9, 10, 11, 12, 13, 14, 15, 16, 17, 18, 19], \"line\": {\"color\": \"rgb(64,182,77)\"}, \"type\": \"scatter\", \"y\": [0, 0, 0, 1, 1, 1, 0, 0, 0, 0, 1, 1, 1, 0, 1, 0, 0, 1, 1]}, {\"x\": [1, 2, 3, 4, 5, 6, 7, 8, 9, 10, 11, 12, 13, 14, 15, 16, 17, 18, 19], \"line\": {\"color\": \"rgb(243,145,3)\"}, \"type\": \"scatter\", \"y\": [0, 0, 0, 0, 0, 0, 0, 0, 0, 0, 0, 0, 0, 0, 0, 0, 0, 0, 0]}, {\"x\": [1, 2, 3, 4, 5, 6, 7, 8, 9, 10, 11, 12, 13, 14, 15, 16, 17, 18, 19], \"line\": {\"color\": \"rgb(171,3,243)\"}, \"type\": \"scatter\", \"y\": [0, 0, 0, 0, 0, 0, 0, 0, 0, 0, 0, 0, 0, 0, 0, 0, 0, 0, 0]}], {\"xaxis\": {\"rangeslider\": {}}}, {\"linkText\": \"Export to plot.ly\", \"showLink\": true})});</script>"
      ],
      "text/plain": [
       "<IPython.core.display.HTML object>"
      ]
     },
     "metadata": {},
     "output_type": "display_data"
    },
    {
     "data": {
      "text/html": [
       "<div id=\"d5b3751f-7be9-4b1d-81ed-c5f39b5741cf\" style=\"height: 525px; width: 100%;\" class=\"plotly-graph-div\"></div><script type=\"text/javascript\">require([\"plotly\"], function(Plotly) { window.PLOTLYENV=window.PLOTLYENV || {};window.PLOTLYENV.BASE_URL=\"https://plot.ly\";Plotly.newPlot(\"d5b3751f-7be9-4b1d-81ed-c5f39b5741cf\", [{\"x\": [1, 2, 3, 4, 5, 6, 7, 8, 9, 10, 11, 12, 13, 14, 15, 16, 17, 18, 19, 20, 21], \"line\": {\"color\": \"rgb(3,141,243)\"}, \"type\": \"scatter\", \"y\": [0, 0, 1, 0, 1, 1, 0, 0, 0, 0, 0, 1, 1, 1, 1, 0, 0, 0, 1, 1, 1]}, {\"x\": [1, 2, 3, 4, 5, 6, 7, 8, 9, 10, 11, 12, 13, 14, 15, 16, 17, 18, 19, 20, 21], \"line\": {\"color\": \"rgb(64,182,77)\"}, \"type\": \"scatter\", \"y\": [1, 1, 0, 1, 0, 0, 0, 0, 1, 1, 1, 0, 0, 0, 0, 1, 1, 1, 0, 0, 0]}, {\"x\": [1, 2, 3, 4, 5, 6, 7, 8, 9, 10, 11, 12, 13, 14, 15, 16, 17, 18, 19, 20, 21], \"line\": {\"color\": \"rgb(243,145,3)\"}, \"type\": \"scatter\", \"y\": [0, 0, 0, 0, 0, 0, 0, 0, 0, 0, 0, 0, 0, 0, 0, 0, 0, 0, 0, 0, 0]}, {\"x\": [1, 2, 3, 4, 5, 6, 7, 8, 9, 10, 11, 12, 13, 14, 15, 16, 17, 18, 19, 20, 21], \"line\": {\"color\": \"rgb(171,3,243)\"}, \"type\": \"scatter\", \"y\": [0, 0, 0, 0, 0, 0, 1, 1, 0, 0, 0, 0, 0, 0, 0, 0, 0, 0, 0, 0, 0]}], {\"xaxis\": {\"rangeslider\": {}}}, {\"linkText\": \"Export to plot.ly\", \"showLink\": true})});</script>"
      ],
      "text/plain": [
       "<IPython.core.display.HTML object>"
      ]
     },
     "metadata": {},
     "output_type": "display_data"
    },
    {
     "data": {
      "text/html": [
       "<div id=\"52ba28fb-22b5-4314-8381-145345630526\" style=\"height: 525px; width: 100%;\" class=\"plotly-graph-div\"></div><script type=\"text/javascript\">require([\"plotly\"], function(Plotly) { window.PLOTLYENV=window.PLOTLYENV || {};window.PLOTLYENV.BASE_URL=\"https://plot.ly\";Plotly.newPlot(\"52ba28fb-22b5-4314-8381-145345630526\", [{\"x\": [1, 2, 3, 4, 5, 6, 7, 8, 9, 10, 11, 12, 13, 14, 15, 16, 17, 18, 19], \"line\": {\"color\": \"rgb(3,141,243)\"}, \"type\": \"scatter\", \"y\": [1, 0, 0, 0, 1, 1, 1, 1, 0, 0, 0, 1, 1, 1, 1, 0, 0, 0, 1]}, {\"x\": [1, 2, 3, 4, 5, 6, 7, 8, 9, 10, 11, 12, 13, 14, 15, 16, 17, 18, 19], \"line\": {\"color\": \"rgb(64,182,77)\"}, \"type\": \"scatter\", \"y\": [0, 1, 1, 1, 0, 0, 0, 0, 1, 1, 1, 0, 0, 0, 0, 1, 1, 1, 0]}, {\"x\": [1, 2, 3, 4, 5, 6, 7, 8, 9, 10, 11, 12, 13, 14, 15, 16, 17, 18, 19], \"line\": {\"color\": \"rgb(243,145,3)\"}, \"type\": \"scatter\", \"y\": [0, 0, 0, 0, 0, 0, 0, 0, 0, 0, 0, 0, 0, 0, 0, 0, 0, 0, 0]}, {\"x\": [1, 2, 3, 4, 5, 6, 7, 8, 9, 10, 11, 12, 13, 14, 15, 16, 17, 18, 19], \"line\": {\"color\": \"rgb(171,3,243)\"}, \"type\": \"scatter\", \"y\": [0, 0, 0, 0, 0, 0, 0, 0, 0, 0, 0, 0, 0, 0, 0, 0, 0, 0, 0]}], {\"xaxis\": {\"rangeslider\": {}}}, {\"linkText\": \"Export to plot.ly\", \"showLink\": true})});</script>"
      ],
      "text/plain": [
       "<IPython.core.display.HTML object>"
      ]
     },
     "metadata": {},
     "output_type": "display_data"
    },
    {
     "data": {
      "text/html": [
       "<div id=\"c45fdd33-9b39-4f0b-beb8-275466e16a1c\" style=\"height: 525px; width: 100%;\" class=\"plotly-graph-div\"></div><script type=\"text/javascript\">require([\"plotly\"], function(Plotly) { window.PLOTLYENV=window.PLOTLYENV || {};window.PLOTLYENV.BASE_URL=\"https://plot.ly\";Plotly.newPlot(\"c45fdd33-9b39-4f0b-beb8-275466e16a1c\", [{\"x\": [1, 2, 3, 4, 5, 6, 7, 8, 9, 10, 11, 12, 13, 14, 15, 16, 17, 18, 19], \"line\": {\"color\": \"rgb(3,141,243)\"}, \"type\": \"scatter\", \"y\": [0, 1, 1, 1, 1, 0, 1, 0, 1, 1, 1, 1, 1, 1, 0, 1, 0, 1, 0]}, {\"x\": [1, 2, 3, 4, 5, 6, 7, 8, 9, 10, 11, 12, 13, 14, 15, 16, 17, 18, 19], \"line\": {\"color\": \"rgb(64,182,77)\"}, \"type\": \"scatter\", \"y\": [1, 0, 0, 0, 0, 1, 0, 1, 0, 0, 0, 0, 0, 0, 1, 0, 1, 0, 1]}, {\"x\": [1, 2, 3, 4, 5, 6, 7, 8, 9, 10, 11, 12, 13, 14, 15, 16, 17, 18, 19], \"line\": {\"color\": \"rgb(243,145,3)\"}, \"type\": \"scatter\", \"y\": [0, 0, 0, 0, 0, 0, 0, 0, 0, 0, 0, 0, 0, 0, 0, 0, 0, 0, 0]}, {\"x\": [1, 2, 3, 4, 5, 6, 7, 8, 9, 10, 11, 12, 13, 14, 15, 16, 17, 18, 19], \"line\": {\"color\": \"rgb(171,3,243)\"}, \"type\": \"scatter\", \"y\": [0, 0, 0, 0, 0, 0, 0, 0, 0, 0, 0, 0, 0, 0, 0, 0, 0, 0, 0]}], {\"xaxis\": {\"rangeslider\": {}}}, {\"linkText\": \"Export to plot.ly\", \"showLink\": true})});</script>"
      ],
      "text/plain": [
       "<IPython.core.display.HTML object>"
      ]
     },
     "metadata": {},
     "output_type": "display_data"
    },
    {
     "data": {
      "text/html": [
       "<div id=\"1b810ecd-b620-4f08-8249-91ac364fb5d0\" style=\"height: 525px; width: 100%;\" class=\"plotly-graph-div\"></div><script type=\"text/javascript\">require([\"plotly\"], function(Plotly) { window.PLOTLYENV=window.PLOTLYENV || {};window.PLOTLYENV.BASE_URL=\"https://plot.ly\";Plotly.newPlot(\"1b810ecd-b620-4f08-8249-91ac364fb5d0\", [{\"x\": [1, 2, 3, 4, 5, 6, 7, 8, 9, 10, 11, 12, 13, 14, 15, 16, 17, 18, 19], \"line\": {\"color\": \"rgb(3,141,243)\"}, \"type\": \"scatter\", \"y\": [1, 0, 1, 1, 0, 1, 1, 1, 0, 1, 0, 1, 1, 1, 1, 1, 1, 1, 0]}, {\"x\": [1, 2, 3, 4, 5, 6, 7, 8, 9, 10, 11, 12, 13, 14, 15, 16, 17, 18, 19], \"line\": {\"color\": \"rgb(64,182,77)\"}, \"type\": \"scatter\", \"y\": [0, 1, 0, 0, 1, 0, 0, 0, 1, 0, 1, 0, 0, 0, 0, 0, 0, 0, 1]}, {\"x\": [1, 2, 3, 4, 5, 6, 7, 8, 9, 10, 11, 12, 13, 14, 15, 16, 17, 18, 19], \"line\": {\"color\": \"rgb(243,145,3)\"}, \"type\": \"scatter\", \"y\": [0, 0, 0, 0, 0, 0, 0, 0, 0, 0, 0, 0, 0, 0, 0, 0, 0, 0, 0]}, {\"x\": [1, 2, 3, 4, 5, 6, 7, 8, 9, 10, 11, 12, 13, 14, 15, 16, 17, 18, 19], \"line\": {\"color\": \"rgb(171,3,243)\"}, \"type\": \"scatter\", \"y\": [0, 0, 0, 0, 0, 0, 0, 0, 0, 0, 0, 0, 0, 0, 0, 0, 0, 0, 0]}], {\"xaxis\": {\"rangeslider\": {}}}, {\"linkText\": \"Export to plot.ly\", \"showLink\": true})});</script>"
      ],
      "text/plain": [
       "<IPython.core.display.HTML object>"
      ]
     },
     "metadata": {},
     "output_type": "display_data"
    },
    {
     "data": {
      "text/html": [
       "<div id=\"5f4cf9ab-9ab7-429b-a37d-c3d765c1ab40\" style=\"height: 525px; width: 100%;\" class=\"plotly-graph-div\"></div><script type=\"text/javascript\">require([\"plotly\"], function(Plotly) { window.PLOTLYENV=window.PLOTLYENV || {};window.PLOTLYENV.BASE_URL=\"https://plot.ly\";Plotly.newPlot(\"5f4cf9ab-9ab7-429b-a37d-c3d765c1ab40\", [{\"x\": [1, 2, 3, 4, 5, 6, 7, 8, 9, 10, 11, 12, 13, 14, 15, 16, 17, 18, 19], \"line\": {\"color\": \"rgb(3,141,243)\"}, \"type\": \"scatter\", \"y\": [1, 1, 0, 0, 0, 1, 1, 1, 1, 0, 0, 0, 1, 0, 1, 1, 1, 0, 0]}, {\"x\": [1, 2, 3, 4, 5, 6, 7, 8, 9, 10, 11, 12, 13, 14, 15, 16, 17, 18, 19], \"line\": {\"color\": \"rgb(64,182,77)\"}, \"type\": \"scatter\", \"y\": [0, 0, 1, 1, 1, 0, 0, 0, 0, 1, 1, 1, 0, 1, 0, 0, 0, 1, 1]}, {\"x\": [1, 2, 3, 4, 5, 6, 7, 8, 9, 10, 11, 12, 13, 14, 15, 16, 17, 18, 19], \"line\": {\"color\": \"rgb(243,145,3)\"}, \"type\": \"scatter\", \"y\": [0, 0, 0, 0, 0, 0, 0, 0, 0, 0, 0, 0, 0, 0, 0, 0, 0, 0, 0]}, {\"x\": [1, 2, 3, 4, 5, 6, 7, 8, 9, 10, 11, 12, 13, 14, 15, 16, 17, 18, 19], \"line\": {\"color\": \"rgb(171,3,243)\"}, \"type\": \"scatter\", \"y\": [0, 0, 0, 0, 0, 0, 0, 0, 0, 0, 0, 0, 0, 0, 0, 0, 0, 0, 0]}], {\"xaxis\": {\"rangeslider\": {}}}, {\"linkText\": \"Export to plot.ly\", \"showLink\": true})});</script>"
      ],
      "text/plain": [
       "<IPython.core.display.HTML object>"
      ]
     },
     "metadata": {},
     "output_type": "display_data"
    },
    {
     "data": {
      "text/html": [
       "<div id=\"1a4afca8-210d-4762-ac9d-5152b5ef1642\" style=\"height: 525px; width: 100%;\" class=\"plotly-graph-div\"></div><script type=\"text/javascript\">require([\"plotly\"], function(Plotly) { window.PLOTLYENV=window.PLOTLYENV || {};window.PLOTLYENV.BASE_URL=\"https://plot.ly\";Plotly.newPlot(\"1a4afca8-210d-4762-ac9d-5152b5ef1642\", [{\"x\": [1, 2, 3, 4, 5, 6, 7, 8, 9, 10, 11, 12, 13, 14, 15, 16, 17, 18, 19], \"line\": {\"color\": \"rgb(3,141,243)\"}, \"type\": \"scatter\", \"y\": [1, 0, 0, 0, 1, 1, 1, 1, 0, 0, 0, 1, 1, 1, 1, 0, 0, 0, 1]}, {\"x\": [1, 2, 3, 4, 5, 6, 7, 8, 9, 10, 11, 12, 13, 14, 15, 16, 17, 18, 19], \"line\": {\"color\": \"rgb(64,182,77)\"}, \"type\": \"scatter\", \"y\": [0, 1, 1, 1, 0, 0, 0, 0, 1, 1, 1, 0, 0, 0, 0, 1, 1, 1, 0]}, {\"x\": [1, 2, 3, 4, 5, 6, 7, 8, 9, 10, 11, 12, 13, 14, 15, 16, 17, 18, 19], \"line\": {\"color\": \"rgb(243,145,3)\"}, \"type\": \"scatter\", \"y\": [0, 0, 0, 0, 0, 0, 0, 0, 0, 0, 0, 0, 0, 0, 0, 0, 0, 0, 0]}, {\"x\": [1, 2, 3, 4, 5, 6, 7, 8, 9, 10, 11, 12, 13, 14, 15, 16, 17, 18, 19], \"line\": {\"color\": \"rgb(171,3,243)\"}, \"type\": \"scatter\", \"y\": [0, 0, 0, 0, 0, 0, 0, 0, 0, 0, 0, 0, 0, 0, 0, 0, 0, 0, 0]}], {\"xaxis\": {\"rangeslider\": {}}}, {\"linkText\": \"Export to plot.ly\", \"showLink\": true})});</script>"
      ],
      "text/plain": [
       "<IPython.core.display.HTML object>"
      ]
     },
     "metadata": {},
     "output_type": "display_data"
    },
    {
     "data": {
      "text/html": [
       "<div id=\"8f16e7d0-23a6-44a3-a935-66e1afe4f031\" style=\"height: 525px; width: 100%;\" class=\"plotly-graph-div\"></div><script type=\"text/javascript\">require([\"plotly\"], function(Plotly) { window.PLOTLYENV=window.PLOTLYENV || {};window.PLOTLYENV.BASE_URL=\"https://plot.ly\";Plotly.newPlot(\"8f16e7d0-23a6-44a3-a935-66e1afe4f031\", [{\"x\": [1, 2, 3, 4, 5, 6, 7, 8, 9, 10, 11, 12, 13, 14, 15, 16, 17, 18, 19], \"line\": {\"color\": \"rgb(3,141,243)\"}, \"type\": \"scatter\", \"y\": [1, 0, 1, 1, 0, 0, 0, 1, 1, 1, 1, 0, 0, 0, 1, 1, 1, 1, 0]}, {\"x\": [1, 2, 3, 4, 5, 6, 7, 8, 9, 10, 11, 12, 13, 14, 15, 16, 17, 18, 19], \"line\": {\"color\": \"rgb(64,182,77)\"}, \"type\": \"scatter\", \"y\": [0, 1, 0, 0, 1, 1, 1, 0, 0, 0, 0, 1, 1, 1, 0, 0, 0, 0, 1]}, {\"x\": [1, 2, 3, 4, 5, 6, 7, 8, 9, 10, 11, 12, 13, 14, 15, 16, 17, 18, 19], \"line\": {\"color\": \"rgb(243,145,3)\"}, \"type\": \"scatter\", \"y\": [0, 0, 0, 0, 0, 0, 0, 0, 0, 0, 0, 0, 0, 0, 0, 0, 0, 0, 0]}, {\"x\": [1, 2, 3, 4, 5, 6, 7, 8, 9, 10, 11, 12, 13, 14, 15, 16, 17, 18, 19], \"line\": {\"color\": \"rgb(171,3,243)\"}, \"type\": \"scatter\", \"y\": [0, 0, 0, 0, 0, 0, 0, 0, 0, 0, 0, 0, 0, 0, 0, 0, 0, 0, 0]}], {\"xaxis\": {\"rangeslider\": {}}}, {\"linkText\": \"Export to plot.ly\", \"showLink\": true})});</script>"
      ],
      "text/plain": [
       "<IPython.core.display.HTML object>"
      ]
     },
     "metadata": {},
     "output_type": "display_data"
    },
    {
     "data": {
      "text/html": [
       "<div id=\"9a5fd71e-6b12-4762-af47-5a315e41e133\" style=\"height: 525px; width: 100%;\" class=\"plotly-graph-div\"></div><script type=\"text/javascript\">require([\"plotly\"], function(Plotly) { window.PLOTLYENV=window.PLOTLYENV || {};window.PLOTLYENV.BASE_URL=\"https://plot.ly\";Plotly.newPlot(\"9a5fd71e-6b12-4762-af47-5a315e41e133\", [{\"x\": [1, 2, 3, 4, 5, 6, 7, 8, 9, 10, 11, 12, 13, 14, 15, 16, 17, 18, 19, 20, 21, 22, 23, 24, 25, 26, 27, 28, 29, 30, 31, 32, 33, 34], \"line\": {\"color\": \"rgb(3,141,243)\"}, \"type\": \"scatter\", \"y\": [0, 0, 0, 1, 0, 1, 1, 0, 0, 0, 0, 0, 0, 0, 0, 0, 0, 0, 0, 0, 0, 0, 0, 0, 1, 1, 1, 1, 0, 0, 0, 1, 1, 0]}, {\"x\": [1, 2, 3, 4, 5, 6, 7, 8, 9, 10, 11, 12, 13, 14, 15, 16, 17, 18, 19, 20, 21, 22, 23, 24, 25, 26, 27, 28, 29, 30, 31, 32, 33, 34], \"line\": {\"color\": \"rgb(64,182,77)\"}, \"type\": \"scatter\", \"y\": [1, 1, 1, 0, 1, 0, 0, 1, 1, 1, 0, 0, 0, 0, 0, 0, 0, 0, 0, 0, 0, 0, 0, 0, 0, 0, 0, 0, 1, 1, 1, 0, 0, 0]}, {\"x\": [1, 2, 3, 4, 5, 6, 7, 8, 9, 10, 11, 12, 13, 14, 15, 16, 17, 18, 19, 20, 21, 22, 23, 24, 25, 26, 27, 28, 29, 30, 31, 32, 33, 34], \"line\": {\"color\": \"rgb(243,145,3)\"}, \"type\": \"scatter\", \"y\": [0, 0, 0, 0, 0, 0, 0, 0, 0, 0, 1, 1, 1, 1, 1, 1, 1, 1, 1, 1, 1, 1, 1, 1, 0, 0, 0, 0, 0, 0, 0, 0, 0, 1]}, {\"x\": [1, 2, 3, 4, 5, 6, 7, 8, 9, 10, 11, 12, 13, 14, 15, 16, 17, 18, 19, 20, 21, 22, 23, 24, 25, 26, 27, 28, 29, 30, 31, 32, 33, 34], \"line\": {\"color\": \"rgb(171,3,243)\"}, \"type\": \"scatter\", \"y\": [0, 0, 0, 0, 0, 0, 0, 0, 0, 0, 0, 0, 0, 0, 0, 0, 0, 0, 0, 0, 0, 0, 0, 0, 0, 0, 0, 0, 0, 0, 0, 0, 0, 0]}], {\"xaxis\": {\"rangeslider\": {}}}, {\"linkText\": \"Export to plot.ly\", \"showLink\": true})});</script>"
      ],
      "text/plain": [
       "<IPython.core.display.HTML object>"
      ]
     },
     "metadata": {},
     "output_type": "display_data"
    },
    {
     "data": {
      "text/html": [
       "<div id=\"43ba35e3-e11c-4687-9c73-3b5b4dff2e77\" style=\"height: 525px; width: 100%;\" class=\"plotly-graph-div\"></div><script type=\"text/javascript\">require([\"plotly\"], function(Plotly) { window.PLOTLYENV=window.PLOTLYENV || {};window.PLOTLYENV.BASE_URL=\"https://plot.ly\";Plotly.newPlot(\"43ba35e3-e11c-4687-9c73-3b5b4dff2e77\", [{\"x\": [1, 2, 3, 4, 5, 6, 7, 8, 9, 10, 11, 12, 13, 14, 15, 16, 17, 18, 19, 20, 21, 22, 23, 24, 25, 26, 27], \"line\": {\"color\": \"rgb(3,141,243)\"}, \"type\": \"scatter\", \"y\": [1, 1, 0, 0, 0, 1, 0, 1, 1, 0, 0, 0, 0, 0, 0, 0, 0, 0, 0, 0, 1, 1, 1, 1, 0, 0, 0]}, {\"x\": [1, 2, 3, 4, 5, 6, 7, 8, 9, 10, 11, 12, 13, 14, 15, 16, 17, 18, 19, 20, 21, 22, 23, 24, 25, 26, 27], \"line\": {\"color\": \"rgb(64,182,77)\"}, \"type\": \"scatter\", \"y\": [0, 0, 1, 1, 1, 0, 1, 0, 0, 1, 1, 1, 0, 0, 0, 0, 0, 0, 0, 0, 0, 0, 0, 0, 1, 1, 1]}, {\"x\": [1, 2, 3, 4, 5, 6, 7, 8, 9, 10, 11, 12, 13, 14, 15, 16, 17, 18, 19, 20, 21, 22, 23, 24, 25, 26, 27], \"line\": {\"color\": \"rgb(243,145,3)\"}, \"type\": \"scatter\", \"y\": [0, 0, 0, 0, 0, 0, 0, 0, 0, 0, 0, 0, 0, 0, 0, 1, 1, 1, 1, 1, 0, 0, 0, 0, 0, 0, 0]}, {\"x\": [1, 2, 3, 4, 5, 6, 7, 8, 9, 10, 11, 12, 13, 14, 15, 16, 17, 18, 19, 20, 21, 22, 23, 24, 25, 26, 27], \"line\": {\"color\": \"rgb(171,3,243)\"}, \"type\": \"scatter\", \"y\": [0, 0, 0, 0, 0, 0, 0, 0, 0, 0, 0, 0, 1, 1, 1, 0, 0, 0, 0, 0, 0, 0, 0, 0, 0, 0, 0]}], {\"xaxis\": {\"rangeslider\": {}}}, {\"linkText\": \"Export to plot.ly\", \"showLink\": true})});</script>"
      ],
      "text/plain": [
       "<IPython.core.display.HTML object>"
      ]
     },
     "metadata": {},
     "output_type": "display_data"
    }
   ],
   "source": [
    "#PlotlyinputGCcontent\n",
    "##Step 1 Importing FASTA files\n",
    "\n",
    "\n",
    "#####Credentials\n",
    "import plotly.tools as tls\n",
    "tls.set_credentials_file(username='AndreinaCastillo', api_key='i7hoddkosa')\n",
    "\n",
    "####Import library\n",
    "import os                                                                                      #Module to read files\n",
    "# import plotly.plotly as py\n",
    "# import plotly.graph_objs as go\n",
    "import numpy as np\n",
    "from plotly import __version__\n",
    "from plotly.offline import download_plotlyjs, init_notebook_mode, plot, iplot\n",
    "from plotly.graph_objs import Bar, Scatter, Figure, Layout\n",
    "init_notebook_mode(connected=True)\n",
    "import pandas.io.data as web\n",
    "\n",
    "####Global variables \n",
    "header = []\n",
    "nucleotides = []\n",
    "\n",
    "#File input/path\n",
    "\n",
    "#my_file = open(os.path.expanduser('Plasmodium_chabaudi_chabaudi_strain_AS.faa'))\n",
    "my_file = open(os.path.expanduser('Plasmodium__test.faa'))\n",
    "#my_file = open(os.path.expanduser('Plasmodium_chabaudi_chabaudi_TEST2.faa'))\n",
    "file_contents = my_file.read()\n",
    "file_contents_lower = file_contents.lower()                                                    #Lowercases all strings in file\n",
    "file_contents_lower_split = file_contents_lower.split()                                        #Split the whole file string into words\n",
    "                                                                       \n",
    "\n",
    "##Step 2 Separating the file from a single string into two lists\n",
    "\n",
    "for i in file_contents_lower_split:                                                            #Divides words into two lists: one with the simbol \">\" and the other one without it\n",
    "    if \">\" in i:\n",
    "        header.append(i)\n",
    "    else:\n",
    "        nucleotides.append(i)\n",
    "\n",
    "        \n",
    "##Step 3 Reading the nucleotides list and counting the type of nucleotides (counter) \n",
    "##and the lenght per sequence (positioner)\n",
    "\n",
    "def AT_counter(seq):\n",
    "#Loops on every nucleotide per sequence. Then, per each time it finds an A or T it adds a 1 in that position to \n",
    "#the AT_count list\n",
    "    AT_count = []\n",
    "    for nuc in seq:                                                          \n",
    "        if nuc == 'a':\n",
    "            AT_count.append(1)\n",
    "        if nuc == 't':\n",
    "            AT_count.append(1)\n",
    "        if nuc == 'c':\n",
    "            AT_count.append(0)\n",
    "        if nuc == 'g':\n",
    "            AT_count.append(0)\n",
    "        if nuc == 'n':\n",
    "            AT_count.append(0)\n",
    "        if nuc == 'x':\n",
    "            AT_count.append(0)\n",
    "        AT_count_array = np.asarray(AT_count)\n",
    "    return AT_count_array\n",
    "\n",
    "def GC_counter(seq):\n",
    "#Loops on every nucleotide per sequence. Then, per each time it finds a G or C it adds a 1 in that position to \n",
    "#the GC_count list\n",
    "    GC_count = []\n",
    "    for nuc in seq:                                                          \n",
    "        if nuc == 'a':\n",
    "            GC_count.append(0)\n",
    "        if nuc == 't':\n",
    "            GC_count.append(0)\n",
    "        if nuc == 'c':\n",
    "            GC_count.append(1)\n",
    "        if nuc == 'g':\n",
    "            GC_count.append(1)\n",
    "        if nuc == 'n':\n",
    "            GC_count.append(0)\n",
    "        if nuc == 'x':\n",
    "            GC_count.append(0)\n",
    "        GC_count_array = np.asarray(GC_count)\n",
    "    return GC_count_array\n",
    "\n",
    "\n",
    "def N_counter(seq):\n",
    "#Loops on every nucleotide per sequence. Then, per each time it finds an N it adds a 1 in that position to \n",
    "#the N_count list\n",
    "    N_count = []\n",
    "    for nuc in seq:                                                          \n",
    "        if nuc == 'a':\n",
    "            N_count.append(0)\n",
    "        if nuc == 't':\n",
    "            N_count.append(0)\n",
    "        if nuc == 'c':\n",
    "            N_count.append(0)\n",
    "        if nuc == 'g':\n",
    "            N_count.append(0)\n",
    "        if nuc == 'n':\n",
    "            N_count.append(1)\n",
    "        if nuc == 'x':\n",
    "            N_count.append(0)\n",
    "        N_count_array = np.asarray(N_count)\n",
    "    return N_count_array\n",
    "\n",
    "\n",
    "def X_counter(seq):\n",
    "#Loops on every nucleotide per sequence. Then, per each time it finds an X it adds a 1 in that position to \n",
    "#the X_count list\n",
    "    X_count = []\n",
    "    for nuc in seq:                                                          \n",
    "        if nuc == 'a':\n",
    "            X_count.append(0)\n",
    "        if nuc == 't':\n",
    "            X_count.append(0)\n",
    "        if nuc == 'c':\n",
    "            X_count.append(0)\n",
    "        if nuc == 'g':\n",
    "            X_count.append(0)\n",
    "        if nuc == 'n':\n",
    "            X_count.append(0)\n",
    "        if nuc == 'x':\n",
    "            X_count.append(1)\n",
    "        X_count_array = np.asarray(X_count)\n",
    "    return X_count_array\n",
    "\n",
    "\n",
    "\n",
    "def positioner(seq):\n",
    "#Loops for every nucleotide per sequence, counts the number of positions and adds them to the position list\n",
    "    l = 0\n",
    "    position = []\n",
    "    for l in range(0,len(seq)):                                                              \n",
    "        l = l+1\n",
    "        position.append(l)           \n",
    "        position_array = np.asarray(position)\n",
    "    return position_array\n",
    "\n",
    "\n",
    "def plotly(nucleo):\n",
    "#This function builds a plot using the calculated% for the corresponding window position, \n",
    "#creates different tracks for each %,\n",
    "#and allows to focus on a given position range\n",
    "    for seq in nucleotides:\n",
    "        #print(seq)\n",
    "        AT_cnt_arr = AT_counter(seq)\n",
    "        GC_cnt_arr = GC_counter(seq)\n",
    "        N_cnt_arr = N_counter(seq)\n",
    "        X_cnt_arr = X_counter(seq)\n",
    "        pos_arr = positioner(seq)\n",
    "        \n",
    "        AT_trace = Scatter(\n",
    "        y = AT_cnt_arr,\n",
    "        x = pos_arr,\n",
    "        line = dict(color = ('rgb(3,141,243)'))) #Blue\n",
    "        \n",
    "        GC_trace = Scatter(\n",
    "        y = GC_cnt_arr,\n",
    "        x = pos_arr,\n",
    "        line = dict(color = ('rgb(64,182,77)'))) #Green\n",
    "        \n",
    "        N_trace = Scatter(\n",
    "        y = N_cnt_arr,\n",
    "        x = pos_arr,\n",
    "        line = dict(color = ('rgb(243,145,3)'))) #Orange\n",
    "        \n",
    "        X_trace = Scatter(\n",
    "        y = X_cnt_arr,\n",
    "        x = pos_arr,\n",
    "        line = dict(color = ('rgb(171,3,243)'))) #Purple\n",
    "        \n",
    "        data = [AT_trace, GC_trace, N_trace, X_trace]   \n",
    "\n",
    "        layout = dict(xaxis=dict(rangeslider=dict()))\n",
    "        fig = dict(data=data, layout=layout)\n",
    "        iplot(fig)\n",
    "\n",
    "    return\n",
    "\n",
    "#counter(nucleotides)\n",
    "#positioner(nucleotides)\n",
    "plotly(nucleotides)"
   ]
  },
  {
   "cell_type": "code",
   "execution_count": null,
   "metadata": {
    "collapsed": true
   },
   "outputs": [],
   "source": []
  },
  {
   "cell_type": "code",
   "execution_count": null,
   "metadata": {
    "collapsed": true
   },
   "outputs": [],
   "source": []
  }
 ],
 "metadata": {
  "anaconda-cloud": {},
  "kernelspec": {
   "display_name": "Python [conda env:py35]",
   "language": "python",
   "name": "conda-env-py35-py"
  },
  "language_info": {
   "codemirror_mode": {
    "name": "ipython",
    "version": 3
   },
   "file_extension": ".py",
   "mimetype": "text/x-python",
   "name": "python",
   "nbconvert_exporter": "python",
   "pygments_lexer": "ipython3",
   "version": "3.5.2"
  }
 },
 "nbformat": 4,
 "nbformat_minor": 1
}
