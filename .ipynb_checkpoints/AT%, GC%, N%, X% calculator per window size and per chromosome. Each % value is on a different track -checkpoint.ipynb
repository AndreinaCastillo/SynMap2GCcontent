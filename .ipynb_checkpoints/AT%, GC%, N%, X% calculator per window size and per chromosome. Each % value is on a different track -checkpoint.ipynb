{
 "cells": [
  {
   "cell_type": "code",
   "execution_count": null,
   "metadata": {
    "collapsed": false
   },
   "outputs": [],
   "source": [
    "#SynMap2GCcontent\n",
    "##Step 1 Importing FASTA files\n",
    "\n",
    "####Import library\n",
    "import os\n",
    "from itertools import chain, repeat\n",
    "import numpy as np\n",
    "from plotly import __version__\n",
    "from plotly.offline import download_plotlyjs, init_notebook_mode, plot, iplot\n",
    "from plotly.graph_objs import Bar, Scatter, Figure, Layout\n",
    "init_notebook_mode(connected=True)\n",
    "\n",
    "\n",
    "####Global variables \n",
    "header = []\n",
    "nucleotides = []\n",
    "divide_seq_in = 400\n",
    "\n",
    "\n",
    "####File input/path\n",
    "#my_file = open(os.path.expanduser('Plasmodium_chabaudi_chabaudi_strain_AS.faa'))\n",
    "#my_file = open(os.path.expanduser('Plasmodium__test.faa'))\n",
    "my_file = open(os.path.expanduser('Plasmodium_chabaudi_chabaudi_TEST2.faa'))\n",
    "file_contents = my_file.read()\n",
    "file_contents_lower = file_contents.lower()                                                    #Lowercases all strings in file\n",
    "file_contents_lower_split = file_contents_lower.split()                                        #Split the whole file string into words\n",
    "                                                                       \n",
    "\n",
    "##Step 2 Separating the file from a single string into two lists    \n",
    "for i in file_contents_lower_split:                                                            #Divides words into two lists: one with the simbol \">\" and the other one without it\n",
    "    if \">\" in i:\n",
    "        header.append(i)\n",
    "    else:\n",
    "        nucleotides.append(i)"
   ]
  },
  {
   "cell_type": "code",
   "execution_count": null,
   "metadata": {
    "collapsed": true
   },
   "outputs": [],
   "source": [
    "def window_size(seq):\n",
    "##Defines a window_size which can be modified in divide_seq_in in global variables\n",
    "    #win_size = int((len(seq)))\n",
    "    win_size = int((len(seq))/divide_seq_in)\n",
    "    return win_size"
   ]
  },
  {
   "cell_type": "code",
   "execution_count": null,
   "metadata": {
    "collapsed": true
   },
   "outputs": [],
   "source": [
    "def seq_split(seq):\n",
    "##This function divides each sequence into fragments of length determined by the window size\n",
    "    sub_seq_list = []\n",
    "    win_size = window_size(seq)\n",
    "    sub_seq = [seq[nuc:nuc+win_size] for nuc in range(0,len(seq), win_size)]\n",
    "    sub_seq_list.append(sub_seq)\n",
    "    return sub_seq_list "
   ]
  },
  {
   "cell_type": "code",
   "execution_count": null,
   "metadata": {
    "collapsed": true
   },
   "outputs": [],
   "source": [
    "def positioner(seq):\n",
    "#Loops for every nucleotide per sequence, counts the number of positions and adds them to the position list\n",
    "    l = 0\n",
    "    position = []\n",
    "    for l in range(0,len(seq)):                                                              \n",
    "        l = l+1\n",
    "        position.append(l)\n",
    "        position_array = np.asarray(position)\n",
    "    return position_array"
   ]
  },
  {
   "cell_type": "code",
   "execution_count": null,
   "metadata": {
    "collapsed": true
   },
   "outputs": [],
   "source": [
    "def AT_counter(seq):\n",
    "#Count AT% for the sequence and sequence length in the corresponding windows size\n",
    "    sub_seq = seq_split(seq)\n",
    "    for frag in sub_seq:\n",
    "        frag_list_at = []\n",
    "        frag_lenghts = []\n",
    "        for n in frag:\n",
    "            l = len(n)\n",
    "            frag_lenghts.append(l)\n",
    "            count_a = n.count('t')\n",
    "            count_t = n.count('a')\n",
    "            count_at = count_a+count_t\n",
    "            percent_at = (float(count_at/l))*100\n",
    "            frag_list_at.append(percent_at)\n",
    "            n_at = list(chain.from_iterable([i] * int(round(j * 1)) for i, j in zip(frag_list_at, frag_lenghts)))\n",
    "            percent_array_at = np.asarray(n_at)\n",
    "    return percent_array_at"
   ]
  },
  {
   "cell_type": "code",
   "execution_count": null,
   "metadata": {
    "collapsed": true
   },
   "outputs": [],
   "source": [
    "def GC_counter(seq):\n",
    "#Count GC% for the sequence and sequence length in the corresponding windows size\n",
    "    sub_seq = seq_split(seq)\n",
    "    for frag in sub_seq:\n",
    "        frag_list_gc = []\n",
    "        frag_lenghts = []\n",
    "        for n in frag:\n",
    "            l = len(n)\n",
    "            frag_lenghts.append(l)\n",
    "            count_g = n.count('g')\n",
    "            count_c = n.count('c')\n",
    "            count_gc = count_g+count_c\n",
    "            percent_gc = (float(count_gc/l))*100\n",
    "            frag_list_gc.append(percent_gc)\n",
    "            n_gc = list(chain.from_iterable([i] * int(round(j * 1)) for i, j in zip(frag_list_gc, frag_lenghts)))\n",
    "            percent_array_gc = np.asarray(n_gc)\n",
    "    return percent_array_gc"
   ]
  },
  {
   "cell_type": "code",
   "execution_count": null,
   "metadata": {
    "collapsed": true
   },
   "outputs": [],
   "source": [
    "def N_counter(seq):\n",
    "#Count N% for the sequence and sequence length in the corresponding windows size\n",
    "    sub_seq = seq_split(seq)\n",
    "    for frag in sub_seq:\n",
    "        frag_list_n = []\n",
    "        frag_lenghts = []\n",
    "        for n in frag:\n",
    "            l = len(n)\n",
    "            frag_lenghts.append(l)\n",
    "            count_n = n.count('n')\n",
    "            percent_n = (float(count_n/l))*100\n",
    "            frag_list_n.append(percent_n)\n",
    "            n_n = list(chain.from_iterable([i] * int(round(j * 1)) for i, j in zip(frag_list_n, frag_lenghts)))\n",
    "            percent_array_n = np.asarray(n_n)\n",
    "    return percent_array_n"
   ]
  },
  {
   "cell_type": "code",
   "execution_count": null,
   "metadata": {
    "collapsed": true
   },
   "outputs": [],
   "source": [
    "def X_counter(seq):\n",
    "#Count X% for the sequence and sequence length in the corresponding windows size\n",
    "    sub_seq = seq_split(seq)\n",
    "    for frag in sub_seq:\n",
    "        frag_list_x = []\n",
    "        frag_lenghts = []\n",
    "        for n in frag:\n",
    "            l = len(n)\n",
    "            frag_lenghts.append(l)\n",
    "            count_x = n.count('n')\n",
    "            percent_x = (float(count_x/l))*100\n",
    "            frag_list_x.append(percent_x)\n",
    "            n_x = list(chain.from_iterable([i] * int(round(j * 1)) for i, j in zip(frag_list_x, frag_lenghts)))\n",
    "            percent_array_x = np.asarray(n_x)\n",
    "    return percent_array_x"
   ]
  },
  {
   "cell_type": "code",
   "execution_count": null,
   "metadata": {
    "collapsed": false
   },
   "outputs": [],
   "source": [
    "def plotly(nucleo):\n",
    "#Builds a plot using the calculated% for the corresponding window position, \n",
    "#creates different tracks for each %,\n",
    "#and allows to focus on a given position range\n",
    "    for seq in nucleotides:\n",
    "        AT_cnt_arr = AT_counter(seq)\n",
    "        GC_cnt_arr = GC_counter(seq)\n",
    "        N_cnt_arr = N_counter(seq)\n",
    "        X_cnt_arr = X_counter(seq)\n",
    "        pos_arr = positioner(seq)\n",
    "        \n",
    "        \n",
    "        AT_trace = Scatter(\n",
    "        y = AT_cnt_arr,\n",
    "        x = pos_arr,\n",
    "        name='AT content',\n",
    "        line = dict(color = ('rgb(3,141,243)'))) #Blue\n",
    "        \n",
    "        \n",
    "        GC_trace = Scatter(\n",
    "        y = GC_cnt_arr,\n",
    "        x = pos_arr,\n",
    "        name='GC content',\n",
    "        line = dict(color = ('rgb(64,182,77)'))) #Green\n",
    "        \n",
    "        N_trace = Scatter(\n",
    "        y = N_cnt_arr,\n",
    "        x = pos_arr,\n",
    "        name='N content',\n",
    "        line = dict(color = ('rgb(243,145,3)'))) #Orange\n",
    "        \n",
    "        X_trace = Scatter(\n",
    "        y = X_cnt_arr,\n",
    "        x = pos_arr,\n",
    "        name='X content',\n",
    "        line = dict(color = ('rgb(171,3,243)'))) #Purple\n",
    "        \n",
    "        data = [AT_trace, GC_trace, N_trace, X_trace]   \n",
    "\n",
    "        layout = dict(xaxis=dict(title='Sequence divided in '+ str(divide_seq_in) +' segments',rangeslider=dict()),yaxis=dict(title='Percentage'))\n",
    "        fig = dict(data=data, layout=layout)\n",
    "        iplot(fig)\n",
    "               \n",
    "    return\n",
    "\n",
    "\n",
    "plotly(nucleotides)\n"
   ]
  },
  {
   "cell_type": "code",
   "execution_count": null,
   "metadata": {
    "collapsed": true
   },
   "outputs": [],
   "source": []
  },
  {
   "cell_type": "code",
   "execution_count": null,
   "metadata": {
    "collapsed": true
   },
   "outputs": [],
   "source": []
  }
 ],
 "metadata": {
  "anaconda-cloud": {},
  "kernelspec": {
   "display_name": "Python [conda env:py35]",
   "language": "python",
   "name": "conda-env-py35-py"
  },
  "language_info": {
   "codemirror_mode": {
    "name": "ipython",
    "version": 3
   },
   "file_extension": ".py",
   "mimetype": "text/x-python",
   "name": "python",
   "nbconvert_exporter": "python",
   "pygments_lexer": "ipython3",
   "version": "3.5.2"
  }
 },
 "nbformat": 4,
 "nbformat_minor": 1
}
