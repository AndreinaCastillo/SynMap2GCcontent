{
 "cells": [
  {
   "cell_type": "code",
   "execution_count": 222,
   "metadata": {
    "collapsed": false
   },
   "outputs": [
    {
     "data": {
      "text/html": [
       "<script>requirejs.config({paths: { 'plotly': ['https://cdn.plot.ly/plotly-latest.min']},});if(!window.Plotly) {{require(['plotly'],function(plotly) {window.Plotly=plotly;});}}</script>"
      ],
      "text/plain": [
       "<IPython.core.display.HTML object>"
      ]
     },
     "metadata": {},
     "output_type": "display_data"
    },
    {
     "data": {
      "text/html": [
       "<div id=\"6ee1a754-df7c-4542-ba0d-572723cfce4a\" style=\"height: 525px; width: 100%;\" class=\"plotly-graph-div\"></div><script type=\"text/javascript\">require([\"plotly\"], function(Plotly) { window.PLOTLYENV=window.PLOTLYENV || {};window.PLOTLYENV.BASE_URL=\"https://plot.ly\";Plotly.newPlot(\"6ee1a754-df7c-4542-ba0d-572723cfce4a\", [{\"x\": [1, 2, 3, 4, 5, 6, 7, 8, 9, 10, 11, 12, 13, 14, 15, 16, 17, 18, 19, 20, 21, 22, 23, 24, 25, 26, 27, 28, 29, 30], \"type\": \"scatter\", \"y\": [33.33333333333333, 66.66666666666666, 66.66666666666666, 66.66666666666666, 33.33333333333333, 0.0, 33.33333333333333, 66.66666666666666, 100.0, 100.0, 66.66666666666666, 33.33333333333333, 0.0, 0.0, 0.0, 33.33333333333333, 33.33333333333333, 66.66666666666666, 66.66666666666666, 66.66666666666666, 33.33333333333333, 0.0, 0.0, 0.0, 33.33333333333333, 66.66666666666666, 66.66666666666666, 66.66666666666666], \"line\": {\"color\": \"rgb(3,141,243)\"}, \"name\": \"AT content\"}, {\"x\": [1, 2, 3, 4, 5, 6, 7, 8, 9, 10, 11, 12, 13, 14, 15, 16, 17, 18, 19, 20, 21, 22, 23, 24, 25, 26, 27, 28, 29, 30], \"type\": \"scatter\", \"y\": [66.66666666666666, 33.33333333333333, 33.33333333333333, 33.33333333333333, 66.66666666666666, 100.0, 66.66666666666666, 33.33333333333333, 0.0, 0.0, 0.0, 0.0, 33.33333333333333, 66.66666666666666, 100.0, 66.66666666666666, 66.66666666666666, 33.33333333333333, 33.33333333333333, 33.33333333333333, 66.66666666666666, 100.0, 100.0, 100.0, 66.66666666666666, 33.33333333333333, 33.33333333333333, 33.33333333333333], \"line\": {\"color\": \"rgb(64,182,77)\"}, \"name\": \"GC content\"}, {\"x\": [1, 2, 3, 4, 5, 6, 7, 8, 9, 10, 11, 12, 13, 14, 15, 16, 17, 18, 19, 20, 21, 22, 23, 24, 25, 26, 27, 28, 29, 30], \"type\": \"scatter\", \"y\": [0.0, 0.0, 0.0, 0.0, 0.0, 0.0, 0.0, 0.0, 0.0, 0.0, 33.33333333333333, 66.66666666666666, 66.66666666666666, 33.33333333333333, 0.0, 0.0, 0.0, 0.0, 0.0, 0.0, 0.0, 0.0, 0.0, 0.0, 0.0, 0.0, 0.0, 0.0], \"line\": {\"color\": \"rgb(243,145,3)\"}, \"name\": \"N content\"}, {\"x\": [1, 2, 3, 4, 5, 6, 7, 8, 9, 10, 11, 12, 13, 14, 15, 16, 17, 18, 19, 20, 21, 22, 23, 24, 25, 26, 27, 28, 29, 30], \"type\": \"scatter\", \"y\": [0.0, 0.0, 0.0, 0.0, 0.0, 0.0, 0.0, 0.0, 0.0, 0.0, 0.0, 0.0, 0.0, 0.0, 0.0, 0.0, 0.0, 0.0, 0.0, 0.0, 0.0, 0.0, 0.0, 0.0, 0.0, 0.0, 0.0, 0.0], \"line\": {\"color\": \"rgb(171,3,243)\"}, \"name\": \"X content\"}], {\"xaxis\": {\"title\": \"Window iteration\", \"rangeslider\": {}}, \"title\": \"Sliding window for >lcl|:_1\", \"yaxis\": {\"title\": \"Percentage (%)\"}}, {\"showLink\": true, \"linkText\": \"Export to plot.ly\"})});</script>"
      ],
      "text/plain": [
       "<IPython.core.display.HTML object>"
      ]
     },
     "metadata": {},
     "output_type": "display_data"
    },
    {
     "data": {
      "text/html": [
       "<div id=\"d02c0abf-9b6f-47fe-aa5f-c289a14dd2e4\" style=\"height: 525px; width: 100%;\" class=\"plotly-graph-div\"></div><script type=\"text/javascript\">require([\"plotly\"], function(Plotly) { window.PLOTLYENV=window.PLOTLYENV || {};window.PLOTLYENV.BASE_URL=\"https://plot.ly\";Plotly.newPlot(\"d02c0abf-9b6f-47fe-aa5f-c289a14dd2e4\", [{\"x\": [1, 2, 3, 4, 5, 6, 7, 8, 9, 10, 11, 12, 13, 14, 15, 16, 17, 18, 19], \"type\": \"scatter\", \"y\": [100.0, 100.0, 100.0, 100.0, 100.0, 100.0, 100.0, 100.0, 100.0, 100.0, 100.0, 100.0, 100.0, 100.0, 100.0, 100.0, 100.0], \"line\": {\"color\": \"rgb(3,141,243)\"}, \"name\": \"AT content\"}, {\"x\": [1, 2, 3, 4, 5, 6, 7, 8, 9, 10, 11, 12, 13, 14, 15, 16, 17, 18, 19], \"type\": \"scatter\", \"y\": [0.0, 0.0, 0.0, 0.0, 0.0, 0.0, 0.0, 0.0, 0.0, 0.0, 0.0, 0.0, 0.0, 0.0, 0.0, 0.0, 0.0], \"line\": {\"color\": \"rgb(64,182,77)\"}, \"name\": \"GC content\"}, {\"x\": [1, 2, 3, 4, 5, 6, 7, 8, 9, 10, 11, 12, 13, 14, 15, 16, 17, 18, 19], \"type\": \"scatter\", \"y\": [0.0, 0.0, 0.0, 0.0, 0.0, 0.0, 0.0, 0.0, 0.0, 0.0, 0.0, 0.0, 0.0, 0.0, 0.0, 0.0, 0.0], \"line\": {\"color\": \"rgb(243,145,3)\"}, \"name\": \"N content\"}, {\"x\": [1, 2, 3, 4, 5, 6, 7, 8, 9, 10, 11, 12, 13, 14, 15, 16, 17, 18, 19], \"type\": \"scatter\", \"y\": [0.0, 0.0, 0.0, 0.0, 0.0, 0.0, 0.0, 0.0, 0.0, 0.0, 0.0, 0.0, 0.0, 0.0, 0.0, 0.0, 0.0], \"line\": {\"color\": \"rgb(171,3,243)\"}, \"name\": \"X content\"}], {\"xaxis\": {\"title\": \"Window iteration\", \"rangeslider\": {}}, \"title\": \"Sliding window for >lcl|:_2\", \"yaxis\": {\"title\": \"Percentage (%)\"}}, {\"showLink\": true, \"linkText\": \"Export to plot.ly\"})});</script>"
      ],
      "text/plain": [
       "<IPython.core.display.HTML object>"
      ]
     },
     "metadata": {},
     "output_type": "display_data"
    },
    {
     "data": {
      "text/html": [
       "<div id=\"73bced11-2360-4e5c-acde-1e5cee517d1b\" style=\"height: 525px; width: 100%;\" class=\"plotly-graph-div\"></div><script type=\"text/javascript\">require([\"plotly\"], function(Plotly) { window.PLOTLYENV=window.PLOTLYENV || {};window.PLOTLYENV.BASE_URL=\"https://plot.ly\";Plotly.newPlot(\"73bced11-2360-4e5c-acde-1e5cee517d1b\", [{\"x\": [1, 2, 3, 4, 5, 6, 7, 8, 9, 10, 11, 12, 13, 14, 15, 16, 17, 18, 19, 20, 21, 22], \"type\": \"scatter\", \"y\": [66.66666666666666, 33.33333333333333, 0.0, 33.33333333333333, 66.66666666666666, 100.0, 100.0, 66.66666666666666, 33.33333333333333, 0.0, 33.33333333333333, 66.66666666666666, 100.0, 100.0, 66.66666666666666, 33.33333333333333, 0.0, 0.0, 0.0, 0.0], \"line\": {\"color\": \"rgb(3,141,243)\"}, \"name\": \"AT content\"}, {\"x\": [1, 2, 3, 4, 5, 6, 7, 8, 9, 10, 11, 12, 13, 14, 15, 16, 17, 18, 19, 20, 21, 22], \"type\": \"scatter\", \"y\": [33.33333333333333, 66.66666666666666, 100.0, 66.66666666666666, 33.33333333333333, 0.0, 0.0, 33.33333333333333, 66.66666666666666, 100.0, 66.66666666666666, 33.33333333333333, 0.0, 0.0, 33.33333333333333, 66.66666666666666, 100.0, 100.0, 100.0, 100.0], \"line\": {\"color\": \"rgb(64,182,77)\"}, \"name\": \"GC content\"}, {\"x\": [1, 2, 3, 4, 5, 6, 7, 8, 9, 10, 11, 12, 13, 14, 15, 16, 17, 18, 19, 20, 21, 22], \"type\": \"scatter\", \"y\": [0.0, 0.0, 0.0, 0.0, 0.0, 0.0, 0.0, 0.0, 0.0, 0.0, 0.0, 0.0, 0.0, 0.0, 0.0, 0.0, 0.0, 0.0, 0.0, 0.0], \"line\": {\"color\": \"rgb(243,145,3)\"}, \"name\": \"N content\"}, {\"x\": [1, 2, 3, 4, 5, 6, 7, 8, 9, 10, 11, 12, 13, 14, 15, 16, 17, 18, 19, 20, 21, 22], \"type\": \"scatter\", \"y\": [0.0, 0.0, 0.0, 0.0, 0.0, 0.0, 0.0, 0.0, 0.0, 0.0, 0.0, 0.0, 0.0, 0.0, 0.0, 0.0, 0.0, 0.0, 0.0, 0.0], \"line\": {\"color\": \"rgb(171,3,243)\"}, \"name\": \"X content\"}], {\"xaxis\": {\"title\": \"Window iteration\", \"rangeslider\": {}}, \"title\": \"Sliding window for >lcl|:_3\", \"yaxis\": {\"title\": \"Percentage (%)\"}}, {\"showLink\": true, \"linkText\": \"Export to plot.ly\"})});</script>"
      ],
      "text/plain": [
       "<IPython.core.display.HTML object>"
      ]
     },
     "metadata": {},
     "output_type": "display_data"
    },
    {
     "data": {
      "text/html": [
       "<div id=\"702c8157-8eff-42f3-a41d-0566a2701a9d\" style=\"height: 525px; width: 100%;\" class=\"plotly-graph-div\"></div><script type=\"text/javascript\">require([\"plotly\"], function(Plotly) { window.PLOTLYENV=window.PLOTLYENV || {};window.PLOTLYENV.BASE_URL=\"https://plot.ly\";Plotly.newPlot(\"702c8157-8eff-42f3-a41d-0566a2701a9d\", [{\"x\": [1, 2, 3, 4, 5, 6, 7, 8, 9, 10, 11, 12, 13, 14, 15, 16, 17], \"type\": \"scatter\", \"y\": [100.0, 100.0, 100.0, 100.0, 100.0, 100.0, 100.0, 100.0, 100.0, 100.0, 100.0, 100.0, 100.0, 66.66666666666666, 66.66666666666666], \"line\": {\"color\": \"rgb(3,141,243)\"}, \"name\": \"AT content\"}, {\"x\": [1, 2, 3, 4, 5, 6, 7, 8, 9, 10, 11, 12, 13, 14, 15, 16, 17], \"type\": \"scatter\", \"y\": [0.0, 0.0, 0.0, 0.0, 0.0, 0.0, 0.0, 0.0, 0.0, 0.0, 0.0, 0.0, 0.0, 33.33333333333333, 33.33333333333333], \"line\": {\"color\": \"rgb(64,182,77)\"}, \"name\": \"GC content\"}, {\"x\": [1, 2, 3, 4, 5, 6, 7, 8, 9, 10, 11, 12, 13, 14, 15, 16, 17], \"type\": \"scatter\", \"y\": [0.0, 0.0, 0.0, 0.0, 0.0, 0.0, 0.0, 0.0, 0.0, 0.0, 0.0, 0.0, 0.0, 0.0, 0.0], \"line\": {\"color\": \"rgb(243,145,3)\"}, \"name\": \"N content\"}, {\"x\": [1, 2, 3, 4, 5, 6, 7, 8, 9, 10, 11, 12, 13, 14, 15, 16, 17], \"type\": \"scatter\", \"y\": [0.0, 0.0, 0.0, 0.0, 0.0, 0.0, 0.0, 0.0, 0.0, 0.0, 0.0, 0.0, 0.0, 0.0, 0.0], \"line\": {\"color\": \"rgb(171,3,243)\"}, \"name\": \"X content\"}], {\"xaxis\": {\"title\": \"Window iteration\", \"rangeslider\": {}}, \"title\": \"Sliding window for >lcl|:_4\", \"yaxis\": {\"title\": \"Percentage (%)\"}}, {\"showLink\": true, \"linkText\": \"Export to plot.ly\"})});</script>"
      ],
      "text/plain": [
       "<IPython.core.display.HTML object>"
      ]
     },
     "metadata": {},
     "output_type": "display_data"
    },
    {
     "data": {
      "text/html": [
       "<div id=\"e44750c0-d77a-412d-97c0-af5db6f5daea\" style=\"height: 525px; width: 100%;\" class=\"plotly-graph-div\"></div><script type=\"text/javascript\">require([\"plotly\"], function(Plotly) { window.PLOTLYENV=window.PLOTLYENV || {};window.PLOTLYENV.BASE_URL=\"https://plot.ly\";Plotly.newPlot(\"e44750c0-d77a-412d-97c0-af5db6f5daea\", [{\"x\": [1, 2, 3, 4, 5, 6, 7, 8, 9, 10, 11, 12, 13, 14, 15, 16, 17, 18, 19], \"type\": \"scatter\", \"y\": [100.0, 66.66666666666666, 33.33333333333333, 0.0, 33.33333333333333, 66.66666666666666, 100.0, 100.0, 66.66666666666666, 33.33333333333333, 0.0, 33.33333333333333, 33.33333333333333, 66.66666666666666, 66.66666666666666, 66.66666666666666, 33.33333333333333], \"line\": {\"color\": \"rgb(3,141,243)\"}, \"name\": \"AT content\"}, {\"x\": [1, 2, 3, 4, 5, 6, 7, 8, 9, 10, 11, 12, 13, 14, 15, 16, 17, 18, 19], \"type\": \"scatter\", \"y\": [0.0, 33.33333333333333, 66.66666666666666, 100.0, 66.66666666666666, 33.33333333333333, 0.0, 0.0, 33.33333333333333, 66.66666666666666, 100.0, 66.66666666666666, 66.66666666666666, 33.33333333333333, 33.33333333333333, 33.33333333333333, 66.66666666666666], \"line\": {\"color\": \"rgb(64,182,77)\"}, \"name\": \"GC content\"}, {\"x\": [1, 2, 3, 4, 5, 6, 7, 8, 9, 10, 11, 12, 13, 14, 15, 16, 17, 18, 19], \"type\": \"scatter\", \"y\": [0.0, 0.0, 0.0, 0.0, 0.0, 0.0, 0.0, 0.0, 0.0, 0.0, 0.0, 0.0, 0.0, 0.0, 0.0, 0.0, 0.0], \"line\": {\"color\": \"rgb(243,145,3)\"}, \"name\": \"N content\"}, {\"x\": [1, 2, 3, 4, 5, 6, 7, 8, 9, 10, 11, 12, 13, 14, 15, 16, 17, 18, 19], \"type\": \"scatter\", \"y\": [0.0, 0.0, 0.0, 0.0, 0.0, 0.0, 0.0, 0.0, 0.0, 0.0, 0.0, 0.0, 0.0, 0.0, 0.0, 0.0, 0.0], \"line\": {\"color\": \"rgb(171,3,243)\"}, \"name\": \"X content\"}], {\"xaxis\": {\"title\": \"Window iteration\", \"rangeslider\": {}}, \"title\": \"Sliding window for >lcl|:_5\", \"yaxis\": {\"title\": \"Percentage (%)\"}}, {\"showLink\": true, \"linkText\": \"Export to plot.ly\"})});</script>"
      ],
      "text/plain": [
       "<IPython.core.display.HTML object>"
      ]
     },
     "metadata": {},
     "output_type": "display_data"
    },
    {
     "data": {
      "text/html": [
       "<div id=\"e4ff32af-ba60-41a1-a82a-bd2e318d90ef\" style=\"height: 525px; width: 100%;\" class=\"plotly-graph-div\"></div><script type=\"text/javascript\">require([\"plotly\"], function(Plotly) { window.PLOTLYENV=window.PLOTLYENV || {};window.PLOTLYENV.BASE_URL=\"https://plot.ly\";Plotly.newPlot(\"e4ff32af-ba60-41a1-a82a-bd2e318d90ef\", [{\"x\": [1, 2, 3, 4, 5, 6, 7, 8, 9, 10, 11, 12, 13, 14, 15, 16, 17, 18, 19, 20, 21], \"type\": \"scatter\", \"y\": [33.33333333333333, 33.33333333333333, 66.66666666666666, 66.66666666666666, 66.66666666666666, 33.33333333333333, 0.0, 0.0, 0.0, 33.33333333333333, 66.66666666666666, 100.0, 100.0, 66.66666666666666, 33.33333333333333, 0.0, 33.33333333333333, 66.66666666666666, 100.0], \"line\": {\"color\": \"rgb(3,141,243)\"}, \"name\": \"AT content\"}, {\"x\": [1, 2, 3, 4, 5, 6, 7, 8, 9, 10, 11, 12, 13, 14, 15, 16, 17, 18, 19, 20, 21], \"type\": \"scatter\", \"y\": [66.66666666666666, 66.66666666666666, 33.33333333333333, 33.33333333333333, 0.0, 0.0, 33.33333333333333, 66.66666666666666, 100.0, 66.66666666666666, 33.33333333333333, 0.0, 0.0, 33.33333333333333, 66.66666666666666, 100.0, 66.66666666666666, 33.33333333333333, 0.0], \"line\": {\"color\": \"rgb(64,182,77)\"}, \"name\": \"GC content\"}, {\"x\": [1, 2, 3, 4, 5, 6, 7, 8, 9, 10, 11, 12, 13, 14, 15, 16, 17, 18, 19, 20, 21], \"type\": \"scatter\", \"y\": [0.0, 0.0, 0.0, 0.0, 0.0, 0.0, 0.0, 0.0, 0.0, 0.0, 0.0, 0.0, 0.0, 0.0, 0.0, 0.0, 0.0, 0.0, 0.0], \"line\": {\"color\": \"rgb(243,145,3)\"}, \"name\": \"N content\"}, {\"x\": [1, 2, 3, 4, 5, 6, 7, 8, 9, 10, 11, 12, 13, 14, 15, 16, 17, 18, 19, 20, 21], \"type\": \"scatter\", \"y\": [0.0, 0.0, 0.0, 0.0, 33.33333333333333, 66.66666666666666, 66.66666666666666, 33.33333333333333, 0.0, 0.0, 0.0, 0.0, 0.0, 0.0, 0.0, 0.0, 0.0, 0.0, 0.0], \"line\": {\"color\": \"rgb(171,3,243)\"}, \"name\": \"X content\"}], {\"xaxis\": {\"title\": \"Window iteration\", \"rangeslider\": {}}, \"title\": \"Sliding window for >lcl|:_6\", \"yaxis\": {\"title\": \"Percentage (%)\"}}, {\"showLink\": true, \"linkText\": \"Export to plot.ly\"})});</script>"
      ],
      "text/plain": [
       "<IPython.core.display.HTML object>"
      ]
     },
     "metadata": {},
     "output_type": "display_data"
    },
    {
     "data": {
      "text/html": [
       "<div id=\"df9f1155-1f98-466c-9d0a-cdd1b0d23122\" style=\"height: 525px; width: 100%;\" class=\"plotly-graph-div\"></div><script type=\"text/javascript\">require([\"plotly\"], function(Plotly) { window.PLOTLYENV=window.PLOTLYENV || {};window.PLOTLYENV.BASE_URL=\"https://plot.ly\";Plotly.newPlot(\"df9f1155-1f98-466c-9d0a-cdd1b0d23122\", [{\"x\": [1, 2, 3, 4, 5, 6, 7, 8, 9, 10, 11, 12, 13, 14, 15, 16, 17, 18, 19], \"type\": \"scatter\", \"y\": [33.33333333333333, 0.0, 33.33333333333333, 66.66666666666666, 100.0, 100.0, 66.66666666666666, 33.33333333333333, 0.0, 33.33333333333333, 66.66666666666666, 100.0, 100.0, 66.66666666666666, 33.33333333333333, 0.0, 33.33333333333333], \"line\": {\"color\": \"rgb(3,141,243)\"}, \"name\": \"AT content\"}, {\"x\": [1, 2, 3, 4, 5, 6, 7, 8, 9, 10, 11, 12, 13, 14, 15, 16, 17, 18, 19], \"type\": \"scatter\", \"y\": [66.66666666666666, 100.0, 66.66666666666666, 33.33333333333333, 0.0, 0.0, 33.33333333333333, 66.66666666666666, 100.0, 66.66666666666666, 33.33333333333333, 0.0, 0.0, 33.33333333333333, 66.66666666666666, 100.0, 66.66666666666666], \"line\": {\"color\": \"rgb(64,182,77)\"}, \"name\": \"GC content\"}, {\"x\": [1, 2, 3, 4, 5, 6, 7, 8, 9, 10, 11, 12, 13, 14, 15, 16, 17, 18, 19], \"type\": \"scatter\", \"y\": [0.0, 0.0, 0.0, 0.0, 0.0, 0.0, 0.0, 0.0, 0.0, 0.0, 0.0, 0.0, 0.0, 0.0, 0.0, 0.0, 0.0], \"line\": {\"color\": \"rgb(243,145,3)\"}, \"name\": \"N content\"}, {\"x\": [1, 2, 3, 4, 5, 6, 7, 8, 9, 10, 11, 12, 13, 14, 15, 16, 17, 18, 19], \"type\": \"scatter\", \"y\": [0.0, 0.0, 0.0, 0.0, 0.0, 0.0, 0.0, 0.0, 0.0, 0.0, 0.0, 0.0, 0.0, 0.0, 0.0, 0.0, 0.0], \"line\": {\"color\": \"rgb(171,3,243)\"}, \"name\": \"X content\"}], {\"xaxis\": {\"title\": \"Window iteration\", \"rangeslider\": {}}, \"title\": \"Sliding window for >lcl|:_7\", \"yaxis\": {\"title\": \"Percentage (%)\"}}, {\"showLink\": true, \"linkText\": \"Export to plot.ly\"})});</script>"
      ],
      "text/plain": [
       "<IPython.core.display.HTML object>"
      ]
     },
     "metadata": {},
     "output_type": "display_data"
    },
    {
     "data": {
      "text/html": [
       "<div id=\"9a763672-a3a1-45a7-a5b4-eb74dc0e758a\" style=\"height: 525px; width: 100%;\" class=\"plotly-graph-div\"></div><script type=\"text/javascript\">require([\"plotly\"], function(Plotly) { window.PLOTLYENV=window.PLOTLYENV || {};window.PLOTLYENV.BASE_URL=\"https://plot.ly\";Plotly.newPlot(\"9a763672-a3a1-45a7-a5b4-eb74dc0e758a\", [{\"x\": [1, 2, 3, 4, 5, 6, 7, 8, 9, 10, 11, 12, 13, 14, 15, 16, 17, 18, 19], \"type\": \"scatter\", \"y\": [66.66666666666666, 100.0, 100.0, 66.66666666666666, 66.66666666666666, 33.33333333333333, 66.66666666666666, 66.66666666666666, 100.0, 100.0, 100.0, 100.0, 66.66666666666666, 66.66666666666666, 33.33333333333333, 66.66666666666666, 33.33333333333333], \"line\": {\"color\": \"rgb(3,141,243)\"}, \"name\": \"AT content\"}, {\"x\": [1, 2, 3, 4, 5, 6, 7, 8, 9, 10, 11, 12, 13, 14, 15, 16, 17, 18, 19], \"type\": \"scatter\", \"y\": [33.33333333333333, 0.0, 0.0, 33.33333333333333, 33.33333333333333, 66.66666666666666, 33.33333333333333, 33.33333333333333, 0.0, 0.0, 0.0, 0.0, 33.33333333333333, 33.33333333333333, 66.66666666666666, 33.33333333333333, 66.66666666666666], \"line\": {\"color\": \"rgb(64,182,77)\"}, \"name\": \"GC content\"}, {\"x\": [1, 2, 3, 4, 5, 6, 7, 8, 9, 10, 11, 12, 13, 14, 15, 16, 17, 18, 19], \"type\": \"scatter\", \"y\": [0.0, 0.0, 0.0, 0.0, 0.0, 0.0, 0.0, 0.0, 0.0, 0.0, 0.0, 0.0, 0.0, 0.0, 0.0, 0.0, 0.0], \"line\": {\"color\": \"rgb(243,145,3)\"}, \"name\": \"N content\"}, {\"x\": [1, 2, 3, 4, 5, 6, 7, 8, 9, 10, 11, 12, 13, 14, 15, 16, 17, 18, 19], \"type\": \"scatter\", \"y\": [0.0, 0.0, 0.0, 0.0, 0.0, 0.0, 0.0, 0.0, 0.0, 0.0, 0.0, 0.0, 0.0, 0.0, 0.0, 0.0, 0.0], \"line\": {\"color\": \"rgb(171,3,243)\"}, \"name\": \"X content\"}], {\"xaxis\": {\"title\": \"Window iteration\", \"rangeslider\": {}}, \"title\": \"Sliding window for >lcl|:_8\", \"yaxis\": {\"title\": \"Percentage (%)\"}}, {\"showLink\": true, \"linkText\": \"Export to plot.ly\"})});</script>"
      ],
      "text/plain": [
       "<IPython.core.display.HTML object>"
      ]
     },
     "metadata": {},
     "output_type": "display_data"
    },
    {
     "data": {
      "text/html": [
       "<div id=\"5302475c-7c9e-4cd8-a862-f4f299591a93\" style=\"height: 525px; width: 100%;\" class=\"plotly-graph-div\"></div><script type=\"text/javascript\">require([\"plotly\"], function(Plotly) { window.PLOTLYENV=window.PLOTLYENV || {};window.PLOTLYENV.BASE_URL=\"https://plot.ly\";Plotly.newPlot(\"5302475c-7c9e-4cd8-a862-f4f299591a93\", [{\"x\": [1, 2, 3, 4, 5, 6, 7, 8, 9, 10, 11, 12, 13, 14, 15, 16, 17, 18, 19], \"type\": \"scatter\", \"y\": [66.66666666666666, 66.66666666666666, 66.66666666666666, 66.66666666666666, 66.66666666666666, 100.0, 66.66666666666666, 66.66666666666666, 33.33333333333333, 66.66666666666666, 66.66666666666666, 100.0, 100.0, 100.0, 100.0, 100.0, 66.66666666666666], \"line\": {\"color\": \"rgb(3,141,243)\"}, \"name\": \"AT content\"}, {\"x\": [1, 2, 3, 4, 5, 6, 7, 8, 9, 10, 11, 12, 13, 14, 15, 16, 17, 18, 19], \"type\": \"scatter\", \"y\": [33.33333333333333, 33.33333333333333, 33.33333333333333, 33.33333333333333, 33.33333333333333, 0.0, 33.33333333333333, 33.33333333333333, 66.66666666666666, 33.33333333333333, 33.33333333333333, 0.0, 0.0, 0.0, 0.0, 0.0, 33.33333333333333], \"line\": {\"color\": \"rgb(64,182,77)\"}, \"name\": \"GC content\"}, {\"x\": [1, 2, 3, 4, 5, 6, 7, 8, 9, 10, 11, 12, 13, 14, 15, 16, 17, 18, 19], \"type\": \"scatter\", \"y\": [0.0, 0.0, 0.0, 0.0, 0.0, 0.0, 0.0, 0.0, 0.0, 0.0, 0.0, 0.0, 0.0, 0.0, 0.0, 0.0, 0.0], \"line\": {\"color\": \"rgb(243,145,3)\"}, \"name\": \"N content\"}, {\"x\": [1, 2, 3, 4, 5, 6, 7, 8, 9, 10, 11, 12, 13, 14, 15, 16, 17, 18, 19], \"type\": \"scatter\", \"y\": [0.0, 0.0, 0.0, 0.0, 0.0, 0.0, 0.0, 0.0, 0.0, 0.0, 0.0, 0.0, 0.0, 0.0, 0.0, 0.0, 0.0], \"line\": {\"color\": \"rgb(171,3,243)\"}, \"name\": \"X content\"}], {\"xaxis\": {\"title\": \"Window iteration\", \"rangeslider\": {}}, \"title\": \"Sliding window for >lcl|:_9\", \"yaxis\": {\"title\": \"Percentage (%)\"}}, {\"showLink\": true, \"linkText\": \"Export to plot.ly\"})});</script>"
      ],
      "text/plain": [
       "<IPython.core.display.HTML object>"
      ]
     },
     "metadata": {},
     "output_type": "display_data"
    },
    {
     "data": {
      "text/html": [
       "<div id=\"7a4dbf68-6bb6-4273-95a7-e02f81a0443d\" style=\"height: 525px; width: 100%;\" class=\"plotly-graph-div\"></div><script type=\"text/javascript\">require([\"plotly\"], function(Plotly) { window.PLOTLYENV=window.PLOTLYENV || {};window.PLOTLYENV.BASE_URL=\"https://plot.ly\";Plotly.newPlot(\"7a4dbf68-6bb6-4273-95a7-e02f81a0443d\", [{\"x\": [1, 2, 3, 4, 5, 6, 7, 8, 9, 10, 11, 12, 13, 14, 15, 16, 17, 18, 19], \"type\": \"scatter\", \"y\": [66.66666666666666, 33.33333333333333, 0.0, 33.33333333333333, 66.66666666666666, 100.0, 100.0, 66.66666666666666, 33.33333333333333, 0.0, 33.33333333333333, 33.33333333333333, 66.66666666666666, 66.66666666666666, 100.0, 66.66666666666666, 33.33333333333333], \"line\": {\"color\": \"rgb(3,141,243)\"}, \"name\": \"AT content\"}, {\"x\": [1, 2, 3, 4, 5, 6, 7, 8, 9, 10, 11, 12, 13, 14, 15, 16, 17, 18, 19], \"type\": \"scatter\", \"y\": [33.33333333333333, 66.66666666666666, 100.0, 66.66666666666666, 33.33333333333333, 0.0, 0.0, 33.33333333333333, 66.66666666666666, 100.0, 66.66666666666666, 66.66666666666666, 33.33333333333333, 33.33333333333333, 0.0, 33.33333333333333, 66.66666666666666], \"line\": {\"color\": \"rgb(64,182,77)\"}, \"name\": \"GC content\"}, {\"x\": [1, 2, 3, 4, 5, 6, 7, 8, 9, 10, 11, 12, 13, 14, 15, 16, 17, 18, 19], \"type\": \"scatter\", \"y\": [0.0, 0.0, 0.0, 0.0, 0.0, 0.0, 0.0, 0.0, 0.0, 0.0, 0.0, 0.0, 0.0, 0.0, 0.0, 0.0, 0.0], \"line\": {\"color\": \"rgb(243,145,3)\"}, \"name\": \"N content\"}, {\"x\": [1, 2, 3, 4, 5, 6, 7, 8, 9, 10, 11, 12, 13, 14, 15, 16, 17, 18, 19], \"type\": \"scatter\", \"y\": [0.0, 0.0, 0.0, 0.0, 0.0, 0.0, 0.0, 0.0, 0.0, 0.0, 0.0, 0.0, 0.0, 0.0, 0.0, 0.0, 0.0], \"line\": {\"color\": \"rgb(171,3,243)\"}, \"name\": \"X content\"}], {\"xaxis\": {\"title\": \"Window iteration\", \"rangeslider\": {}}, \"title\": \"Sliding window for >lcl|:_10\", \"yaxis\": {\"title\": \"Percentage (%)\"}}, {\"showLink\": true, \"linkText\": \"Export to plot.ly\"})});</script>"
      ],
      "text/plain": [
       "<IPython.core.display.HTML object>"
      ]
     },
     "metadata": {},
     "output_type": "display_data"
    },
    {
     "data": {
      "text/html": [
       "<div id=\"15aee3fd-5d73-4411-9072-8f98cf412ee4\" style=\"height: 525px; width: 100%;\" class=\"plotly-graph-div\"></div><script type=\"text/javascript\">require([\"plotly\"], function(Plotly) { window.PLOTLYENV=window.PLOTLYENV || {};window.PLOTLYENV.BASE_URL=\"https://plot.ly\";Plotly.newPlot(\"15aee3fd-5d73-4411-9072-8f98cf412ee4\", [{\"x\": [1, 2, 3, 4, 5, 6, 7, 8, 9, 10, 11, 12, 13, 14, 15, 16, 17, 18, 19], \"type\": \"scatter\", \"y\": [33.33333333333333, 0.0, 33.33333333333333, 66.66666666666666, 100.0, 100.0, 66.66666666666666, 33.33333333333333, 0.0, 33.33333333333333, 66.66666666666666, 100.0, 100.0, 66.66666666666666, 33.33333333333333, 0.0, 33.33333333333333], \"line\": {\"color\": \"rgb(3,141,243)\"}, \"name\": \"AT content\"}, {\"x\": [1, 2, 3, 4, 5, 6, 7, 8, 9, 10, 11, 12, 13, 14, 15, 16, 17, 18, 19], \"type\": \"scatter\", \"y\": [66.66666666666666, 100.0, 66.66666666666666, 33.33333333333333, 0.0, 0.0, 33.33333333333333, 66.66666666666666, 100.0, 66.66666666666666, 33.33333333333333, 0.0, 0.0, 33.33333333333333, 66.66666666666666, 100.0, 66.66666666666666], \"line\": {\"color\": \"rgb(64,182,77)\"}, \"name\": \"GC content\"}, {\"x\": [1, 2, 3, 4, 5, 6, 7, 8, 9, 10, 11, 12, 13, 14, 15, 16, 17, 18, 19], \"type\": \"scatter\", \"y\": [0.0, 0.0, 0.0, 0.0, 0.0, 0.0, 0.0, 0.0, 0.0, 0.0, 0.0, 0.0, 0.0, 0.0, 0.0, 0.0, 0.0], \"line\": {\"color\": \"rgb(243,145,3)\"}, \"name\": \"N content\"}, {\"x\": [1, 2, 3, 4, 5, 6, 7, 8, 9, 10, 11, 12, 13, 14, 15, 16, 17, 18, 19], \"type\": \"scatter\", \"y\": [0.0, 0.0, 0.0, 0.0, 0.0, 0.0, 0.0, 0.0, 0.0, 0.0, 0.0, 0.0, 0.0, 0.0, 0.0, 0.0, 0.0], \"line\": {\"color\": \"rgb(171,3,243)\"}, \"name\": \"X content\"}], {\"xaxis\": {\"title\": \"Window iteration\", \"rangeslider\": {}}, \"title\": \"Sliding window for >lcl|:_11\", \"yaxis\": {\"title\": \"Percentage (%)\"}}, {\"showLink\": true, \"linkText\": \"Export to plot.ly\"})});</script>"
      ],
      "text/plain": [
       "<IPython.core.display.HTML object>"
      ]
     },
     "metadata": {},
     "output_type": "display_data"
    },
    {
     "data": {
      "text/html": [
       "<div id=\"d5766a54-e7c8-480d-903e-03ce491a107f\" style=\"height: 525px; width: 100%;\" class=\"plotly-graph-div\"></div><script type=\"text/javascript\">require([\"plotly\"], function(Plotly) { window.PLOTLYENV=window.PLOTLYENV || {};window.PLOTLYENV.BASE_URL=\"https://plot.ly\";Plotly.newPlot(\"d5766a54-e7c8-480d-903e-03ce491a107f\", [{\"x\": [1, 2, 3, 4, 5, 6, 7, 8, 9, 10, 11, 12, 13, 14, 15, 16, 17, 18, 19], \"type\": \"scatter\", \"y\": [66.66666666666666, 66.66666666666666, 66.66666666666666, 33.33333333333333, 0.0, 33.33333333333333, 66.66666666666666, 100.0, 100.0, 66.66666666666666, 33.33333333333333, 0.0, 33.33333333333333, 66.66666666666666, 100.0, 100.0, 66.66666666666666], \"line\": {\"color\": \"rgb(3,141,243)\"}, \"name\": \"AT content\"}, {\"x\": [1, 2, 3, 4, 5, 6, 7, 8, 9, 10, 11, 12, 13, 14, 15, 16, 17, 18, 19], \"type\": \"scatter\", \"y\": [33.33333333333333, 33.33333333333333, 33.33333333333333, 66.66666666666666, 100.0, 66.66666666666666, 33.33333333333333, 0.0, 0.0, 33.33333333333333, 66.66666666666666, 100.0, 66.66666666666666, 33.33333333333333, 0.0, 0.0, 33.33333333333333], \"line\": {\"color\": \"rgb(64,182,77)\"}, \"name\": \"GC content\"}, {\"x\": [1, 2, 3, 4, 5, 6, 7, 8, 9, 10, 11, 12, 13, 14, 15, 16, 17, 18, 19], \"type\": \"scatter\", \"y\": [0.0, 0.0, 0.0, 0.0, 0.0, 0.0, 0.0, 0.0, 0.0, 0.0, 0.0, 0.0, 0.0, 0.0, 0.0, 0.0, 0.0], \"line\": {\"color\": \"rgb(243,145,3)\"}, \"name\": \"N content\"}, {\"x\": [1, 2, 3, 4, 5, 6, 7, 8, 9, 10, 11, 12, 13, 14, 15, 16, 17, 18, 19], \"type\": \"scatter\", \"y\": [0.0, 0.0, 0.0, 0.0, 0.0, 0.0, 0.0, 0.0, 0.0, 0.0, 0.0, 0.0, 0.0, 0.0, 0.0, 0.0, 0.0], \"line\": {\"color\": \"rgb(171,3,243)\"}, \"name\": \"X content\"}], {\"xaxis\": {\"title\": \"Window iteration\", \"rangeslider\": {}}, \"title\": \"Sliding window for >lcl|:_12\", \"yaxis\": {\"title\": \"Percentage (%)\"}}, {\"showLink\": true, \"linkText\": \"Export to plot.ly\"})});</script>"
      ],
      "text/plain": [
       "<IPython.core.display.HTML object>"
      ]
     },
     "metadata": {},
     "output_type": "display_data"
    },
    {
     "data": {
      "text/html": [
       "<div id=\"038d10ef-48a8-4245-b765-45486f8a050b\" style=\"height: 525px; width: 100%;\" class=\"plotly-graph-div\"></div><script type=\"text/javascript\">require([\"plotly\"], function(Plotly) { window.PLOTLYENV=window.PLOTLYENV || {};window.PLOTLYENV.BASE_URL=\"https://plot.ly\";Plotly.newPlot(\"038d10ef-48a8-4245-b765-45486f8a050b\", [{\"x\": [1, 2, 3, 4, 5, 6, 7, 8, 9, 10, 11, 12, 13, 14, 15, 16, 17, 18, 19, 20, 21, 22, 23, 24, 25, 26, 27, 28, 29, 30, 31, 32, 33, 34], \"type\": \"scatter\", \"y\": [0.0, 33.33333333333333, 33.33333333333333, 66.66666666666666, 66.66666666666666, 66.66666666666666, 33.33333333333333, 0.0, 0.0, 0.0, 0.0, 0.0, 0.0, 0.0, 0.0, 0.0, 0.0, 0.0, 0.0, 0.0, 0.0, 0.0, 33.33333333333333, 66.66666666666666, 100.0, 100.0, 66.66666666666666, 33.33333333333333, 0.0, 33.33333333333333, 66.66666666666666, 66.66666666666666], \"line\": {\"color\": \"rgb(3,141,243)\"}, \"name\": \"AT content\"}, {\"x\": [1, 2, 3, 4, 5, 6, 7, 8, 9, 10, 11, 12, 13, 14, 15, 16, 17, 18, 19, 20, 21, 22, 23, 24, 25, 26, 27, 28, 29, 30, 31, 32, 33, 34], \"type\": \"scatter\", \"y\": [100.0, 66.66666666666666, 66.66666666666666, 33.33333333333333, 33.33333333333333, 33.33333333333333, 66.66666666666666, 100.0, 66.66666666666666, 33.33333333333333, 0.0, 0.0, 0.0, 0.0, 0.0, 0.0, 0.0, 0.0, 0.0, 0.0, 0.0, 0.0, 0.0, 0.0, 0.0, 0.0, 33.33333333333333, 66.66666666666666, 100.0, 66.66666666666666, 33.33333333333333, 0.0], \"line\": {\"color\": \"rgb(64,182,77)\"}, \"name\": \"GC content\"}, {\"x\": [1, 2, 3, 4, 5, 6, 7, 8, 9, 10, 11, 12, 13, 14, 15, 16, 17, 18, 19, 20, 21, 22, 23, 24, 25, 26, 27, 28, 29, 30, 31, 32, 33, 34], \"type\": \"scatter\", \"y\": [0.0, 0.0, 0.0, 0.0, 0.0, 0.0, 0.0, 0.0, 33.33333333333333, 66.66666666666666, 100.0, 100.0, 100.0, 100.0, 100.0, 100.0, 100.0, 100.0, 100.0, 100.0, 100.0, 100.0, 66.66666666666666, 33.33333333333333, 0.0, 0.0, 0.0, 0.0, 0.0, 0.0, 0.0, 33.33333333333333], \"line\": {\"color\": \"rgb(243,145,3)\"}, \"name\": \"N content\"}, {\"x\": [1, 2, 3, 4, 5, 6, 7, 8, 9, 10, 11, 12, 13, 14, 15, 16, 17, 18, 19, 20, 21, 22, 23, 24, 25, 26, 27, 28, 29, 30, 31, 32, 33, 34], \"type\": \"scatter\", \"y\": [0.0, 0.0, 0.0, 0.0, 0.0, 0.0, 0.0, 0.0, 0.0, 0.0, 0.0, 0.0, 0.0, 0.0, 0.0, 0.0, 0.0, 0.0, 0.0, 0.0, 0.0, 0.0, 0.0, 0.0, 0.0, 0.0, 0.0, 0.0, 0.0, 0.0, 0.0, 0.0], \"line\": {\"color\": \"rgb(171,3,243)\"}, \"name\": \"X content\"}], {\"xaxis\": {\"title\": \"Window iteration\", \"rangeslider\": {}}, \"title\": \"Sliding window for >lcl|:_13\", \"yaxis\": {\"title\": \"Percentage (%)\"}}, {\"showLink\": true, \"linkText\": \"Export to plot.ly\"})});</script>"
      ],
      "text/plain": [
       "<IPython.core.display.HTML object>"
      ]
     },
     "metadata": {},
     "output_type": "display_data"
    },
    {
     "data": {
      "text/html": [
       "<div id=\"be37913b-e389-47ec-af96-677481ffbdcd\" style=\"height: 525px; width: 100%;\" class=\"plotly-graph-div\"></div><script type=\"text/javascript\">require([\"plotly\"], function(Plotly) { window.PLOTLYENV=window.PLOTLYENV || {};window.PLOTLYENV.BASE_URL=\"https://plot.ly\";Plotly.newPlot(\"be37913b-e389-47ec-af96-677481ffbdcd\", [{\"x\": [1, 2, 3, 4, 5, 6, 7, 8, 9, 10, 11, 12, 13, 14, 15, 16, 17, 18, 19, 20, 21, 22, 23, 24, 25, 26, 27], \"type\": \"scatter\", \"y\": [66.66666666666666, 33.33333333333333, 0.0, 33.33333333333333, 33.33333333333333, 66.66666666666666, 66.66666666666666, 66.66666666666666, 33.33333333333333, 0.0, 0.0, 0.0, 0.0, 0.0, 0.0, 0.0, 0.0, 0.0, 33.33333333333333, 66.66666666666666, 100.0, 100.0, 66.66666666666666, 33.33333333333333, 0.0], \"line\": {\"color\": \"rgb(3,141,243)\"}, \"name\": \"AT content\"}, {\"x\": [1, 2, 3, 4, 5, 6, 7, 8, 9, 10, 11, 12, 13, 14, 15, 16, 17, 18, 19, 20, 21, 22, 23, 24, 25, 26, 27], \"type\": \"scatter\", \"y\": [33.33333333333333, 66.66666666666666, 100.0, 66.66666666666666, 66.66666666666666, 33.33333333333333, 33.33333333333333, 33.33333333333333, 66.66666666666666, 100.0, 66.66666666666666, 33.33333333333333, 0.0, 0.0, 0.0, 0.0, 0.0, 0.0, 0.0, 0.0, 0.0, 0.0, 33.33333333333333, 66.66666666666666, 100.0], \"line\": {\"color\": \"rgb(64,182,77)\"}, \"name\": \"GC content\"}, {\"x\": [1, 2, 3, 4, 5, 6, 7, 8, 9, 10, 11, 12, 13, 14, 15, 16, 17, 18, 19, 20, 21, 22, 23, 24, 25, 26, 27], \"type\": \"scatter\", \"y\": [0.0, 0.0, 0.0, 0.0, 0.0, 0.0, 0.0, 0.0, 0.0, 0.0, 0.0, 0.0, 0.0, 33.33333333333333, 66.66666666666666, 100.0, 100.0, 100.0, 66.66666666666666, 33.33333333333333, 0.0, 0.0, 0.0, 0.0, 0.0], \"line\": {\"color\": \"rgb(243,145,3)\"}, \"name\": \"N content\"}, {\"x\": [1, 2, 3, 4, 5, 6, 7, 8, 9, 10, 11, 12, 13, 14, 15, 16, 17, 18, 19, 20, 21, 22, 23, 24, 25, 26, 27], \"type\": \"scatter\", \"y\": [0.0, 0.0, 0.0, 0.0, 0.0, 0.0, 0.0, 0.0, 0.0, 0.0, 33.33333333333333, 66.66666666666666, 100.0, 66.66666666666666, 33.33333333333333, 0.0, 0.0, 0.0, 0.0, 0.0, 0.0, 0.0, 0.0, 0.0, 0.0], \"line\": {\"color\": \"rgb(171,3,243)\"}, \"name\": \"X content\"}], {\"xaxis\": {\"title\": \"Window iteration\", \"rangeslider\": {}}, \"title\": \"Sliding window for >lcl|:_14\", \"yaxis\": {\"title\": \"Percentage (%)\"}}, {\"showLink\": true, \"linkText\": \"Export to plot.ly\"})});</script>"
      ],
      "text/plain": [
       "<IPython.core.display.HTML object>"
      ]
     },
     "metadata": {},
     "output_type": "display_data"
    }
   ],
   "source": [
    "#SynMap2GCcontent\n",
    "##Step 1 Importing FASTA files\n",
    "\n",
    "####Import library\n",
    "import os\n",
    "from itertools import islice\n",
    "from itertools import chain, repeat\n",
    "import numpy as np\n",
    "from plotly import __version__\n",
    "from plotly.offline import download_plotlyjs, init_notebook_mode, plot, iplot\n",
    "from plotly.graph_objs import Bar, Scatter, Figure, Layout\n",
    "init_notebook_mode(connected=True)\n",
    "# import sys\n",
    "# from multiprocessing import Process\n",
    "\n",
    "\n",
    "####Global variables \n",
    "header = []\n",
    "nucleotides = []\n",
    "window_size = 3\n",
    "\n",
    "\n",
    "####File input/path\n",
    "#my_file = open(os.path.expanduser('Plasmodium_chabaudi_chabaudi_strain_AS.faa'))\n",
    "my_file = open(os.path.expanduser('Plasmodium__test.faa'))\n",
    "#my_file = open(os.path.expanduser('Plasmodium_chabaudi_chabaudi_TEST2.faa'))\n",
    "file_contents = my_file.read()\n",
    "file_contents_lower = file_contents.lower()                                                    #Lowercases all strings in file\n",
    "file_contents_lower_split = file_contents_lower.split()                                        #Split the whole file string into words\n",
    "                                                                       \n",
    "\n",
    "##Step 2 Separating the file from a single string into two lists    \n",
    "for i in file_contents_lower_split:                                                            #Divides words into two lists: one with the simbol \">\" and the other one without it\n",
    "    if \">\" in i:\n",
    "        header.append(i)\n",
    "    else:\n",
    "        nucleotides.append(i)\n",
    "\n",
    "\n",
    "def window(seq, window_size):\n",
    "#Creates a sliding window rolling on the sequence\n",
    "    foriter = []\n",
    "    for n in seq:\n",
    "        foriter.append(n)\n",
    "    lst = iter(foriter)\n",
    "    result = tuple(islice(lst, window_size))\n",
    "    if len(result) == window_size:\n",
    "        yield list(result)    \n",
    "    for elem in lst:\n",
    "        result = result[1:] + (elem,)\n",
    "        yield list(result)\n",
    "\n",
    "\n",
    "def AT_counter(seq):\n",
    "#Performs a rolling calculation of AT% for the sequence in the corresponding sequence segment\n",
    "    seq_tuple = window(seq, window_size)\n",
    "    frag_list_at = []\n",
    "    frag_lenghts = []\n",
    "    for n in seq_tuple:    \n",
    "        l = len(n)\n",
    "        frag_lenghts.append(l)\n",
    "        count_a = n.count('t')\n",
    "        count_t = n.count('a')\n",
    "        count_at = count_a+count_t\n",
    "        percent_at = (float(count_at/l))*100\n",
    "        frag_list_at.append(percent_at)\n",
    "        percent_array_at = np.asarray(frag_list_at)\n",
    "    return percent_array_at\n",
    "\n",
    "\n",
    "def GC_counter(seq):\n",
    "#Performs a rolling calculation of GC% for the sequence in the corresponding sequence segment\n",
    "    seq_tuple = window(seq, window_size)\n",
    "    frag_list_gc = []\n",
    "    frag_lenghts = []\n",
    "    for n in seq_tuple:    \n",
    "        l = len(n)\n",
    "        frag_lenghts.append(l)\n",
    "        count_g = n.count('g')\n",
    "        count_c = n.count('c')\n",
    "        count_gc = count_g+count_c\n",
    "        percent_gc = (float(count_gc/l))*100\n",
    "        frag_list_gc.append(percent_gc)\n",
    "        percent_array_gc = np.asarray(frag_list_gc)\n",
    "    return percent_array_gc\n",
    "\n",
    "\n",
    "def X_counter(seq):\n",
    "#Performs a rolling calculation of X% for the sequence in the corresponding sequence segment\n",
    "    seq_tuple = window(seq, window_size)\n",
    "    frag_list_x = []\n",
    "    frag_lenghts = []\n",
    "    for n in seq_tuple:    \n",
    "        l = len(n)\n",
    "        frag_lenghts.append(l)\n",
    "        count_x = n.count('x')\n",
    "        percent_x = (float(count_x/l))*100\n",
    "        frag_list_x.append(percent_x)\n",
    "        percent_array_x = np.asarray(frag_list_x)\n",
    "    return percent_array_x\n",
    "\n",
    "\n",
    "def N_counter(seq):\n",
    "#Performs a rolling calculation of N% for the sequence in the corresponding sequence segment\n",
    "    seq_tuple = window(seq, window_size)\n",
    "    frag_list_n = []\n",
    "    frag_lenghts = []\n",
    "    for n in seq_tuple:    \n",
    "        l = len(n)\n",
    "        frag_lenghts.append(l)\n",
    "        count_n = n.count('n')\n",
    "        percent_n = (float(count_n/l))*100\n",
    "        frag_list_n.append(percent_n)\n",
    "        percent_array_n = np.asarray(frag_list_n)\n",
    "    return percent_array_n\n",
    "\n",
    "\n",
    "def positioner(seq):\n",
    "#Loops for every nucleotide per sequence, counts the number of positions and adds them to the position list\n",
    "    l = 0\n",
    "    position = []\n",
    "    for l in range(0,len(seq)):                                                              \n",
    "        l = l+1\n",
    "        position.append(l)\n",
    "        position_array = np.asarray(position)\n",
    "    return position_array\n",
    "\n",
    "\n",
    "\n",
    "def plotly(nucleo):\n",
    "    for seq, name in zip(nucleotides,header):\n",
    "        AT_cnt_arr = AT_counter(seq)        \n",
    "        GC_cnt_arr = GC_counter(seq)\n",
    "        N_cnt_arr = N_counter(seq)\n",
    "        X_cnt_arr = X_counter(seq)\n",
    "        pos_arr = positioner(seq)\n",
    "               \n",
    "        AT_trace = Scatter(\n",
    "        y = AT_cnt_arr,\n",
    "        x = pos_arr,\n",
    "        name='AT content',\n",
    "        line = dict(color = ('rgb(3,141,243)'))) #Blue\n",
    "        \n",
    "        GC_trace = Scatter(\n",
    "        y = GC_cnt_arr,\n",
    "        x = pos_arr,\n",
    "        name='GC content',\n",
    "        line = dict(color = ('rgb(64,182,77)'))) #Green\n",
    "        \n",
    "        \n",
    "        N_trace = Scatter(\n",
    "        y = N_cnt_arr,\n",
    "        x = pos_arr,\n",
    "        name='N content',\n",
    "        line = dict(color = ('rgb(243,145,3)'))) #Orange\n",
    "        \n",
    "        X_trace = Scatter(\n",
    "        y = X_cnt_arr,\n",
    "        x = pos_arr,\n",
    "        name='X content',\n",
    "        line = dict(color = ('rgb(171,3,243)'))) #Purple\n",
    "    \n",
    "    \n",
    "        data = [AT_trace, GC_trace, N_trace, X_trace]  \n",
    "\n",
    "        \n",
    "        layout = dict(title='Sliding window for '+ name,xaxis=dict(title='Window iteration',rangeslider=dict()),yaxis=dict(title='Percentage (%)'))\n",
    "        fig = dict(data=data, layout=layout)\n",
    "        iplot(fig)\n",
    "    \n",
    "    return\n",
    "\n",
    "    \n",
    "plotly(nucleotides)"
   ]
  },
  {
   "cell_type": "code",
   "execution_count": null,
   "metadata": {
    "collapsed": true
   },
   "outputs": [],
   "source": []
  }
 ],
 "metadata": {
  "anaconda-cloud": {},
  "kernelspec": {
   "display_name": "Python [conda env:py35]",
   "language": "python",
   "name": "conda-env-py35-py"
  },
  "language_info": {
   "codemirror_mode": {
    "name": "ipython",
    "version": 3
   },
   "file_extension": ".py",
   "mimetype": "text/x-python",
   "name": "python",
   "nbconvert_exporter": "python",
   "pygments_lexer": "ipython3",
   "version": "3.5.2"
  }
 },
 "nbformat": 4,
 "nbformat_minor": 1
}
